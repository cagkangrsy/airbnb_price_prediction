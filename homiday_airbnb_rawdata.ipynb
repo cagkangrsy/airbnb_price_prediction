{
 "cells": [
  {
   "cell_type": "markdown",
   "metadata": {
    "id": "3XCRIq_IaZ8U"
   },
   "source": [
    "# Libraries\n"
   ]
  },
  {
   "cell_type": "code",
   "execution_count": 1,
   "metadata": {
    "colab": {
     "base_uri": "https://localhost:8080/"
    },
    "id": "6rCQTyIgVhE1",
    "outputId": "5cbd97ea-afc9-4341-f7a4-c9ae79870539"
   },
   "outputs": [
    {
     "name": "stdout",
     "output_type": "stream",
     "text": [
      "Looking in indexes: https://pypi.org/simple, https://us-python.pkg.dev/colab-wheels/public/simple/\n",
      "Collecting catboost\n",
      "  Downloading catboost-1.1.1-cp38-none-manylinux1_x86_64.whl (76.6 MB)\n",
      "\u001b[2K     \u001b[90m━━━━━━━━━━━━━━━━━━━━━━━━━━━━━━━━━━━━━━━━\u001b[0m \u001b[32m76.6/76.6 MB\u001b[0m \u001b[31m11.0 MB/s\u001b[0m eta \u001b[36m0:00:00\u001b[0m\n",
      "\u001b[?25hRequirement already satisfied: graphviz in /usr/local/lib/python3.8/dist-packages (from catboost) (0.10.1)\n",
      "Requirement already satisfied: plotly in /usr/local/lib/python3.8/dist-packages (from catboost) (5.5.0)\n",
      "Requirement already satisfied: six in /usr/local/lib/python3.8/dist-packages (from catboost) (1.15.0)\n",
      "Requirement already satisfied: pandas>=0.24.0 in /usr/local/lib/python3.8/dist-packages (from catboost) (1.3.5)\n",
      "Requirement already satisfied: matplotlib in /usr/local/lib/python3.8/dist-packages (from catboost) (3.2.2)\n",
      "Requirement already satisfied: scipy in /usr/local/lib/python3.8/dist-packages (from catboost) (1.7.3)\n",
      "Requirement already satisfied: numpy>=1.16.0 in /usr/local/lib/python3.8/dist-packages (from catboost) (1.21.6)\n",
      "Requirement already satisfied: pytz>=2017.3 in /usr/local/lib/python3.8/dist-packages (from pandas>=0.24.0->catboost) (2022.7)\n",
      "Requirement already satisfied: python-dateutil>=2.7.3 in /usr/local/lib/python3.8/dist-packages (from pandas>=0.24.0->catboost) (2.8.2)\n",
      "Requirement already satisfied: pyparsing!=2.0.4,!=2.1.2,!=2.1.6,>=2.0.1 in /usr/local/lib/python3.8/dist-packages (from matplotlib->catboost) (3.0.9)\n",
      "Requirement already satisfied: kiwisolver>=1.0.1 in /usr/local/lib/python3.8/dist-packages (from matplotlib->catboost) (1.4.4)\n",
      "Requirement already satisfied: cycler>=0.10 in /usr/local/lib/python3.8/dist-packages (from matplotlib->catboost) (0.11.0)\n",
      "Requirement already satisfied: tenacity>=6.2.0 in /usr/local/lib/python3.8/dist-packages (from plotly->catboost) (8.1.0)\n",
      "Installing collected packages: catboost\n",
      "Successfully installed catboost-1.1.1\n"
     ]
    }
   ],
   "source": [
    "pip install catboost"
   ]
  },
  {
   "cell_type": "code",
   "execution_count": 2,
   "metadata": {
    "colab": {
     "base_uri": "https://localhost:8080/"
    },
    "id": "OB23sM6HVhE4",
    "outputId": "e380b513-2dec-45bf-bdcf-0583cebf14ae"
   },
   "outputs": [
    {
     "name": "stdout",
     "output_type": "stream",
     "text": [
      "Looking in indexes: https://pypi.org/simple, https://us-python.pkg.dev/colab-wheels/public/simple/\n",
      "Collecting currencyconverter\n",
      "  Downloading CurrencyConverter-0.17.5-py3-none-any.whl (563 kB)\n",
      "\u001b[2K     \u001b[90m━━━━━━━━━━━━━━━━━━━━━━━━━━━━━━━━━━━━━━━\u001b[0m \u001b[32m563.6/563.6 KB\u001b[0m \u001b[31m8.8 MB/s\u001b[0m eta \u001b[36m0:00:00\u001b[0m\n",
      "\u001b[?25hInstalling collected packages: currencyconverter\n",
      "Successfully installed currencyconverter-0.17.5\n"
     ]
    }
   ],
   "source": [
    "pip install currencyconverter"
   ]
  },
  {
   "cell_type": "code",
   "execution_count": 2,
   "metadata": {
    "id": "O-yHThcAVhE5"
   },
   "outputs": [],
   "source": [
    "import numpy as np\n",
    "import pandas as pd\n",
    "import matplotlib.pyplot as plt\n",
    "import seaborn as sns\n",
    "import warnings\n",
    "import datetime as dt\n",
    "from currency_converter import CurrencyConverter\n",
    "from lightgbm import LGBMRegressor\n",
    "from sklearn.exceptions import ConvergenceWarning\n",
    "from sklearn.preprocessing import LabelEncoder\n",
    "from sklearn.metrics import mean_squared_error, r2_score\n",
    "from sklearn.model_selection import train_test_split"
   ]
  },
  {
   "cell_type": "code",
   "execution_count": 3,
   "metadata": {
    "id": "gpuUhDQ3VhE5"
   },
   "outputs": [],
   "source": [
    "warnings.simplefilter(action='ignore', category=FutureWarning)\n",
    "warnings.simplefilter(\"ignore\", category=ConvergenceWarning)"
   ]
  },
  {
   "cell_type": "code",
   "execution_count": 4,
   "metadata": {
    "id": "TiDMkqttVhE6"
   },
   "outputs": [],
   "source": [
    "pd.set_option('display.max_columns', None)\n",
    "pd.set_option('display.max_rows', None)\n",
    "pd.set_option('display.width', 500)\n",
    "pd.set_option('display.float_format', lambda x: '%.3f' % x)"
   ]
  },
  {
   "cell_type": "markdown",
   "metadata": {
    "id": "bHafyxvOmyvc"
   },
   "source": [
    "# Reading the Data"
   ]
  },
  {
   "cell_type": "code",
   "execution_count": 5,
   "metadata": {
    "colab": {
     "base_uri": "https://localhost:8080/"
    },
    "id": "FDilNhPsVhE6",
    "outputId": "5ef59df6-ef93-4596-ac64-ebd882aa42c4"
   },
   "outputs": [
    {
     "name": "stderr",
     "output_type": "stream",
     "text": [
      "C:\\Users\\Cagkan\\AppData\\Local\\Temp\\ipykernel_14000\\2674411829.py:1: DtypeWarning: Columns (30,69) have mixed types. Specify dtype option on import or set low_memory=False.\n",
      "  df = pd.read_csv(\"Datasets/df_listings.csv\")\n"
     ]
    }
   ],
   "source": [
    "df = pd.read_csv(\"Datasets/df_listings.csv\")"
   ]
  },
  {
   "cell_type": "code",
   "execution_count": 8,
   "metadata": {
    "id": "g57agD7hVhE6"
   },
   "outputs": [],
   "source": [
    "def get_df_name(df):\n",
    "    name =[x for x in globals() if globals()[x] is df][0]\n",
    "    return name"
   ]
  },
  {
   "cell_type": "code",
   "execution_count": 9,
   "metadata": {
    "id": "6Of1Ru8hVhE7"
   },
   "outputs": [],
   "source": [
    "def general_info (dataframe):\n",
    "    print('\\033[1m' +f'{get_df_name(dataframe).upper()}'+'\\033[0m')\n",
    "    print(\"\\n\")\n",
    "    print('\\033[1m' +f\" SHAPE \".center(30, '-')+'\\033[0m')\n",
    "    print(dataframe.shape,\"\\n\")\n",
    "    print('\\033[1m' +f\" VARIABLE TYPES \".center(30, '-')+'\\033[0m')\n",
    "    print(dataframe.info(),\"\\n\")\n",
    "    print('\\033[1m' +f\" NULL VALUE \".center(30, '-')+'\\033[0m')\n",
    "    print(dataframe.isnull().sum(),\"\\n\")"
   ]
  },
  {
   "cell_type": "code",
   "execution_count": 10,
   "metadata": {
    "colab": {
     "base_uri": "https://localhost:8080/"
    },
    "id": "4zP8TzjdVhE7",
    "outputId": "b18d923f-0708-4eb6-9163-309b6d2041b3"
   },
   "outputs": [
    {
     "name": "stdout",
     "output_type": "stream",
     "text": [
      "\u001b[1mDF\u001b[0m\n",
      "\n",
      "\n",
      "\u001b[1m----------- SHAPE ------------\u001b[0m\n",
      "(245139, 77) \n",
      "\n",
      "\u001b[1m------- VARIABLE TYPES -------\u001b[0m\n",
      "<class 'pandas.core.frame.DataFrame'>\n",
      "RangeIndex: 245139 entries, 0 to 245138\n",
      "Data columns (total 77 columns):\n",
      " #   Column                                        Non-Null Count   Dtype  \n",
      "---  ------                                        --------------   -----  \n",
      " 0   Unnamed: 0                                    245139 non-null  int64  \n",
      " 1   id                                            245139 non-null  int64  \n",
      " 2   listing_url                                   245139 non-null  object \n",
      " 3   scrape_id                                     245139 non-null  int64  \n",
      " 4   last_scraped                                  245139 non-null  object \n",
      " 5   source                                        245139 non-null  object \n",
      " 6   name                                          245038 non-null  object \n",
      " 7   description                                   241050 non-null  object \n",
      " 8   neighborhood_overview                         139580 non-null  object \n",
      " 9   picture_url                                   245137 non-null  object \n",
      " 10  host_id                                       245139 non-null  int64  \n",
      " 11  host_url                                      245139 non-null  object \n",
      " 12  host_name                                     245099 non-null  object \n",
      " 13  host_since                                    245099 non-null  object \n",
      " 14  host_location                                 200641 non-null  object \n",
      " 15  host_about                                    125502 non-null  object \n",
      " 16  host_response_time                            177111 non-null  object \n",
      " 17  host_response_rate                            177111 non-null  object \n",
      " 18  host_acceptance_rate                          189118 non-null  object \n",
      " 19  host_is_superhost                             245035 non-null  object \n",
      " 20  host_thumbnail_url                            245099 non-null  object \n",
      " 21  host_picture_url                              245099 non-null  object \n",
      " 22  host_neighbourhood                            128173 non-null  object \n",
      " 23  host_listings_count                           245099 non-null  float64\n",
      " 24  host_total_listings_count                     245099 non-null  float64\n",
      " 25  host_verifications                            245139 non-null  object \n",
      " 26  host_has_profile_pic                          245099 non-null  object \n",
      " 27  host_identity_verified                        245099 non-null  object \n",
      " 28  neighbourhood                                 139581 non-null  object \n",
      " 29  neighbourhood_cleansed                        245139 non-null  object \n",
      " 30  neighbourhood_group_cleansed                  74825 non-null   object \n",
      " 31  latitude                                      245139 non-null  float64\n",
      " 32  longitude                                     245139 non-null  float64\n",
      " 33  property_type                                 245139 non-null  object \n",
      " 34  room_type                                     245139 non-null  object \n",
      " 35  accommodates                                  245139 non-null  int64  \n",
      " 36  bathrooms                                     0 non-null       float64\n",
      " 37  bathrooms_text                                244763 non-null  object \n",
      " 38  bedrooms                                      223308 non-null  float64\n",
      " 39  beds                                          241458 non-null  float64\n",
      " 40  amenities                                     245139 non-null  object \n",
      " 41  price                                         245139 non-null  object \n",
      " 42  minimum_nights                                245139 non-null  int64  \n",
      " 43  maximum_nights                                245139 non-null  int64  \n",
      " 44  minimum_minimum_nights                        245114 non-null  float64\n",
      " 45  maximum_minimum_nights                        245114 non-null  float64\n",
      " 46  minimum_maximum_nights                        245114 non-null  float64\n",
      " 47  maximum_maximum_nights                        245114 non-null  float64\n",
      " 48  minimum_nights_avg_ntm                        245114 non-null  float64\n",
      " 49  maximum_nights_avg_ntm                        245114 non-null  float64\n",
      " 50  calendar_updated                              0 non-null       float64\n",
      " 51  has_availability                              245139 non-null  object \n",
      " 52  availability_30                               245139 non-null  int64  \n",
      " 53  availability_60                               245139 non-null  int64  \n",
      " 54  availability_90                               245139 non-null  int64  \n",
      " 55  availability_365                              245139 non-null  int64  \n",
      " 56  calendar_last_scraped                         245139 non-null  object \n",
      " 57  number_of_reviews                             245139 non-null  int64  \n",
      " 58  number_of_reviews_ltm                         245139 non-null  int64  \n",
      " 59  number_of_reviews_l30d                        245139 non-null  int64  \n",
      " 60  first_review                                  203314 non-null  object \n",
      " 61  last_review                                   203314 non-null  object \n",
      " 62  review_scores_rating                          203315 non-null  float64\n",
      " 63  review_scores_accuracy                        201629 non-null  float64\n",
      " 64  review_scores_cleanliness                     201644 non-null  float64\n",
      " 65  review_scores_checkin                         201601 non-null  float64\n",
      " 66  review_scores_communication                   201636 non-null  float64\n",
      " 67  review_scores_location                        201593 non-null  float64\n",
      " 68  review_scores_value                           201585 non-null  float64\n",
      " 69  license                                       90236 non-null   object \n",
      " 70  instant_bookable                              245139 non-null  object \n",
      " 71  calculated_host_listings_count                245139 non-null  int64  \n",
      " 72  calculated_host_listings_count_entire_homes   245139 non-null  int64  \n",
      " 73  calculated_host_listings_count_private_rooms  245139 non-null  int64  \n",
      " 74  calculated_host_listings_count_shared_rooms   245139 non-null  int64  \n",
      " 75  reviews_per_month                             203314 non-null  float64\n",
      " 76  city                                          245139 non-null  object \n",
      "dtypes: float64(22), int64(18), object(37)\n",
      "memory usage: 144.0+ MB\n",
      "None \n",
      "\n",
      "\u001b[1m--------- NULL VALUE ---------\u001b[0m\n",
      "Unnamed: 0                                           0\n",
      "id                                                   0\n",
      "listing_url                                          0\n",
      "scrape_id                                            0\n",
      "last_scraped                                         0\n",
      "source                                               0\n",
      "name                                               101\n",
      "description                                       4089\n",
      "neighborhood_overview                           105559\n",
      "picture_url                                          2\n",
      "host_id                                              0\n",
      "host_url                                             0\n",
      "host_name                                           40\n",
      "host_since                                          40\n",
      "host_location                                    44498\n",
      "host_about                                      119637\n",
      "host_response_time                               68028\n",
      "host_response_rate                               68028\n",
      "host_acceptance_rate                             56021\n",
      "host_is_superhost                                  104\n",
      "host_thumbnail_url                                  40\n",
      "host_picture_url                                    40\n",
      "host_neighbourhood                              116966\n",
      "host_listings_count                                 40\n",
      "host_total_listings_count                           40\n",
      "host_verifications                                   0\n",
      "host_has_profile_pic                                40\n",
      "host_identity_verified                              40\n",
      "neighbourhood                                   105558\n",
      "neighbourhood_cleansed                               0\n",
      "neighbourhood_group_cleansed                    170314\n",
      "latitude                                             0\n",
      "longitude                                            0\n",
      "property_type                                        0\n",
      "room_type                                            0\n",
      "accommodates                                         0\n",
      "bathrooms                                       245139\n",
      "bathrooms_text                                     376\n",
      "bedrooms                                         21831\n",
      "beds                                              3681\n",
      "amenities                                            0\n",
      "price                                                0\n",
      "minimum_nights                                       0\n",
      "maximum_nights                                       0\n",
      "minimum_minimum_nights                              25\n",
      "maximum_minimum_nights                              25\n",
      "minimum_maximum_nights                              25\n",
      "maximum_maximum_nights                              25\n",
      "minimum_nights_avg_ntm                              25\n",
      "maximum_nights_avg_ntm                              25\n",
      "calendar_updated                                245139\n",
      "has_availability                                     0\n",
      "availability_30                                      0\n",
      "availability_60                                      0\n",
      "availability_90                                      0\n",
      "availability_365                                     0\n",
      "calendar_last_scraped                                0\n",
      "number_of_reviews                                    0\n",
      "number_of_reviews_ltm                                0\n",
      "number_of_reviews_l30d                               0\n",
      "first_review                                     41825\n",
      "last_review                                      41825\n",
      "review_scores_rating                             41824\n",
      "review_scores_accuracy                           43510\n",
      "review_scores_cleanliness                        43495\n",
      "review_scores_checkin                            43538\n",
      "review_scores_communication                      43503\n",
      "review_scores_location                           43546\n",
      "review_scores_value                              43554\n",
      "license                                         154903\n",
      "instant_bookable                                     0\n",
      "calculated_host_listings_count                       0\n",
      "calculated_host_listings_count_entire_homes          0\n",
      "calculated_host_listings_count_private_rooms         0\n",
      "calculated_host_listings_count_shared_rooms          0\n",
      "reviews_per_month                                41825\n",
      "city                                                 0\n",
      "dtype: int64 \n",
      "\n"
     ]
    }
   ],
   "source": [
    "general_info(df)"
   ]
  },
  {
   "cell_type": "code",
   "execution_count": 11,
   "metadata": {
    "colab": {
     "base_uri": "https://localhost:8080/",
     "height": 652
    },
    "id": "2dGUfgs7y-0q",
    "outputId": "dd83721f-1079-48ba-f594-955214ecf30d"
   },
   "outputs": [
    {
     "data": {
      "text/html": [
       "\n",
       "  <div id=\"df-284e78b2-3077-48a3-8024-b20a669b3a4b\">\n",
       "    <div class=\"colab-df-container\">\n",
       "      <div>\n",
       "<style scoped>\n",
       "    .dataframe tbody tr th:only-of-type {\n",
       "        vertical-align: middle;\n",
       "    }\n",
       "\n",
       "    .dataframe tbody tr th {\n",
       "        vertical-align: top;\n",
       "    }\n",
       "\n",
       "    .dataframe thead th {\n",
       "        text-align: right;\n",
       "    }\n",
       "</style>\n",
       "<table border=\"1\" class=\"dataframe\">\n",
       "  <thead>\n",
       "    <tr style=\"text-align: right;\">\n",
       "      <th></th>\n",
       "      <th>Unnamed: 0</th>\n",
       "      <th>id</th>\n",
       "      <th>listing_url</th>\n",
       "      <th>scrape_id</th>\n",
       "      <th>last_scraped</th>\n",
       "      <th>source</th>\n",
       "      <th>name</th>\n",
       "      <th>description</th>\n",
       "      <th>neighborhood_overview</th>\n",
       "      <th>picture_url</th>\n",
       "      <th>host_id</th>\n",
       "      <th>host_url</th>\n",
       "      <th>host_name</th>\n",
       "      <th>host_since</th>\n",
       "      <th>host_location</th>\n",
       "      <th>host_about</th>\n",
       "      <th>host_response_time</th>\n",
       "      <th>host_response_rate</th>\n",
       "      <th>host_acceptance_rate</th>\n",
       "      <th>host_is_superhost</th>\n",
       "      <th>host_thumbnail_url</th>\n",
       "      <th>host_picture_url</th>\n",
       "      <th>host_neighbourhood</th>\n",
       "      <th>host_listings_count</th>\n",
       "      <th>host_total_listings_count</th>\n",
       "      <th>host_verifications</th>\n",
       "      <th>host_has_profile_pic</th>\n",
       "      <th>host_identity_verified</th>\n",
       "      <th>neighbourhood</th>\n",
       "      <th>neighbourhood_cleansed</th>\n",
       "      <th>neighbourhood_group_cleansed</th>\n",
       "      <th>latitude</th>\n",
       "      <th>longitude</th>\n",
       "      <th>property_type</th>\n",
       "      <th>room_type</th>\n",
       "      <th>accommodates</th>\n",
       "      <th>bathrooms</th>\n",
       "      <th>bathrooms_text</th>\n",
       "      <th>bedrooms</th>\n",
       "      <th>beds</th>\n",
       "      <th>amenities</th>\n",
       "      <th>price</th>\n",
       "      <th>minimum_nights</th>\n",
       "      <th>maximum_nights</th>\n",
       "      <th>minimum_minimum_nights</th>\n",
       "      <th>maximum_minimum_nights</th>\n",
       "      <th>minimum_maximum_nights</th>\n",
       "      <th>maximum_maximum_nights</th>\n",
       "      <th>minimum_nights_avg_ntm</th>\n",
       "      <th>maximum_nights_avg_ntm</th>\n",
       "      <th>calendar_updated</th>\n",
       "      <th>has_availability</th>\n",
       "      <th>availability_30</th>\n",
       "      <th>availability_60</th>\n",
       "      <th>availability_90</th>\n",
       "      <th>availability_365</th>\n",
       "      <th>calendar_last_scraped</th>\n",
       "      <th>number_of_reviews</th>\n",
       "      <th>number_of_reviews_ltm</th>\n",
       "      <th>number_of_reviews_l30d</th>\n",
       "      <th>first_review</th>\n",
       "      <th>last_review</th>\n",
       "      <th>review_scores_rating</th>\n",
       "      <th>review_scores_accuracy</th>\n",
       "      <th>review_scores_cleanliness</th>\n",
       "      <th>review_scores_checkin</th>\n",
       "      <th>review_scores_communication</th>\n",
       "      <th>review_scores_location</th>\n",
       "      <th>review_scores_value</th>\n",
       "      <th>license</th>\n",
       "      <th>instant_bookable</th>\n",
       "      <th>calculated_host_listings_count</th>\n",
       "      <th>calculated_host_listings_count_entire_homes</th>\n",
       "      <th>calculated_host_listings_count_private_rooms</th>\n",
       "      <th>calculated_host_listings_count_shared_rooms</th>\n",
       "      <th>reviews_per_month</th>\n",
       "      <th>city</th>\n",
       "    </tr>\n",
       "  </thead>\n",
       "  <tbody>\n",
       "    <tr>\n",
       "      <th>0</th>\n",
       "      <td>0</td>\n",
       "      <td>2818</td>\n",
       "      <td>https://www.airbnb.com/rooms/2818</td>\n",
       "      <td>20220907151523</td>\n",
       "      <td>2022-09-07</td>\n",
       "      <td>city scrape</td>\n",
       "      <td>Quiet Garden View Room &amp; Super Fast WiFi</td>\n",
       "      <td>Quiet Garden View Room &amp; Super Fast WiFi&lt;br /&gt;...</td>\n",
       "      <td>Indische Buurt (\"Indies Neighborhood\") is a ne...</td>\n",
       "      <td>https://a0.muscache.com/pictures/10272854/8dcc...</td>\n",
       "      <td>3159</td>\n",
       "      <td>https://www.airbnb.com/users/show/3159</td>\n",
       "      <td>Daniel</td>\n",
       "      <td>2008-09-24</td>\n",
       "      <td>Amsterdam, Netherlands</td>\n",
       "      <td>Upon arriving in Amsterdam, one can imagine as...</td>\n",
       "      <td>within an hour</td>\n",
       "      <td>100%</td>\n",
       "      <td>100%</td>\n",
       "      <td>t</td>\n",
       "      <td>https://a0.muscache.com/im/users/3159/profile_...</td>\n",
       "      <td>https://a0.muscache.com/im/users/3159/profile_...</td>\n",
       "      <td>Indische Buurt</td>\n",
       "      <td>1.000</td>\n",
       "      <td>1.000</td>\n",
       "      <td>['email', 'phone']</td>\n",
       "      <td>t</td>\n",
       "      <td>t</td>\n",
       "      <td>Amsterdam, North Holland, Netherlands</td>\n",
       "      <td>Oostelijk Havengebied - Indische Buurt</td>\n",
       "      <td>NaN</td>\n",
       "      <td>52.364</td>\n",
       "      <td>4.944</td>\n",
       "      <td>Private room in rental unit</td>\n",
       "      <td>Private room</td>\n",
       "      <td>2</td>\n",
       "      <td>NaN</td>\n",
       "      <td>1.5 shared baths</td>\n",
       "      <td>1.000</td>\n",
       "      <td>2.000</td>\n",
       "      <td>[\"Fire extinguisher\", \"Private entrance\", \"Lau...</td>\n",
       "      <td>$49.00</td>\n",
       "      <td>3</td>\n",
       "      <td>28</td>\n",
       "      <td>3.000</td>\n",
       "      <td>3.000</td>\n",
       "      <td>1125.000</td>\n",
       "      <td>1125.000</td>\n",
       "      <td>3.000</td>\n",
       "      <td>1125.000</td>\n",
       "      <td>NaN</td>\n",
       "      <td>t</td>\n",
       "      <td>1</td>\n",
       "      <td>9</td>\n",
       "      <td>14</td>\n",
       "      <td>14</td>\n",
       "      <td>2022-09-07</td>\n",
       "      <td>305</td>\n",
       "      <td>25</td>\n",
       "      <td>1</td>\n",
       "      <td>2009-03-30</td>\n",
       "      <td>2022-08-30</td>\n",
       "      <td>4.890</td>\n",
       "      <td>4.940</td>\n",
       "      <td>5.000</td>\n",
       "      <td>4.970</td>\n",
       "      <td>4.980</td>\n",
       "      <td>4.690</td>\n",
       "      <td>4.820</td>\n",
       "      <td>0363 5F3A 5684 6750 D14D</td>\n",
       "      <td>t</td>\n",
       "      <td>1</td>\n",
       "      <td>0</td>\n",
       "      <td>1</td>\n",
       "      <td>0</td>\n",
       "      <td>1.860</td>\n",
       "      <td>Amsterdam</td>\n",
       "    </tr>\n",
       "    <tr>\n",
       "      <th>1</th>\n",
       "      <td>1</td>\n",
       "      <td>20168</td>\n",
       "      <td>https://www.airbnb.com/rooms/20168</td>\n",
       "      <td>20220907151523</td>\n",
       "      <td>2022-09-07</td>\n",
       "      <td>previous scrape</td>\n",
       "      <td>Studio with private bathroom in the centre 1</td>\n",
       "      <td>17th century Dutch townhouse in the heart of t...</td>\n",
       "      <td>Located just in between famous central canals....</td>\n",
       "      <td>https://a0.muscache.com/pictures/69979628/fd6a...</td>\n",
       "      <td>59484</td>\n",
       "      <td>https://www.airbnb.com/users/show/59484</td>\n",
       "      <td>Alexander</td>\n",
       "      <td>2009-12-02</td>\n",
       "      <td>Amsterdam, Netherlands</td>\n",
       "      <td>+ (Phone number hidden by Airbnb)</td>\n",
       "      <td>within an hour</td>\n",
       "      <td>100%</td>\n",
       "      <td>98%</td>\n",
       "      <td>f</td>\n",
       "      <td>https://a0.muscache.com/im/pictures/user/65092...</td>\n",
       "      <td>https://a0.muscache.com/im/pictures/user/65092...</td>\n",
       "      <td>Grachtengordel</td>\n",
       "      <td>5.000</td>\n",
       "      <td>5.000</td>\n",
       "      <td>['email', 'phone']</td>\n",
       "      <td>t</td>\n",
       "      <td>t</td>\n",
       "      <td>Amsterdam, North Holland, Netherlands</td>\n",
       "      <td>Centrum-Oost</td>\n",
       "      <td>NaN</td>\n",
       "      <td>52.364</td>\n",
       "      <td>4.894</td>\n",
       "      <td>Private room in townhouse</td>\n",
       "      <td>Private room</td>\n",
       "      <td>2</td>\n",
       "      <td>NaN</td>\n",
       "      <td>1 private bath</td>\n",
       "      <td>1.000</td>\n",
       "      <td>1.000</td>\n",
       "      <td>[\"Wifi\", \"Refrigerator\", \"TV\", \"Fire extinguis...</td>\n",
       "      <td>$106.00</td>\n",
       "      <td>1</td>\n",
       "      <td>365</td>\n",
       "      <td>1.000</td>\n",
       "      <td>1.000</td>\n",
       "      <td>1125.000</td>\n",
       "      <td>1125.000</td>\n",
       "      <td>1.000</td>\n",
       "      <td>1125.000</td>\n",
       "      <td>NaN</td>\n",
       "      <td>t</td>\n",
       "      <td>0</td>\n",
       "      <td>0</td>\n",
       "      <td>0</td>\n",
       "      <td>0</td>\n",
       "      <td>2022-09-07</td>\n",
       "      <td>339</td>\n",
       "      <td>0</td>\n",
       "      <td>0</td>\n",
       "      <td>2010-03-02</td>\n",
       "      <td>2020-04-09</td>\n",
       "      <td>4.440</td>\n",
       "      <td>4.690</td>\n",
       "      <td>4.790</td>\n",
       "      <td>4.630</td>\n",
       "      <td>4.620</td>\n",
       "      <td>4.870</td>\n",
       "      <td>4.490</td>\n",
       "      <td>0363 CBB3 2C10 0C2A 1E29</td>\n",
       "      <td>t</td>\n",
       "      <td>2</td>\n",
       "      <td>0</td>\n",
       "      <td>2</td>\n",
       "      <td>0</td>\n",
       "      <td>2.220</td>\n",
       "      <td>Amsterdam</td>\n",
       "    </tr>\n",
       "    <tr>\n",
       "      <th>2</th>\n",
       "      <td>2</td>\n",
       "      <td>27886</td>\n",
       "      <td>https://www.airbnb.com/rooms/27886</td>\n",
       "      <td>20220907151523</td>\n",
       "      <td>2022-09-07</td>\n",
       "      <td>city scrape</td>\n",
       "      <td>Romantic, stylish B&amp;B houseboat in canal district</td>\n",
       "      <td>Stylish and romantic houseboat on fantastic hi...</td>\n",
       "      <td>Central, quiet, safe, clean and beautiful.</td>\n",
       "      <td>https://a0.muscache.com/pictures/02c2da9d-660e...</td>\n",
       "      <td>97647</td>\n",
       "      <td>https://www.airbnb.com/users/show/97647</td>\n",
       "      <td>Flip</td>\n",
       "      <td>2010-03-23</td>\n",
       "      <td>Amsterdam, Netherlands</td>\n",
       "      <td>Marjan works in \"eye\" the dutch filmmuseum, an...</td>\n",
       "      <td>within an hour</td>\n",
       "      <td>100%</td>\n",
       "      <td>100%</td>\n",
       "      <td>f</td>\n",
       "      <td>https://a0.muscache.com/im/users/97647/profile...</td>\n",
       "      <td>https://a0.muscache.com/im/users/97647/profile...</td>\n",
       "      <td>Westelijke Eilanden</td>\n",
       "      <td>1.000</td>\n",
       "      <td>1.000</td>\n",
       "      <td>['email', 'phone']</td>\n",
       "      <td>t</td>\n",
       "      <td>t</td>\n",
       "      <td>Amsterdam, North Holland, Netherlands</td>\n",
       "      <td>Centrum-West</td>\n",
       "      <td>NaN</td>\n",
       "      <td>52.388</td>\n",
       "      <td>4.892</td>\n",
       "      <td>Private room in houseboat</td>\n",
       "      <td>Private room</td>\n",
       "      <td>2</td>\n",
       "      <td>NaN</td>\n",
       "      <td>1.5 baths</td>\n",
       "      <td>1.000</td>\n",
       "      <td>1.000</td>\n",
       "      <td>[\"Safe\", \"Fire extinguisher\", \"Hp neutral, eco...</td>\n",
       "      <td>$136.00</td>\n",
       "      <td>2</td>\n",
       "      <td>356</td>\n",
       "      <td>2.000</td>\n",
       "      <td>2.000</td>\n",
       "      <td>1125.000</td>\n",
       "      <td>1125.000</td>\n",
       "      <td>2.000</td>\n",
       "      <td>1125.000</td>\n",
       "      <td>NaN</td>\n",
       "      <td>t</td>\n",
       "      <td>0</td>\n",
       "      <td>0</td>\n",
       "      <td>14</td>\n",
       "      <td>121</td>\n",
       "      <td>2022-09-07</td>\n",
       "      <td>231</td>\n",
       "      <td>8</td>\n",
       "      <td>0</td>\n",
       "      <td>2012-01-09</td>\n",
       "      <td>2022-04-24</td>\n",
       "      <td>4.940</td>\n",
       "      <td>4.920</td>\n",
       "      <td>4.950</td>\n",
       "      <td>4.950</td>\n",
       "      <td>4.920</td>\n",
       "      <td>4.890</td>\n",
       "      <td>4.790</td>\n",
       "      <td>0363 974D 4986 7411 88D8</td>\n",
       "      <td>t</td>\n",
       "      <td>1</td>\n",
       "      <td>0</td>\n",
       "      <td>1</td>\n",
       "      <td>0</td>\n",
       "      <td>1.780</td>\n",
       "      <td>Amsterdam</td>\n",
       "    </tr>\n",
       "    <tr>\n",
       "      <th>3</th>\n",
       "      <td>3</td>\n",
       "      <td>28871</td>\n",
       "      <td>https://www.airbnb.com/rooms/28871</td>\n",
       "      <td>20220907151523</td>\n",
       "      <td>2022-09-07</td>\n",
       "      <td>city scrape</td>\n",
       "      <td>Comfortable double room</td>\n",
       "      <td>&lt;b&gt;The space&lt;/b&gt;&lt;br /&gt;In a monumental house ri...</td>\n",
       "      <td>Flower market , Leidseplein , Rembrantsplein</td>\n",
       "      <td>https://a0.muscache.com/pictures/160889/362340...</td>\n",
       "      <td>124245</td>\n",
       "      <td>https://www.airbnb.com/users/show/124245</td>\n",
       "      <td>Edwin</td>\n",
       "      <td>2010-05-13</td>\n",
       "      <td>Amsterdam, Netherlands</td>\n",
       "      <td>Hi</td>\n",
       "      <td>within an hour</td>\n",
       "      <td>100%</td>\n",
       "      <td>100%</td>\n",
       "      <td>t</td>\n",
       "      <td>https://a0.muscache.com/im/pictures/user/9986b...</td>\n",
       "      <td>https://a0.muscache.com/im/pictures/user/9986b...</td>\n",
       "      <td>Amsterdam Centrum</td>\n",
       "      <td>2.000</td>\n",
       "      <td>2.000</td>\n",
       "      <td>['email', 'phone']</td>\n",
       "      <td>t</td>\n",
       "      <td>t</td>\n",
       "      <td>Amsterdam, North Holland, Netherlands</td>\n",
       "      <td>Centrum-West</td>\n",
       "      <td>NaN</td>\n",
       "      <td>52.368</td>\n",
       "      <td>4.891</td>\n",
       "      <td>Private room in rental unit</td>\n",
       "      <td>Private room</td>\n",
       "      <td>2</td>\n",
       "      <td>NaN</td>\n",
       "      <td>1 shared bath</td>\n",
       "      <td>1.000</td>\n",
       "      <td>1.000</td>\n",
       "      <td>[\"Wifi\", \"Shampoo\", \"Refrigerator\", \"Iron\", \"F...</td>\n",
       "      <td>$75.00</td>\n",
       "      <td>2</td>\n",
       "      <td>1825</td>\n",
       "      <td>2.000</td>\n",
       "      <td>2.000</td>\n",
       "      <td>1825.000</td>\n",
       "      <td>1825.000</td>\n",
       "      <td>2.000</td>\n",
       "      <td>1825.000</td>\n",
       "      <td>NaN</td>\n",
       "      <td>t</td>\n",
       "      <td>4</td>\n",
       "      <td>6</td>\n",
       "      <td>8</td>\n",
       "      <td>117</td>\n",
       "      <td>2022-09-07</td>\n",
       "      <td>428</td>\n",
       "      <td>75</td>\n",
       "      <td>5</td>\n",
       "      <td>2010-08-22</td>\n",
       "      <td>2022-08-24</td>\n",
       "      <td>4.880</td>\n",
       "      <td>4.940</td>\n",
       "      <td>4.890</td>\n",
       "      <td>4.960</td>\n",
       "      <td>4.940</td>\n",
       "      <td>4.960</td>\n",
       "      <td>4.830</td>\n",
       "      <td>0363 607B EA74 0BD8 2F6F</td>\n",
       "      <td>f</td>\n",
       "      <td>2</td>\n",
       "      <td>0</td>\n",
       "      <td>2</td>\n",
       "      <td>0</td>\n",
       "      <td>2.920</td>\n",
       "      <td>Amsterdam</td>\n",
       "    </tr>\n",
       "    <tr>\n",
       "      <th>4</th>\n",
       "      <td>4</td>\n",
       "      <td>29051</td>\n",
       "      <td>https://www.airbnb.com/rooms/29051</td>\n",
       "      <td>20220907151523</td>\n",
       "      <td>2022-09-07</td>\n",
       "      <td>city scrape</td>\n",
       "      <td>Comfortable single room</td>\n",
       "      <td>This room can also accomodate 2 people.  For a...</td>\n",
       "      <td>the street is quite lively especially on weeke...</td>\n",
       "      <td>https://a0.muscache.com/pictures/162009/bd6be2...</td>\n",
       "      <td>124245</td>\n",
       "      <td>https://www.airbnb.com/users/show/124245</td>\n",
       "      <td>Edwin</td>\n",
       "      <td>2010-05-13</td>\n",
       "      <td>Amsterdam, Netherlands</td>\n",
       "      <td>Hi</td>\n",
       "      <td>within an hour</td>\n",
       "      <td>100%</td>\n",
       "      <td>100%</td>\n",
       "      <td>t</td>\n",
       "      <td>https://a0.muscache.com/im/pictures/user/9986b...</td>\n",
       "      <td>https://a0.muscache.com/im/pictures/user/9986b...</td>\n",
       "      <td>Amsterdam Centrum</td>\n",
       "      <td>2.000</td>\n",
       "      <td>2.000</td>\n",
       "      <td>['email', 'phone']</td>\n",
       "      <td>t</td>\n",
       "      <td>t</td>\n",
       "      <td>Amsterdam, North Holland, Netherlands</td>\n",
       "      <td>Centrum-Oost</td>\n",
       "      <td>NaN</td>\n",
       "      <td>52.366</td>\n",
       "      <td>4.891</td>\n",
       "      <td>Private room in rental unit</td>\n",
       "      <td>Private room</td>\n",
       "      <td>1</td>\n",
       "      <td>NaN</td>\n",
       "      <td>1 shared bath</td>\n",
       "      <td>1.000</td>\n",
       "      <td>1.000</td>\n",
       "      <td>[\"Wifi\", \"Shampoo\", \"Refrigerator\", \"Iron\", \"F...</td>\n",
       "      <td>$55.00</td>\n",
       "      <td>2</td>\n",
       "      <td>730</td>\n",
       "      <td>2.000</td>\n",
       "      <td>2.000</td>\n",
       "      <td>730.000</td>\n",
       "      <td>730.000</td>\n",
       "      <td>2.000</td>\n",
       "      <td>730.000</td>\n",
       "      <td>NaN</td>\n",
       "      <td>t</td>\n",
       "      <td>0</td>\n",
       "      <td>4</td>\n",
       "      <td>5</td>\n",
       "      <td>160</td>\n",
       "      <td>2022-09-07</td>\n",
       "      <td>582</td>\n",
       "      <td>86</td>\n",
       "      <td>7</td>\n",
       "      <td>2011-03-16</td>\n",
       "      <td>2022-08-29</td>\n",
       "      <td>4.790</td>\n",
       "      <td>4.880</td>\n",
       "      <td>4.840</td>\n",
       "      <td>4.920</td>\n",
       "      <td>4.920</td>\n",
       "      <td>4.870</td>\n",
       "      <td>4.770</td>\n",
       "      <td>0363 607B EA74 0BD8 2F6F</td>\n",
       "      <td>f</td>\n",
       "      <td>2</td>\n",
       "      <td>0</td>\n",
       "      <td>2</td>\n",
       "      <td>0</td>\n",
       "      <td>4.160</td>\n",
       "      <td>Amsterdam</td>\n",
       "    </tr>\n",
       "  </tbody>\n",
       "</table>\n",
       "</div>\n",
       "      <button class=\"colab-df-convert\" onclick=\"convertToInteractive('df-284e78b2-3077-48a3-8024-b20a669b3a4b')\"\n",
       "              title=\"Convert this dataframe to an interactive table.\"\n",
       "              style=\"display:none;\">\n",
       "        \n",
       "  <svg xmlns=\"http://www.w3.org/2000/svg\" height=\"24px\"viewBox=\"0 0 24 24\"\n",
       "       width=\"24px\">\n",
       "    <path d=\"M0 0h24v24H0V0z\" fill=\"none\"/>\n",
       "    <path d=\"M18.56 5.44l.94 2.06.94-2.06 2.06-.94-2.06-.94-.94-2.06-.94 2.06-2.06.94zm-11 1L8.5 8.5l.94-2.06 2.06-.94-2.06-.94L8.5 2.5l-.94 2.06-2.06.94zm10 10l.94 2.06.94-2.06 2.06-.94-2.06-.94-.94-2.06-.94 2.06-2.06.94z\"/><path d=\"M17.41 7.96l-1.37-1.37c-.4-.4-.92-.59-1.43-.59-.52 0-1.04.2-1.43.59L10.3 9.45l-7.72 7.72c-.78.78-.78 2.05 0 2.83L4 21.41c.39.39.9.59 1.41.59.51 0 1.02-.2 1.41-.59l7.78-7.78 2.81-2.81c.8-.78.8-2.07 0-2.86zM5.41 20L4 18.59l7.72-7.72 1.47 1.35L5.41 20z\"/>\n",
       "  </svg>\n",
       "      </button>\n",
       "      \n",
       "  <style>\n",
       "    .colab-df-container {\n",
       "      display:flex;\n",
       "      flex-wrap:wrap;\n",
       "      gap: 12px;\n",
       "    }\n",
       "\n",
       "    .colab-df-convert {\n",
       "      background-color: #E8F0FE;\n",
       "      border: none;\n",
       "      border-radius: 50%;\n",
       "      cursor: pointer;\n",
       "      display: none;\n",
       "      fill: #1967D2;\n",
       "      height: 32px;\n",
       "      padding: 0 0 0 0;\n",
       "      width: 32px;\n",
       "    }\n",
       "\n",
       "    .colab-df-convert:hover {\n",
       "      background-color: #E2EBFA;\n",
       "      box-shadow: 0px 1px 2px rgba(60, 64, 67, 0.3), 0px 1px 3px 1px rgba(60, 64, 67, 0.15);\n",
       "      fill: #174EA6;\n",
       "    }\n",
       "\n",
       "    [theme=dark] .colab-df-convert {\n",
       "      background-color: #3B4455;\n",
       "      fill: #D2E3FC;\n",
       "    }\n",
       "\n",
       "    [theme=dark] .colab-df-convert:hover {\n",
       "      background-color: #434B5C;\n",
       "      box-shadow: 0px 1px 3px 1px rgba(0, 0, 0, 0.15);\n",
       "      filter: drop-shadow(0px 1px 2px rgba(0, 0, 0, 0.3));\n",
       "      fill: #FFFFFF;\n",
       "    }\n",
       "  </style>\n",
       "\n",
       "      <script>\n",
       "        const buttonEl =\n",
       "          document.querySelector('#df-284e78b2-3077-48a3-8024-b20a669b3a4b button.colab-df-convert');\n",
       "        buttonEl.style.display =\n",
       "          google.colab.kernel.accessAllowed ? 'block' : 'none';\n",
       "\n",
       "        async function convertToInteractive(key) {\n",
       "          const element = document.querySelector('#df-284e78b2-3077-48a3-8024-b20a669b3a4b');\n",
       "          const dataTable =\n",
       "            await google.colab.kernel.invokeFunction('convertToInteractive',\n",
       "                                                     [key], {});\n",
       "          if (!dataTable) return;\n",
       "\n",
       "          const docLinkHtml = 'Like what you see? Visit the ' +\n",
       "            '<a target=\"_blank\" href=https://colab.research.google.com/notebooks/data_table.ipynb>data table notebook</a>'\n",
       "            + ' to learn more about interactive tables.';\n",
       "          element.innerHTML = '';\n",
       "          dataTable['output_type'] = 'display_data';\n",
       "          await google.colab.output.renderOutput(dataTable, element);\n",
       "          const docLink = document.createElement('div');\n",
       "          docLink.innerHTML = docLinkHtml;\n",
       "          element.appendChild(docLink);\n",
       "        }\n",
       "      </script>\n",
       "    </div>\n",
       "  </div>\n",
       "  "
      ],
      "text/plain": [
       "   Unnamed: 0     id                         listing_url       scrape_id last_scraped           source                                               name                                        description                              neighborhood_overview                                        picture_url  host_id                                  host_url  host_name  host_since           host_location                                         host_about host_response_time host_response_rate  \\\n",
       "0           0   2818   https://www.airbnb.com/rooms/2818  20220907151523   2022-09-07      city scrape           Quiet Garden View Room & Super Fast WiFi  Quiet Garden View Room & Super Fast WiFi<br />...  Indische Buurt (\"Indies Neighborhood\") is a ne...  https://a0.muscache.com/pictures/10272854/8dcc...     3159    https://www.airbnb.com/users/show/3159     Daniel  2008-09-24  Amsterdam, Netherlands  Upon arriving in Amsterdam, one can imagine as...     within an hour               100%   \n",
       "1           1  20168  https://www.airbnb.com/rooms/20168  20220907151523   2022-09-07  previous scrape       Studio with private bathroom in the centre 1  17th century Dutch townhouse in the heart of t...  Located just in between famous central canals....  https://a0.muscache.com/pictures/69979628/fd6a...    59484   https://www.airbnb.com/users/show/59484  Alexander  2009-12-02  Amsterdam, Netherlands                  + (Phone number hidden by Airbnb)     within an hour               100%   \n",
       "2           2  27886  https://www.airbnb.com/rooms/27886  20220907151523   2022-09-07      city scrape  Romantic, stylish B&B houseboat in canal district  Stylish and romantic houseboat on fantastic hi...         Central, quiet, safe, clean and beautiful.  https://a0.muscache.com/pictures/02c2da9d-660e...    97647   https://www.airbnb.com/users/show/97647       Flip  2010-03-23  Amsterdam, Netherlands  Marjan works in \"eye\" the dutch filmmuseum, an...     within an hour               100%   \n",
       "3           3  28871  https://www.airbnb.com/rooms/28871  20220907151523   2022-09-07      city scrape                            Comfortable double room  <b>The space</b><br />In a monumental house ri...       Flower market , Leidseplein , Rembrantsplein  https://a0.muscache.com/pictures/160889/362340...   124245  https://www.airbnb.com/users/show/124245      Edwin  2010-05-13  Amsterdam, Netherlands                                                 Hi     within an hour               100%   \n",
       "4           4  29051  https://www.airbnb.com/rooms/29051  20220907151523   2022-09-07      city scrape                            Comfortable single room  This room can also accomodate 2 people.  For a...  the street is quite lively especially on weeke...  https://a0.muscache.com/pictures/162009/bd6be2...   124245  https://www.airbnb.com/users/show/124245      Edwin  2010-05-13  Amsterdam, Netherlands                                                 Hi     within an hour               100%   \n",
       "\n",
       "  host_acceptance_rate host_is_superhost                                 host_thumbnail_url                                   host_picture_url   host_neighbourhood  host_listings_count  host_total_listings_count  host_verifications host_has_profile_pic host_identity_verified                          neighbourhood                  neighbourhood_cleansed neighbourhood_group_cleansed  latitude  longitude                property_type     room_type  accommodates  bathrooms    bathrooms_text  \\\n",
       "0                 100%                 t  https://a0.muscache.com/im/users/3159/profile_...  https://a0.muscache.com/im/users/3159/profile_...       Indische Buurt                1.000                      1.000  ['email', 'phone']                    t                      t  Amsterdam, North Holland, Netherlands  Oostelijk Havengebied - Indische Buurt                          NaN    52.364      4.944  Private room in rental unit  Private room             2        NaN  1.5 shared baths   \n",
       "1                  98%                 f  https://a0.muscache.com/im/pictures/user/65092...  https://a0.muscache.com/im/pictures/user/65092...       Grachtengordel                5.000                      5.000  ['email', 'phone']                    t                      t  Amsterdam, North Holland, Netherlands                            Centrum-Oost                          NaN    52.364      4.894    Private room in townhouse  Private room             2        NaN    1 private bath   \n",
       "2                 100%                 f  https://a0.muscache.com/im/users/97647/profile...  https://a0.muscache.com/im/users/97647/profile...  Westelijke Eilanden                1.000                      1.000  ['email', 'phone']                    t                      t  Amsterdam, North Holland, Netherlands                            Centrum-West                          NaN    52.388      4.892    Private room in houseboat  Private room             2        NaN         1.5 baths   \n",
       "3                 100%                 t  https://a0.muscache.com/im/pictures/user/9986b...  https://a0.muscache.com/im/pictures/user/9986b...    Amsterdam Centrum                2.000                      2.000  ['email', 'phone']                    t                      t  Amsterdam, North Holland, Netherlands                            Centrum-West                          NaN    52.368      4.891  Private room in rental unit  Private room             2        NaN     1 shared bath   \n",
       "4                 100%                 t  https://a0.muscache.com/im/pictures/user/9986b...  https://a0.muscache.com/im/pictures/user/9986b...    Amsterdam Centrum                2.000                      2.000  ['email', 'phone']                    t                      t  Amsterdam, North Holland, Netherlands                            Centrum-Oost                          NaN    52.366      4.891  Private room in rental unit  Private room             1        NaN     1 shared bath   \n",
       "\n",
       "   bedrooms  beds                                          amenities    price  minimum_nights  maximum_nights  minimum_minimum_nights  maximum_minimum_nights  minimum_maximum_nights  maximum_maximum_nights  minimum_nights_avg_ntm  maximum_nights_avg_ntm  calendar_updated has_availability  availability_30  availability_60  availability_90  availability_365 calendar_last_scraped  number_of_reviews  number_of_reviews_ltm  number_of_reviews_l30d first_review last_review  review_scores_rating  \\\n",
       "0     1.000 2.000  [\"Fire extinguisher\", \"Private entrance\", \"Lau...   $49.00               3              28                   3.000                   3.000                1125.000                1125.000                   3.000                1125.000               NaN                t                1                9               14                14            2022-09-07                305                     25                       1   2009-03-30  2022-08-30                 4.890   \n",
       "1     1.000 1.000  [\"Wifi\", \"Refrigerator\", \"TV\", \"Fire extinguis...  $106.00               1             365                   1.000                   1.000                1125.000                1125.000                   1.000                1125.000               NaN                t                0                0                0                 0            2022-09-07                339                      0                       0   2010-03-02  2020-04-09                 4.440   \n",
       "2     1.000 1.000  [\"Safe\", \"Fire extinguisher\", \"Hp neutral, eco...  $136.00               2             356                   2.000                   2.000                1125.000                1125.000                   2.000                1125.000               NaN                t                0                0               14               121            2022-09-07                231                      8                       0   2012-01-09  2022-04-24                 4.940   \n",
       "3     1.000 1.000  [\"Wifi\", \"Shampoo\", \"Refrigerator\", \"Iron\", \"F...   $75.00               2            1825                   2.000                   2.000                1825.000                1825.000                   2.000                1825.000               NaN                t                4                6                8               117            2022-09-07                428                     75                       5   2010-08-22  2022-08-24                 4.880   \n",
       "4     1.000 1.000  [\"Wifi\", \"Shampoo\", \"Refrigerator\", \"Iron\", \"F...   $55.00               2             730                   2.000                   2.000                 730.000                 730.000                   2.000                 730.000               NaN                t                0                4                5               160            2022-09-07                582                     86                       7   2011-03-16  2022-08-29                 4.790   \n",
       "\n",
       "   review_scores_accuracy  review_scores_cleanliness  review_scores_checkin  review_scores_communication  review_scores_location  review_scores_value                   license instant_bookable  calculated_host_listings_count  calculated_host_listings_count_entire_homes  calculated_host_listings_count_private_rooms  calculated_host_listings_count_shared_rooms  reviews_per_month       city  \n",
       "0                   4.940                      5.000                  4.970                        4.980                   4.690                4.820  0363 5F3A 5684 6750 D14D                t                               1                                            0                                             1                                            0              1.860  Amsterdam  \n",
       "1                   4.690                      4.790                  4.630                        4.620                   4.870                4.490  0363 CBB3 2C10 0C2A 1E29                t                               2                                            0                                             2                                            0              2.220  Amsterdam  \n",
       "2                   4.920                      4.950                  4.950                        4.920                   4.890                4.790  0363 974D 4986 7411 88D8                t                               1                                            0                                             1                                            0              1.780  Amsterdam  \n",
       "3                   4.940                      4.890                  4.960                        4.940                   4.960                4.830  0363 607B EA74 0BD8 2F6F                f                               2                                            0                                             2                                            0              2.920  Amsterdam  \n",
       "4                   4.880                      4.840                  4.920                        4.920                   4.870                4.770  0363 607B EA74 0BD8 2F6F                f                               2                                            0                                             2                                            0              4.160  Amsterdam  "
      ]
     },
     "execution_count": 11,
     "metadata": {},
     "output_type": "execute_result"
    }
   ],
   "source": [
    "df.head()\n"
   ]
  },
  {
   "cell_type": "markdown",
   "metadata": {
    "id": "xkN8VrpunrWb"
   },
   "source": [
    "# Numerical and Euro Transformation for Price"
   ]
  },
  {
   "cell_type": "code",
   "execution_count": 12,
   "metadata": {
    "id": "l7PCkjt3nu26"
   },
   "outputs": [],
   "source": [
    "def price_transform(string):\n",
    "    string = string.replace(\"$\",\"\")\n",
    "    string = string.replace(\",\",\"\")\n",
    "    \n",
    "    return(string)"
   ]
  },
  {
   "cell_type": "code",
   "execution_count": 13,
   "metadata": {
    "id": "jLLsDUtunwaG"
   },
   "outputs": [],
   "source": [
    "df[\"price\"] = df[\"price\"].apply(price_transform)\n",
    "df[\"price\"] = df[\"price\"].astype(\"float\")"
   ]
  },
  {
   "cell_type": "code",
   "execution_count": 14,
   "metadata": {
    "colab": {
     "base_uri": "https://localhost:8080/",
     "height": 687
    },
    "id": "RdHOmViam5mD",
    "outputId": "d360702c-a58e-4e4b-c946-d50e6d4a8289"
   },
   "outputs": [
    {
     "data": {
      "text/html": [
       "\n",
       "  <div id=\"df-22c0cd93-9fdf-40c1-a192-0bdaebbcf07f\">\n",
       "    <div class=\"colab-df-container\">\n",
       "      <div>\n",
       "<style scoped>\n",
       "    .dataframe tbody tr th:only-of-type {\n",
       "        vertical-align: middle;\n",
       "    }\n",
       "\n",
       "    .dataframe tbody tr th {\n",
       "        vertical-align: top;\n",
       "    }\n",
       "\n",
       "    .dataframe thead th {\n",
       "        text-align: right;\n",
       "    }\n",
       "</style>\n",
       "<table border=\"1\" class=\"dataframe\">\n",
       "  <thead>\n",
       "    <tr style=\"text-align: right;\">\n",
       "      <th></th>\n",
       "      <th>Unnamed: 0</th>\n",
       "      <th>id</th>\n",
       "      <th>listing_url</th>\n",
       "      <th>scrape_id</th>\n",
       "      <th>last_scraped</th>\n",
       "      <th>source</th>\n",
       "      <th>name</th>\n",
       "      <th>description</th>\n",
       "      <th>neighborhood_overview</th>\n",
       "      <th>picture_url</th>\n",
       "      <th>host_id</th>\n",
       "      <th>host_url</th>\n",
       "      <th>host_name</th>\n",
       "      <th>host_since</th>\n",
       "      <th>host_location</th>\n",
       "      <th>host_about</th>\n",
       "      <th>host_response_time</th>\n",
       "      <th>host_response_rate</th>\n",
       "      <th>host_acceptance_rate</th>\n",
       "      <th>host_is_superhost</th>\n",
       "      <th>host_thumbnail_url</th>\n",
       "      <th>host_picture_url</th>\n",
       "      <th>host_neighbourhood</th>\n",
       "      <th>host_listings_count</th>\n",
       "      <th>host_total_listings_count</th>\n",
       "      <th>host_verifications</th>\n",
       "      <th>host_has_profile_pic</th>\n",
       "      <th>host_identity_verified</th>\n",
       "      <th>neighbourhood</th>\n",
       "      <th>neighbourhood_cleansed</th>\n",
       "      <th>neighbourhood_group_cleansed</th>\n",
       "      <th>latitude</th>\n",
       "      <th>longitude</th>\n",
       "      <th>property_type</th>\n",
       "      <th>room_type</th>\n",
       "      <th>accommodates</th>\n",
       "      <th>bathrooms</th>\n",
       "      <th>bathrooms_text</th>\n",
       "      <th>bedrooms</th>\n",
       "      <th>beds</th>\n",
       "      <th>amenities</th>\n",
       "      <th>price</th>\n",
       "      <th>minimum_nights</th>\n",
       "      <th>maximum_nights</th>\n",
       "      <th>minimum_minimum_nights</th>\n",
       "      <th>maximum_minimum_nights</th>\n",
       "      <th>minimum_maximum_nights</th>\n",
       "      <th>maximum_maximum_nights</th>\n",
       "      <th>minimum_nights_avg_ntm</th>\n",
       "      <th>maximum_nights_avg_ntm</th>\n",
       "      <th>calendar_updated</th>\n",
       "      <th>has_availability</th>\n",
       "      <th>availability_30</th>\n",
       "      <th>availability_60</th>\n",
       "      <th>availability_90</th>\n",
       "      <th>availability_365</th>\n",
       "      <th>calendar_last_scraped</th>\n",
       "      <th>number_of_reviews</th>\n",
       "      <th>number_of_reviews_ltm</th>\n",
       "      <th>number_of_reviews_l30d</th>\n",
       "      <th>first_review</th>\n",
       "      <th>last_review</th>\n",
       "      <th>review_scores_rating</th>\n",
       "      <th>review_scores_accuracy</th>\n",
       "      <th>review_scores_cleanliness</th>\n",
       "      <th>review_scores_checkin</th>\n",
       "      <th>review_scores_communication</th>\n",
       "      <th>review_scores_location</th>\n",
       "      <th>review_scores_value</th>\n",
       "      <th>license</th>\n",
       "      <th>instant_bookable</th>\n",
       "      <th>calculated_host_listings_count</th>\n",
       "      <th>calculated_host_listings_count_entire_homes</th>\n",
       "      <th>calculated_host_listings_count_private_rooms</th>\n",
       "      <th>calculated_host_listings_count_shared_rooms</th>\n",
       "      <th>reviews_per_month</th>\n",
       "      <th>city</th>\n",
       "    </tr>\n",
       "  </thead>\n",
       "  <tbody>\n",
       "    <tr>\n",
       "      <th>42724</th>\n",
       "      <td>42724</td>\n",
       "      <td>48534581</td>\n",
       "      <td>https://www.airbnb.com/rooms/48534581</td>\n",
       "      <td>20220924142144</td>\n",
       "      <td>2022-09-25</td>\n",
       "      <td>city scrape</td>\n",
       "      <td>Hjemlig og lækker lejlighed midt på Nørrebro</td>\n",
       "      <td>Kom og bo i en skøn lejlighed midt på Nørrebro...</td>\n",
       "      <td>NaN</td>\n",
       "      <td>https://a0.muscache.com/pictures/fdc67ce8-6d1e...</td>\n",
       "      <td>51427303</td>\n",
       "      <td>https://www.airbnb.com/users/show/51427303</td>\n",
       "      <td>Anne-Sofie</td>\n",
       "      <td>2015-12-15</td>\n",
       "      <td>Copenhagen, Denmark</td>\n",
       "      <td>NaN</td>\n",
       "      <td>within an hour</td>\n",
       "      <td>100%</td>\n",
       "      <td>61%</td>\n",
       "      <td>t</td>\n",
       "      <td>https://a0.muscache.com/im/pictures/user/29d8d...</td>\n",
       "      <td>https://a0.muscache.com/im/pictures/user/29d8d...</td>\n",
       "      <td>NaN</td>\n",
       "      <td>3.000</td>\n",
       "      <td>5.000</td>\n",
       "      <td>['email', 'phone']</td>\n",
       "      <td>t</td>\n",
       "      <td>t</td>\n",
       "      <td>NaN</td>\n",
       "      <td>Nrrebro</td>\n",
       "      <td>NaN</td>\n",
       "      <td>55.690</td>\n",
       "      <td>12.544</td>\n",
       "      <td>Entire rental unit</td>\n",
       "      <td>Entire home/apt</td>\n",
       "      <td>3</td>\n",
       "      <td>NaN</td>\n",
       "      <td>1 bath</td>\n",
       "      <td>1.000</td>\n",
       "      <td>1.000</td>\n",
       "      <td>[\"Stove\", \"Long term stays allowed\", \"Coffee m...</td>\n",
       "      <td>850.000</td>\n",
       "      <td>2</td>\n",
       "      <td>1125</td>\n",
       "      <td>2.000</td>\n",
       "      <td>4.000</td>\n",
       "      <td>1125.000</td>\n",
       "      <td>1125.000</td>\n",
       "      <td>2.100</td>\n",
       "      <td>1125.000</td>\n",
       "      <td>NaN</td>\n",
       "      <td>t</td>\n",
       "      <td>3</td>\n",
       "      <td>3</td>\n",
       "      <td>4</td>\n",
       "      <td>8</td>\n",
       "      <td>2022-09-25</td>\n",
       "      <td>10</td>\n",
       "      <td>6</td>\n",
       "      <td>0</td>\n",
       "      <td>2021-05-16</td>\n",
       "      <td>2022-08-11</td>\n",
       "      <td>5.000</td>\n",
       "      <td>5.000</td>\n",
       "      <td>4.400</td>\n",
       "      <td>5.000</td>\n",
       "      <td>5.000</td>\n",
       "      <td>4.900</td>\n",
       "      <td>4.800</td>\n",
       "      <td>NaN</td>\n",
       "      <td>f</td>\n",
       "      <td>1</td>\n",
       "      <td>1</td>\n",
       "      <td>0</td>\n",
       "      <td>0</td>\n",
       "      <td>0.600</td>\n",
       "      <td>Copenhagen</td>\n",
       "    </tr>\n",
       "    <tr>\n",
       "      <th>35542</th>\n",
       "      <td>35542</td>\n",
       "      <td>3038553</td>\n",
       "      <td>https://www.airbnb.com/rooms/3038553</td>\n",
       "      <td>20220924142144</td>\n",
       "      <td>2022-09-25</td>\n",
       "      <td>city scrape</td>\n",
       "      <td>Cozy flat in the heart of Nørrebro</td>\n",
       "      <td>The apartment has the perfect location for exp...</td>\n",
       "      <td>NaN</td>\n",
       "      <td>https://a0.muscache.com/pictures/miso/Hosting-...</td>\n",
       "      <td>15472907</td>\n",
       "      <td>https://www.airbnb.com/users/show/15472907</td>\n",
       "      <td>Sofus Emil Ravn</td>\n",
       "      <td>2014-05-13</td>\n",
       "      <td>Copenhagen, Denmark</td>\n",
       "      <td>NaN</td>\n",
       "      <td>within an hour</td>\n",
       "      <td>100%</td>\n",
       "      <td>100%</td>\n",
       "      <td>f</td>\n",
       "      <td>https://a0.muscache.com/im/pictures/user/28098...</td>\n",
       "      <td>https://a0.muscache.com/im/pictures/user/28098...</td>\n",
       "      <td>NaN</td>\n",
       "      <td>1.000</td>\n",
       "      <td>1.000</td>\n",
       "      <td>['phone']</td>\n",
       "      <td>t</td>\n",
       "      <td>t</td>\n",
       "      <td>NaN</td>\n",
       "      <td>Nrrebro</td>\n",
       "      <td>NaN</td>\n",
       "      <td>55.683</td>\n",
       "      <td>12.558</td>\n",
       "      <td>Private room in rental unit</td>\n",
       "      <td>Private room</td>\n",
       "      <td>2</td>\n",
       "      <td>NaN</td>\n",
       "      <td>1 private bath</td>\n",
       "      <td>1.000</td>\n",
       "      <td>1.000</td>\n",
       "      <td>[\"Wifi\", \"Smoke alarm\", \"TV\", \"Washer\", \"Kitch...</td>\n",
       "      <td>500.000</td>\n",
       "      <td>2</td>\n",
       "      <td>2</td>\n",
       "      <td>2.000</td>\n",
       "      <td>2.000</td>\n",
       "      <td>2.000</td>\n",
       "      <td>2.000</td>\n",
       "      <td>2.000</td>\n",
       "      <td>2.000</td>\n",
       "      <td>NaN</td>\n",
       "      <td>t</td>\n",
       "      <td>0</td>\n",
       "      <td>0</td>\n",
       "      <td>0</td>\n",
       "      <td>267</td>\n",
       "      <td>2022-09-25</td>\n",
       "      <td>0</td>\n",
       "      <td>0</td>\n",
       "      <td>0</td>\n",
       "      <td>NaN</td>\n",
       "      <td>NaN</td>\n",
       "      <td>NaN</td>\n",
       "      <td>NaN</td>\n",
       "      <td>NaN</td>\n",
       "      <td>NaN</td>\n",
       "      <td>NaN</td>\n",
       "      <td>NaN</td>\n",
       "      <td>NaN</td>\n",
       "      <td>NaN</td>\n",
       "      <td>t</td>\n",
       "      <td>1</td>\n",
       "      <td>0</td>\n",
       "      <td>1</td>\n",
       "      <td>0</td>\n",
       "      <td>NaN</td>\n",
       "      <td>Copenhagen</td>\n",
       "    </tr>\n",
       "    <tr>\n",
       "      <th>44603</th>\n",
       "      <td>44603</td>\n",
       "      <td>562335329284267175</td>\n",
       "      <td>https://www.airbnb.com/rooms/562335329284267175</td>\n",
       "      <td>20220924142144</td>\n",
       "      <td>2022-09-24</td>\n",
       "      <td>city scrape</td>\n",
       "      <td>Cool big studio apartment next to central station</td>\n",
       "      <td>Hyggelig stilfuld lejlighed på Vesterbro/Frede...</td>\n",
       "      <td>NaN</td>\n",
       "      <td>https://a0.muscache.com/pictures/bb9d461f-5be4...</td>\n",
       "      <td>81842869</td>\n",
       "      <td>https://www.airbnb.com/users/show/81842869</td>\n",
       "      <td>Morten</td>\n",
       "      <td>2016-07-05</td>\n",
       "      <td>Copenhagen, Denmark</td>\n",
       "      <td>29 y/o, living in Copenhagen w. my boyfriend.</td>\n",
       "      <td>within an hour</td>\n",
       "      <td>100%</td>\n",
       "      <td>100%</td>\n",
       "      <td>f</td>\n",
       "      <td>https://a0.muscache.com/im/pictures/user/7454e...</td>\n",
       "      <td>https://a0.muscache.com/im/pictures/user/7454e...</td>\n",
       "      <td>NaN</td>\n",
       "      <td>1.000</td>\n",
       "      <td>1.000</td>\n",
       "      <td>['email', 'phone']</td>\n",
       "      <td>t</td>\n",
       "      <td>f</td>\n",
       "      <td>NaN</td>\n",
       "      <td>Vesterbro-Kongens Enghave</td>\n",
       "      <td>NaN</td>\n",
       "      <td>55.673</td>\n",
       "      <td>12.557</td>\n",
       "      <td>Entire condo</td>\n",
       "      <td>Entire home/apt</td>\n",
       "      <td>2</td>\n",
       "      <td>NaN</td>\n",
       "      <td>1 bath</td>\n",
       "      <td>1.000</td>\n",
       "      <td>1.000</td>\n",
       "      <td>[\"Wifi\", \"TV\", \"Long term stays allowed\", \"Kit...</td>\n",
       "      <td>895.000</td>\n",
       "      <td>4</td>\n",
       "      <td>365</td>\n",
       "      <td>4.000</td>\n",
       "      <td>4.000</td>\n",
       "      <td>365.000</td>\n",
       "      <td>365.000</td>\n",
       "      <td>4.000</td>\n",
       "      <td>365.000</td>\n",
       "      <td>NaN</td>\n",
       "      <td>t</td>\n",
       "      <td>0</td>\n",
       "      <td>0</td>\n",
       "      <td>0</td>\n",
       "      <td>266</td>\n",
       "      <td>2022-09-24</td>\n",
       "      <td>5</td>\n",
       "      <td>5</td>\n",
       "      <td>0</td>\n",
       "      <td>2022-04-18</td>\n",
       "      <td>2022-08-05</td>\n",
       "      <td>4.600</td>\n",
       "      <td>4.800</td>\n",
       "      <td>4.600</td>\n",
       "      <td>4.200</td>\n",
       "      <td>4.600</td>\n",
       "      <td>5.000</td>\n",
       "      <td>4.600</td>\n",
       "      <td>NaN</td>\n",
       "      <td>t</td>\n",
       "      <td>1</td>\n",
       "      <td>1</td>\n",
       "      <td>0</td>\n",
       "      <td>0</td>\n",
       "      <td>0.940</td>\n",
       "      <td>Copenhagen</td>\n",
       "    </tr>\n",
       "    <tr>\n",
       "      <th>46386</th>\n",
       "      <td>46386</td>\n",
       "      <td>652881536355266206</td>\n",
       "      <td>https://www.airbnb.com/rooms/652881536355266206</td>\n",
       "      <td>20220924142144</td>\n",
       "      <td>2022-09-25</td>\n",
       "      <td>previous scrape</td>\n",
       "      <td>Charmerende familievilla ved Amager Strand</td>\n",
       "      <td>Dyp tæerne i vandet og nyd roen i haven. Huset...</td>\n",
       "      <td>Området emmer af ro, selvom metro, strand og c...</td>\n",
       "      <td>https://a0.muscache.com/pictures/miso/Hosting-...</td>\n",
       "      <td>23337753</td>\n",
       "      <td>https://www.airbnb.com/users/show/23337753</td>\n",
       "      <td>Sofie</td>\n",
       "      <td>2014-11-04</td>\n",
       "      <td>Denmark</td>\n",
       "      <td>Jeg er 37 år og bor med min mand, vores 2 dren...</td>\n",
       "      <td>NaN</td>\n",
       "      <td>NaN</td>\n",
       "      <td>NaN</td>\n",
       "      <td>f</td>\n",
       "      <td>https://a0.muscache.com/im/pictures/user/ec720...</td>\n",
       "      <td>https://a0.muscache.com/im/pictures/user/ec720...</td>\n",
       "      <td>NaN</td>\n",
       "      <td>1.000</td>\n",
       "      <td>2.000</td>\n",
       "      <td>['email', 'phone']</td>\n",
       "      <td>t</td>\n",
       "      <td>t</td>\n",
       "      <td>Copenhagen, Denmark</td>\n",
       "      <td>Amager st</td>\n",
       "      <td>NaN</td>\n",
       "      <td>55.655</td>\n",
       "      <td>12.636</td>\n",
       "      <td>Entire villa</td>\n",
       "      <td>Entire home/apt</td>\n",
       "      <td>10</td>\n",
       "      <td>NaN</td>\n",
       "      <td>2.5 baths</td>\n",
       "      <td>5.000</td>\n",
       "      <td>5.000</td>\n",
       "      <td>[\"Cleaning products\", \"Stove\", \"Coffee maker\",...</td>\n",
       "      <td>3950.000</td>\n",
       "      <td>3</td>\n",
       "      <td>11</td>\n",
       "      <td>3.000</td>\n",
       "      <td>3.000</td>\n",
       "      <td>11.000</td>\n",
       "      <td>11.000</td>\n",
       "      <td>3.000</td>\n",
       "      <td>11.000</td>\n",
       "      <td>NaN</td>\n",
       "      <td>t</td>\n",
       "      <td>0</td>\n",
       "      <td>0</td>\n",
       "      <td>0</td>\n",
       "      <td>0</td>\n",
       "      <td>2022-09-25</td>\n",
       "      <td>0</td>\n",
       "      <td>0</td>\n",
       "      <td>0</td>\n",
       "      <td>NaN</td>\n",
       "      <td>NaN</td>\n",
       "      <td>NaN</td>\n",
       "      <td>NaN</td>\n",
       "      <td>NaN</td>\n",
       "      <td>NaN</td>\n",
       "      <td>NaN</td>\n",
       "      <td>NaN</td>\n",
       "      <td>NaN</td>\n",
       "      <td>NaN</td>\n",
       "      <td>f</td>\n",
       "      <td>1</td>\n",
       "      <td>1</td>\n",
       "      <td>0</td>\n",
       "      <td>0</td>\n",
       "      <td>NaN</td>\n",
       "      <td>Copenhagen</td>\n",
       "    </tr>\n",
       "    <tr>\n",
       "      <th>39451</th>\n",
       "      <td>39451</td>\n",
       "      <td>26890543</td>\n",
       "      <td>https://www.airbnb.com/rooms/26890543</td>\n",
       "      <td>20220924142144</td>\n",
       "      <td>2022-09-24</td>\n",
       "      <td>previous scrape</td>\n",
       "      <td>Cosy house with garden and 3 bedrooms.</td>\n",
       "      <td>Cosy house in small garden association. &lt;br /&gt;...</td>\n",
       "      <td>NaN</td>\n",
       "      <td>https://a0.muscache.com/pictures/2540f324-8762...</td>\n",
       "      <td>159834726</td>\n",
       "      <td>https://www.airbnb.com/users/show/159834726</td>\n",
       "      <td>Mads Van Dijk</td>\n",
       "      <td>2017-11-23</td>\n",
       "      <td>Copenhagen, Denmark</td>\n",
       "      <td>NaN</td>\n",
       "      <td>NaN</td>\n",
       "      <td>NaN</td>\n",
       "      <td>67%</td>\n",
       "      <td>f</td>\n",
       "      <td>https://a0.muscache.com/im/pictures/user/c27a4...</td>\n",
       "      <td>https://a0.muscache.com/im/pictures/user/c27a4...</td>\n",
       "      <td>Amager Vest</td>\n",
       "      <td>1.000</td>\n",
       "      <td>1.000</td>\n",
       "      <td>['email', 'phone']</td>\n",
       "      <td>t</td>\n",
       "      <td>f</td>\n",
       "      <td>NaN</td>\n",
       "      <td>Amager Vest</td>\n",
       "      <td>NaN</td>\n",
       "      <td>55.643</td>\n",
       "      <td>12.594</td>\n",
       "      <td>Entire home</td>\n",
       "      <td>Entire home/apt</td>\n",
       "      <td>6</td>\n",
       "      <td>NaN</td>\n",
       "      <td>1 bath</td>\n",
       "      <td>3.000</td>\n",
       "      <td>3.000</td>\n",
       "      <td>[\"Stove\", \"Drying rack for clothing\", \"Board g...</td>\n",
       "      <td>1050.000</td>\n",
       "      <td>3</td>\n",
       "      <td>21</td>\n",
       "      <td>3.000</td>\n",
       "      <td>3.000</td>\n",
       "      <td>21.000</td>\n",
       "      <td>21.000</td>\n",
       "      <td>3.000</td>\n",
       "      <td>21.000</td>\n",
       "      <td>NaN</td>\n",
       "      <td>t</td>\n",
       "      <td>0</td>\n",
       "      <td>0</td>\n",
       "      <td>0</td>\n",
       "      <td>0</td>\n",
       "      <td>2022-09-24</td>\n",
       "      <td>14</td>\n",
       "      <td>2</td>\n",
       "      <td>0</td>\n",
       "      <td>2018-07-17</td>\n",
       "      <td>2022-07-23</td>\n",
       "      <td>5.000</td>\n",
       "      <td>5.000</td>\n",
       "      <td>4.920</td>\n",
       "      <td>5.000</td>\n",
       "      <td>5.000</td>\n",
       "      <td>5.000</td>\n",
       "      <td>5.000</td>\n",
       "      <td>NaN</td>\n",
       "      <td>f</td>\n",
       "      <td>1</td>\n",
       "      <td>1</td>\n",
       "      <td>0</td>\n",
       "      <td>0</td>\n",
       "      <td>0.270</td>\n",
       "      <td>Copenhagen</td>\n",
       "    </tr>\n",
       "  </tbody>\n",
       "</table>\n",
       "</div>\n",
       "      <button class=\"colab-df-convert\" onclick=\"convertToInteractive('df-22c0cd93-9fdf-40c1-a192-0bdaebbcf07f')\"\n",
       "              title=\"Convert this dataframe to an interactive table.\"\n",
       "              style=\"display:none;\">\n",
       "        \n",
       "  <svg xmlns=\"http://www.w3.org/2000/svg\" height=\"24px\"viewBox=\"0 0 24 24\"\n",
       "       width=\"24px\">\n",
       "    <path d=\"M0 0h24v24H0V0z\" fill=\"none\"/>\n",
       "    <path d=\"M18.56 5.44l.94 2.06.94-2.06 2.06-.94-2.06-.94-.94-2.06-.94 2.06-2.06.94zm-11 1L8.5 8.5l.94-2.06 2.06-.94-2.06-.94L8.5 2.5l-.94 2.06-2.06.94zm10 10l.94 2.06.94-2.06 2.06-.94-2.06-.94-.94-2.06-.94 2.06-2.06.94z\"/><path d=\"M17.41 7.96l-1.37-1.37c-.4-.4-.92-.59-1.43-.59-.52 0-1.04.2-1.43.59L10.3 9.45l-7.72 7.72c-.78.78-.78 2.05 0 2.83L4 21.41c.39.39.9.59 1.41.59.51 0 1.02-.2 1.41-.59l7.78-7.78 2.81-2.81c.8-.78.8-2.07 0-2.86zM5.41 20L4 18.59l7.72-7.72 1.47 1.35L5.41 20z\"/>\n",
       "  </svg>\n",
       "      </button>\n",
       "      \n",
       "  <style>\n",
       "    .colab-df-container {\n",
       "      display:flex;\n",
       "      flex-wrap:wrap;\n",
       "      gap: 12px;\n",
       "    }\n",
       "\n",
       "    .colab-df-convert {\n",
       "      background-color: #E8F0FE;\n",
       "      border: none;\n",
       "      border-radius: 50%;\n",
       "      cursor: pointer;\n",
       "      display: none;\n",
       "      fill: #1967D2;\n",
       "      height: 32px;\n",
       "      padding: 0 0 0 0;\n",
       "      width: 32px;\n",
       "    }\n",
       "\n",
       "    .colab-df-convert:hover {\n",
       "      background-color: #E2EBFA;\n",
       "      box-shadow: 0px 1px 2px rgba(60, 64, 67, 0.3), 0px 1px 3px 1px rgba(60, 64, 67, 0.15);\n",
       "      fill: #174EA6;\n",
       "    }\n",
       "\n",
       "    [theme=dark] .colab-df-convert {\n",
       "      background-color: #3B4455;\n",
       "      fill: #D2E3FC;\n",
       "    }\n",
       "\n",
       "    [theme=dark] .colab-df-convert:hover {\n",
       "      background-color: #434B5C;\n",
       "      box-shadow: 0px 1px 3px 1px rgba(0, 0, 0, 0.15);\n",
       "      filter: drop-shadow(0px 1px 2px rgba(0, 0, 0, 0.3));\n",
       "      fill: #FFFFFF;\n",
       "    }\n",
       "  </style>\n",
       "\n",
       "      <script>\n",
       "        const buttonEl =\n",
       "          document.querySelector('#df-22c0cd93-9fdf-40c1-a192-0bdaebbcf07f button.colab-df-convert');\n",
       "        buttonEl.style.display =\n",
       "          google.colab.kernel.accessAllowed ? 'block' : 'none';\n",
       "\n",
       "        async function convertToInteractive(key) {\n",
       "          const element = document.querySelector('#df-22c0cd93-9fdf-40c1-a192-0bdaebbcf07f');\n",
       "          const dataTable =\n",
       "            await google.colab.kernel.invokeFunction('convertToInteractive',\n",
       "                                                     [key], {});\n",
       "          if (!dataTable) return;\n",
       "\n",
       "          const docLinkHtml = 'Like what you see? Visit the ' +\n",
       "            '<a target=\"_blank\" href=https://colab.research.google.com/notebooks/data_table.ipynb>data table notebook</a>'\n",
       "            + ' to learn more about interactive tables.';\n",
       "          element.innerHTML = '';\n",
       "          dataTable['output_type'] = 'display_data';\n",
       "          await google.colab.output.renderOutput(dataTable, element);\n",
       "          const docLink = document.createElement('div');\n",
       "          docLink.innerHTML = docLinkHtml;\n",
       "          element.appendChild(docLink);\n",
       "        }\n",
       "      </script>\n",
       "    </div>\n",
       "  </div>\n",
       "  "
      ],
      "text/plain": [
       "       Unnamed: 0                  id                                      listing_url       scrape_id last_scraped           source                                               name                                        description                              neighborhood_overview                                        picture_url    host_id                                     host_url        host_name  host_since        host_location                                         host_about  \\\n",
       "42724       42724            48534581            https://www.airbnb.com/rooms/48534581  20220924142144   2022-09-25      city scrape       Hjemlig og lækker lejlighed midt på Nørrebro  Kom og bo i en skøn lejlighed midt på Nørrebro...                                                NaN  https://a0.muscache.com/pictures/fdc67ce8-6d1e...   51427303   https://www.airbnb.com/users/show/51427303       Anne-Sofie  2015-12-15  Copenhagen, Denmark                                                NaN   \n",
       "35542       35542             3038553             https://www.airbnb.com/rooms/3038553  20220924142144   2022-09-25      city scrape                 Cozy flat in the heart of Nørrebro  The apartment has the perfect location for exp...                                                NaN  https://a0.muscache.com/pictures/miso/Hosting-...   15472907   https://www.airbnb.com/users/show/15472907  Sofus Emil Ravn  2014-05-13  Copenhagen, Denmark                                                NaN   \n",
       "44603       44603  562335329284267175  https://www.airbnb.com/rooms/562335329284267175  20220924142144   2022-09-24      city scrape  Cool big studio apartment next to central station  Hyggelig stilfuld lejlighed på Vesterbro/Frede...                                                NaN  https://a0.muscache.com/pictures/bb9d461f-5be4...   81842869   https://www.airbnb.com/users/show/81842869           Morten  2016-07-05  Copenhagen, Denmark      29 y/o, living in Copenhagen w. my boyfriend.   \n",
       "46386       46386  652881536355266206  https://www.airbnb.com/rooms/652881536355266206  20220924142144   2022-09-25  previous scrape         Charmerende familievilla ved Amager Strand  Dyp tæerne i vandet og nyd roen i haven. Huset...  Området emmer af ro, selvom metro, strand og c...  https://a0.muscache.com/pictures/miso/Hosting-...   23337753   https://www.airbnb.com/users/show/23337753            Sofie  2014-11-04              Denmark  Jeg er 37 år og bor med min mand, vores 2 dren...   \n",
       "39451       39451            26890543            https://www.airbnb.com/rooms/26890543  20220924142144   2022-09-24  previous scrape             Cosy house with garden and 3 bedrooms.  Cosy house in small garden association. <br />...                                                NaN  https://a0.muscache.com/pictures/2540f324-8762...  159834726  https://www.airbnb.com/users/show/159834726    Mads Van Dijk  2017-11-23  Copenhagen, Denmark                                                NaN   \n",
       "\n",
       "      host_response_time host_response_rate host_acceptance_rate host_is_superhost                                 host_thumbnail_url                                   host_picture_url host_neighbourhood  host_listings_count  host_total_listings_count  host_verifications host_has_profile_pic host_identity_verified        neighbourhood     neighbourhood_cleansed neighbourhood_group_cleansed  latitude  longitude                property_type        room_type  accommodates  bathrooms  \\\n",
       "42724     within an hour               100%                  61%                 t  https://a0.muscache.com/im/pictures/user/29d8d...  https://a0.muscache.com/im/pictures/user/29d8d...                NaN                3.000                      5.000  ['email', 'phone']                    t                      t                  NaN                    Nrrebro                          NaN    55.690     12.544           Entire rental unit  Entire home/apt             3        NaN   \n",
       "35542     within an hour               100%                 100%                 f  https://a0.muscache.com/im/pictures/user/28098...  https://a0.muscache.com/im/pictures/user/28098...                NaN                1.000                      1.000           ['phone']                    t                      t                  NaN                    Nrrebro                          NaN    55.683     12.558  Private room in rental unit     Private room             2        NaN   \n",
       "44603     within an hour               100%                 100%                 f  https://a0.muscache.com/im/pictures/user/7454e...  https://a0.muscache.com/im/pictures/user/7454e...                NaN                1.000                      1.000  ['email', 'phone']                    t                      f                  NaN  Vesterbro-Kongens Enghave                          NaN    55.673     12.557                 Entire condo  Entire home/apt             2        NaN   \n",
       "46386                NaN                NaN                  NaN                 f  https://a0.muscache.com/im/pictures/user/ec720...  https://a0.muscache.com/im/pictures/user/ec720...                NaN                1.000                      2.000  ['email', 'phone']                    t                      t  Copenhagen, Denmark                  Amager st                          NaN    55.655     12.636                 Entire villa  Entire home/apt            10        NaN   \n",
       "39451                NaN                NaN                  67%                 f  https://a0.muscache.com/im/pictures/user/c27a4...  https://a0.muscache.com/im/pictures/user/c27a4...        Amager Vest                1.000                      1.000  ['email', 'phone']                    t                      f                  NaN                Amager Vest                          NaN    55.643     12.594                  Entire home  Entire home/apt             6        NaN   \n",
       "\n",
       "       bathrooms_text  bedrooms  beds                                          amenities    price  minimum_nights  maximum_nights  minimum_minimum_nights  maximum_minimum_nights  minimum_maximum_nights  maximum_maximum_nights  minimum_nights_avg_ntm  maximum_nights_avg_ntm  calendar_updated has_availability  availability_30  availability_60  availability_90  availability_365 calendar_last_scraped  number_of_reviews  number_of_reviews_ltm  number_of_reviews_l30d first_review last_review  \\\n",
       "42724          1 bath     1.000 1.000  [\"Stove\", \"Long term stays allowed\", \"Coffee m...  850.000               2            1125                   2.000                   4.000                1125.000                1125.000                   2.100                1125.000               NaN                t                3                3                4                 8            2022-09-25                 10                      6                       0   2021-05-16  2022-08-11   \n",
       "35542  1 private bath     1.000 1.000  [\"Wifi\", \"Smoke alarm\", \"TV\", \"Washer\", \"Kitch...  500.000               2               2                   2.000                   2.000                   2.000                   2.000                   2.000                   2.000               NaN                t                0                0                0               267            2022-09-25                  0                      0                       0          NaN         NaN   \n",
       "44603          1 bath     1.000 1.000  [\"Wifi\", \"TV\", \"Long term stays allowed\", \"Kit...  895.000               4             365                   4.000                   4.000                 365.000                 365.000                   4.000                 365.000               NaN                t                0                0                0               266            2022-09-24                  5                      5                       0   2022-04-18  2022-08-05   \n",
       "46386       2.5 baths     5.000 5.000  [\"Cleaning products\", \"Stove\", \"Coffee maker\",... 3950.000               3              11                   3.000                   3.000                  11.000                  11.000                   3.000                  11.000               NaN                t                0                0                0                 0            2022-09-25                  0                      0                       0          NaN         NaN   \n",
       "39451          1 bath     3.000 3.000  [\"Stove\", \"Drying rack for clothing\", \"Board g... 1050.000               3              21                   3.000                   3.000                  21.000                  21.000                   3.000                  21.000               NaN                t                0                0                0                 0            2022-09-24                 14                      2                       0   2018-07-17  2022-07-23   \n",
       "\n",
       "       review_scores_rating  review_scores_accuracy  review_scores_cleanliness  review_scores_checkin  review_scores_communication  review_scores_location  review_scores_value license instant_bookable  calculated_host_listings_count  calculated_host_listings_count_entire_homes  calculated_host_listings_count_private_rooms  calculated_host_listings_count_shared_rooms  reviews_per_month        city  \n",
       "42724                 5.000                   5.000                      4.400                  5.000                        5.000                   4.900                4.800     NaN                f                               1                                            1                                             0                                            0              0.600  Copenhagen  \n",
       "35542                   NaN                     NaN                        NaN                    NaN                          NaN                     NaN                  NaN     NaN                t                               1                                            0                                             1                                            0                NaN  Copenhagen  \n",
       "44603                 4.600                   4.800                      4.600                  4.200                        4.600                   5.000                4.600     NaN                t                               1                                            1                                             0                                            0              0.940  Copenhagen  \n",
       "46386                   NaN                     NaN                        NaN                    NaN                          NaN                     NaN                  NaN     NaN                f                               1                                            1                                             0                                            0                NaN  Copenhagen  \n",
       "39451                 5.000                   5.000                      4.920                  5.000                        5.000                   5.000                5.000     NaN                f                               1                                            1                                             0                                            0              0.270  Copenhagen  "
      ]
     },
     "execution_count": 14,
     "metadata": {},
     "output_type": "execute_result"
    }
   ],
   "source": [
    "df[df[\"city\"] == \"Copenhagen\"].sample(5)"
   ]
  },
  {
   "cell_type": "code",
   "execution_count": 15,
   "metadata": {
    "id": "k6f7BVtjdboS"
   },
   "outputs": [],
   "source": [
    "df.loc[(df['city'] == 'Stockholm'), 'currency'] = 'SEK'\n",
    "df.loc[(df['city'] == 'Prague'), 'currency'] = 'CZK'\n",
    "df.loc[(df['city'] == 'Copenhagen'), 'currency'] = 'DKK'\n",
    "df.loc[(df['city'] == 'Zurich'), 'currency'] = 'CHF'\n",
    "df.loc[(df['city'] == 'Oslo'), 'currency'] = 'NOK'\n",
    "df.loc[~((df['city'] == 'Oslo') | (df['city'] == 'Zurich')| (df['city'] == 'Copenhagen') | (df['city'] == 'Prague') | (df['city'] == 'Stockholm')), 'currency'] = 'EUR'"
   ]
  },
  {
   "cell_type": "code",
   "execution_count": 16,
   "metadata": {
    "id": "IzlpA3O7n0Hi"
   },
   "outputs": [],
   "source": [
    "c = CurrencyConverter()\n",
    "date_obj = dt.datetime(2022, 12, 1)\n",
    "df['price'] = df.apply( lambda x: c.convert(x.price, x.currency, 'EUR', date_obj), axis = 1)"
   ]
  },
  {
   "cell_type": "code",
   "execution_count": 17,
   "metadata": {
    "id": "YTc9itbVn2kx"
   },
   "outputs": [],
   "source": [
    "df.drop(\"currency\",axis=1,inplace=True)"
   ]
  },
  {
   "cell_type": "markdown",
   "metadata": {
    "id": "Lwiul3W8tYIF"
   },
   "source": [
    "# Exploratory Data Analysis (EDA)"
   ]
  },
  {
   "cell_type": "code",
   "execution_count": 18,
   "metadata": {
    "id": "hmzezLHqtWOO"
   },
   "outputs": [],
   "source": [
    "def grab_col_names(dataframe, cat_th=10, car_th=20):\n",
    "\n",
    "    cat_cols = [col for col in dataframe.columns if dataframe[col].dtypes == \"O\"]\n",
    "    num_but_cat = [col for col in dataframe.columns if dataframe[col].nunique() < cat_th and\n",
    "                   dataframe[col].dtypes != \"O\"]\n",
    "    cat_but_car = [col for col in dataframe.columns if dataframe[col].nunique() > car_th and\n",
    "                   dataframe[col].dtypes == \"O\"]\n",
    "    cat_cols = cat_cols + num_but_cat\n",
    "    cat_cols = [col for col in cat_cols if col not in cat_but_car]\n",
    "\n",
    "    # num_cols\n",
    "    num_cols = [col for col in dataframe.columns if dataframe[col].dtypes != \"O\"]\n",
    "    num_cols = [col for col in num_cols if col not in num_but_cat]\n",
    "\n",
    "    print('\\033[1m'f\"{get_df_name(dataframe).upper()}\",'\\033[0m' \"\\n\")\n",
    "    print(f\"Observations: {dataframe.shape[0]}\")\n",
    "    print(f\"Variables: {dataframe.shape[1]}\")\n",
    "    print(f'cat_cols: {len(cat_cols)}')\n",
    "    print(f'num_cols: {len(num_cols)}')\n",
    "    print(f'cat_but_car: {len(cat_but_car)}')\n",
    "    print(f'num_but_cat: {len(num_but_cat)}')\n",
    "    return cat_cols, num_cols, cat_but_car"
   ]
  },
  {
   "cell_type": "code",
   "execution_count": 19,
   "metadata": {
    "colab": {
     "base_uri": "https://localhost:8080/"
    },
    "id": "mci8yIWEtWOO",
    "outputId": "c0de6d2b-7675-4cc0-9ee1-49dec900f0d9"
   },
   "outputs": [
    {
     "name": "stdout",
     "output_type": "stream",
     "text": [
      "\u001b[1mDF \u001b[0m\n",
      "\n",
      "Observations: 245139\n",
      "Variables: 77\n",
      "cat_cols: 14\n",
      "num_cols: 39\n",
      "cat_but_car: 24\n",
      "num_but_cat: 2\n",
      "\n",
      "Numerical Columns:['Unnamed: 0', 'id', 'scrape_id', 'host_id', 'host_listings_count', 'host_total_listings_count', 'latitude', 'longitude', 'accommodates', 'bedrooms', 'beds', 'price', 'minimum_nights', 'maximum_nights', 'minimum_minimum_nights', 'maximum_minimum_nights', 'minimum_maximum_nights', 'maximum_maximum_nights', 'minimum_nights_avg_ntm', 'maximum_nights_avg_ntm', 'availability_30', 'availability_60', 'availability_90', 'availability_365', 'number_of_reviews', 'number_of_reviews_ltm', 'number_of_reviews_l30d', 'review_scores_rating', 'review_scores_accuracy', 'review_scores_cleanliness', 'review_scores_checkin', 'review_scores_communication', 'review_scores_location', 'review_scores_value', 'calculated_host_listings_count', 'calculated_host_listings_count_entire_homes', 'calculated_host_listings_count_private_rooms', 'calculated_host_listings_count_shared_rooms', 'reviews_per_month']\n",
      "Categorical Columns:['last_scraped', 'source', 'host_response_time', 'host_is_superhost', 'host_verifications', 'host_has_profile_pic', 'host_identity_verified', 'room_type', 'has_availability', 'calendar_last_scraped', 'instant_bookable', 'city', 'bathrooms', 'calendar_updated']\n",
      "Cardinal Columns:['listing_url', 'name', 'description', 'neighborhood_overview', 'picture_url', 'host_url', 'host_name', 'host_since', 'host_location', 'host_about', 'host_response_rate', 'host_acceptance_rate', 'host_thumbnail_url', 'host_picture_url', 'host_neighbourhood', 'neighbourhood', 'neighbourhood_cleansed', 'neighbourhood_group_cleansed', 'property_type', 'bathrooms_text', 'amenities', 'first_review', 'last_review', 'license']\n"
     ]
    }
   ],
   "source": [
    "cat_cols, num_cols, cat_but_car = grab_col_names(df)\n",
    "print(f\"\\nNumerical Columns:{num_cols}\\nCategorical Columns:{cat_cols}\\nCardinal Columns:{cat_but_car}\")"
   ]
  },
  {
   "cell_type": "code",
   "execution_count": 20,
   "metadata": {
    "id": "rlTIs0YetWOP"
   },
   "outputs": [],
   "source": [
    "def cat_summary(dataframe, col_name, plot=False):\n",
    "  print('\\033[1m' +f'{col_name.upper()}'.center(30, '-')+'\\033[0m')\n",
    "  print(pd.DataFrame({\"Count\": dataframe[col_name].value_counts(),\n",
    "                      \"Ratio\": 100 * dataframe[col_name].value_counts() / len(dataframe)}))\n",
    "  print(\"\\n\")\n",
    "  if plot:\n",
    "    sns.countplot(x=dataframe[col_name], data=dataframe)\n",
    "    plt.show()\n",
    "    #print(\"\\n\")"
   ]
  },
  {
   "cell_type": "code",
   "execution_count": 21,
   "metadata": {
    "colab": {
     "base_uri": "https://localhost:8080/"
    },
    "id": "Bt527tT2tWOP",
    "outputId": "f044b727-9e49-45a6-9b6f-38b465a2870d"
   },
   "outputs": [
    {
     "name": "stdout",
     "output_type": "stream",
     "text": [
      "\u001b[1m---------LAST_SCRAPED---------\u001b[0m\n",
      "            Count  Ratio\n",
      "2022-09-12  59316 24.197\n",
      "2022-09-10  51907 21.175\n",
      "2022-09-24  18900  7.710\n",
      "2022-09-16  17941  7.319\n",
      "2022-09-15  15353  6.263\n",
      "2022-09-11  14489  5.911\n",
      "2022-09-13  13856  5.652\n",
      "2022-09-09  12215  4.983\n",
      "2022-09-14   8486  3.462\n",
      "2022-09-07   6892  2.811\n",
      "2022-09-26   6494  2.649\n",
      "2022-09-18   6065  2.474\n",
      "2022-09-21   5382  2.195\n",
      "2022-09-25   4272  1.743\n",
      "2022-09-23   2246  0.916\n",
      "2022-09-22   1245  0.508\n",
      "2022-09-17     69  0.028\n",
      "2022-09-19      7  0.003\n",
      "2022-10-03      4  0.002\n",
      "\n",
      "\n",
      "\u001b[1m------------SOURCE------------\u001b[0m\n",
      "                  Count  Ratio\n",
      "city scrape      171679 70.033\n",
      "previous scrape   73460 29.967\n",
      "\n",
      "\n",
      "\u001b[1m------HOST_RESPONSE_TIME------\u001b[0m\n",
      "                     Count  Ratio\n",
      "within an hour      119599 48.788\n",
      "within a few hours   29937 12.212\n",
      "within a day         21994  8.972\n",
      "a few days or more    5581  2.277\n",
      "\n",
      "\n",
      "\u001b[1m------HOST_IS_SUPERHOST-------\u001b[0m\n",
      "    Count  Ratio\n",
      "f  199671 81.452\n",
      "t   45364 18.505\n",
      "\n",
      "\n",
      "\u001b[1m------HOST_VERIFICATIONS------\u001b[0m\n",
      "                                                   Count  Ratio\n",
      "['email', 'phone']                                196641 80.216\n",
      "['email', 'phone', 'work_email']                   27776 11.331\n",
      "['phone']                                          17924  7.312\n",
      "['phone', 'work_email']                             1222  0.498\n",
      "['email']                                            940  0.383\n",
      "[]                                                   578  0.236\n",
      "None                                                  40  0.016\n",
      "['email', 'work_email']                               13  0.005\n",
      "['email', 'phone', 'photographer']                     3  0.001\n",
      "['work_email']                                         1  0.000\n",
      "['email', 'phone', 'photographer', 'work_email']       1  0.000\n",
      "\n",
      "\n",
      "\u001b[1m-----HOST_HAS_PROFILE_PIC-----\u001b[0m\n",
      "    Count  Ratio\n",
      "t  242157 98.784\n",
      "f    2942  1.200\n",
      "\n",
      "\n",
      "\u001b[1m----HOST_IDENTITY_VERIFIED----\u001b[0m\n",
      "    Count  Ratio\n",
      "t  205639 83.887\n",
      "f   39460 16.097\n",
      "\n",
      "\n",
      "\u001b[1m----------ROOM_TYPE-----------\u001b[0m\n",
      "                  Count  Ratio\n",
      "Entire home/apt  182925 74.621\n",
      "Private room      57276 23.365\n",
      "Hotel room         3147  1.284\n",
      "Shared room        1791  0.731\n",
      "\n",
      "\n",
      "\u001b[1m-------HAS_AVAILABILITY-------\u001b[0m\n",
      "    Count  Ratio\n",
      "t  244653 99.802\n",
      "f     486  0.198\n",
      "\n",
      "\n",
      "\u001b[1m----CALENDAR_LAST_SCRAPED-----\u001b[0m\n",
      "            Count  Ratio\n",
      "2022-09-12  59316 24.197\n",
      "2022-09-10  51911 21.176\n",
      "2022-09-24  18902  7.711\n",
      "2022-09-16  17941  7.319\n",
      "2022-09-15  15353  6.263\n",
      "2022-09-11  14483  5.908\n",
      "2022-09-13  13856  5.652\n",
      "2022-09-09  12217  4.984\n",
      "2022-09-14   8486  3.462\n",
      "2022-09-07   6892  2.811\n",
      "2022-09-26   6494  2.649\n",
      "2022-09-18   6065  2.474\n",
      "2022-09-21   5382  2.195\n",
      "2022-09-25   4270  1.742\n",
      "2022-09-23   2246  0.916\n",
      "2022-09-22   1245  0.508\n",
      "2022-09-17     69  0.028\n",
      "2022-09-19      7  0.003\n",
      "2022-10-03      4  0.002\n",
      "\n",
      "\n",
      "\u001b[1m-------INSTANT_BOOKABLE-------\u001b[0m\n",
      "    Count  Ratio\n",
      "f  134668 54.935\n",
      "t  110471 45.065\n",
      "\n",
      "\n",
      "\u001b[1m-------------CITY-------------\u001b[0m\n",
      "            Count  Ratio\n",
      "Paris       61365 25.033\n",
      "Rome        24782 10.109\n",
      "Madrid      20681  8.436\n",
      "Barcelona   16920  6.902\n",
      "Berlin      16680  6.804\n",
      "Copenhagen  13815  5.636\n",
      "Porto       11804  4.815\n",
      "Vienna      11797  4.812\n",
      "Florence    11138  4.544\n",
      "Lyon        10934  4.460\n",
      "Prague       7537  3.075\n",
      "Amsterdam    6893  2.812\n",
      "Munich       6627  2.703\n",
      "Sevilla      6494  2.649\n",
      "Brussels     6065  2.474\n",
      "Oslo         5371  2.191\n",
      "Stockholm    3990  1.628\n",
      "Zurich       2246  0.916\n",
      "\n",
      "\n",
      "\u001b[1m----------BATHROOMS-----------\u001b[0m\n",
      "Empty DataFrame\n",
      "Columns: [Count, Ratio]\n",
      "Index: []\n",
      "\n",
      "\n",
      "\u001b[1m-------CALENDAR_UPDATED-------\u001b[0m\n",
      "Empty DataFrame\n",
      "Columns: [Count, Ratio]\n",
      "Index: []\n",
      "\n",
      "\n"
     ]
    }
   ],
   "source": [
    "for col in cat_cols:\n",
    "    cat_summary(df, col)"
   ]
  },
  {
   "cell_type": "code",
   "execution_count": 22,
   "metadata": {
    "id": "X-_FroT7tWOP"
   },
   "outputs": [],
   "source": [
    "def num_summary(dataframe, numerical_col, plot=False):\n",
    "  print('\\033[1m' +f'{numerical_col.upper()}'.center(30, '-')+'\\033[0m')\n",
    "  quantiles = [0.05, 0.10, 0.20, 0.30, 0.40, 0.50, 0.60, 0.70, 0.80, 0.90, 0.95, 0.99]\n",
    "  print(dataframe[numerical_col].describe(quantiles).T)\n",
    "  print(\"\\n\")\n",
    "\n",
    "  if plot:\n",
    "        dataframe[numerical_col].hist(bins=50)\n",
    "        plt.xlabel(numerical_col)\n",
    "        plt.title(numerical_col)\n",
    "        plt.show(block=True)\n",
    "        print(\"\\n\")"
   ]
  },
  {
   "cell_type": "code",
   "execution_count": 23,
   "metadata": {
    "colab": {
     "base_uri": "https://localhost:8080/",
     "height": 1000
    },
    "id": "8oHST64ZtWOP",
    "outputId": "47ee6590-7255-4234-b7a5-8281376649c4"
   },
   "outputs": [
    {
     "name": "stdout",
     "output_type": "stream",
     "text": [
      "\u001b[1m----------UNNAMED: 0----------\u001b[0m\n",
      "count   245139.000\n",
      "mean    122569.000\n",
      "std      70765.678\n",
      "min          0.000\n",
      "5%       12256.900\n",
      "10%      24513.800\n",
      "20%      49027.600\n",
      "30%      73541.400\n",
      "40%      98055.200\n",
      "50%     122569.000\n",
      "60%     147082.800\n",
      "70%     171596.600\n",
      "80%     196110.400\n",
      "90%     220624.200\n",
      "95%     232881.100\n",
      "99%     242686.620\n",
      "max     245138.000\n",
      "Name: Unnamed: 0, dtype: float64\n",
      "\n",
      "\n"
     ]
    },
    {
     "data": {
      "image/png": "[encoded data removed]",
      "text/plain": [
       "<Figure size 432x288 with 1 Axes>"
      ]
     },
     "metadata": {
      "needs_background": "light"
     },
     "output_type": "display_data"
    },
    {
     "name": "stdout",
     "output_type": "stream",
     "text": [
      "\n",
      "\n",
      "\u001b[1m--------------ID--------------\u001b[0m\n",
      "count               245139.000\n",
      "mean    125542604679405680.000\n",
      "std     255331258614727008.000\n",
      "min                   2352.000\n",
      "5%                 2847014.500\n",
      "10%                6321677.600\n",
      "20%               13651373.800\n",
      "30%               20508903.400\n",
      "40%               27446404.400\n",
      "50%               35190363.000\n",
      "60%               41975202.800\n",
      "70%               49703137.600\n",
      "80%               54240330.200\n",
      "90%     646430610264231424.000\n",
      "95%     677442380102882432.000\n",
      "99%     707846180550138496.000\n",
      "max     723888108373004032.000\n",
      "Name: id, dtype: float64\n",
      "\n",
      "\n"
     ]
    },
    {
     "data": {
      "image/png": "[encoded data removed]",
      "text/plain": [
       "<Figure size 432x288 with 1 Axes>"
      ]
     },
     "metadata": {
      "needs_background": "light"
     },
     "output_type": "display_data"
    },
    {
     "name": "stdout",
     "output_type": "stream",
     "text": [
      "\n",
      "\n",
      "\u001b[1m----------SCRAPE_ID-----------\u001b[0m\n",
      "count           245139.000\n",
      "mean    20220913365156.402\n",
      "std            5102919.404\n",
      "min     20220907151523.000\n",
      "5%      20220909140132.000\n",
      "10%     20220909140132.000\n",
      "20%     20220909140132.000\n",
      "30%     20220910194401.000\n",
      "40%     20220911230855.000\n",
      "50%     20220911230914.000\n",
      "60%     20220912200221.000\n",
      "70%     20220914194856.000\n",
      "80%     20220916161105.000\n",
      "90%     20220924142144.000\n",
      "95%     20220924142204.000\n",
      "99%     20220926045633.000\n",
      "max     20220926045633.000\n",
      "Name: scrape_id, dtype: float64\n",
      "\n",
      "\n"
     ]
    },
    {
     "data": {
      "image/png": "[encoded data removed]",
      "text/plain": [
       "<Figure size 432x288 with 1 Axes>"
      ]
     },
     "metadata": {
      "needs_background": "light"
     },
     "output_type": "display_data"
    },
    {
     "name": "stdout",
     "output_type": "stream",
     "text": [
      "\n",
      "\n",
      "\u001b[1m-----------HOST_ID------------\u001b[0m\n",
      "count      245139.000\n",
      "mean    129260293.414\n",
      "std     142762953.099\n",
      "min           275.000\n",
      "5%        2242521.700\n",
      "10%       4641209.000\n",
      "20%      11569705.800\n",
      "30%      22557964.000\n",
      "40%      37295091.000\n",
      "50%      61504821.000\n",
      "60%     105319052.000\n",
      "70%     170973439.000\n",
      "80%     260398297.000\n",
      "90%     385740410.000\n",
      "95%     440119693.300\n",
      "99%     471348795.540\n",
      "max     480764897.000\n",
      "Name: host_id, dtype: float64\n",
      "\n",
      "\n"
     ]
    },
    {
     "data": {
      "image/png": "[encoded data removed]",
      "text/plain": [
       "<Figure size 432x288 with 1 Axes>"
      ]
     },
     "metadata": {
      "needs_background": "light"
     },
     "output_type": "display_data"
    },
    {
     "name": "stdout",
     "output_type": "stream",
     "text": [
      "\n",
      "\n",
      "\u001b[1m-----HOST_LISTINGS_COUNT------\u001b[0m\n",
      "count   245099.000\n",
      "mean        16.831\n",
      "std         73.400\n",
      "min          0.000\n",
      "5%           1.000\n",
      "10%          1.000\n",
      "20%          1.000\n",
      "30%          1.000\n",
      "40%          1.000\n",
      "50%          2.000\n",
      "60%          2.000\n",
      "70%          4.000\n",
      "80%          8.000\n",
      "90%         29.000\n",
      "95%         81.000\n",
      "99%        278.000\n",
      "max       2157.000\n",
      "Name: host_listings_count, dtype: float64\n",
      "\n",
      "\n"
     ]
    },
    {
     "data": {
      "image/png": "[encoded data removed]",
      "text/plain": [
       "<Figure size 432x288 with 1 Axes>"
      ]
     },
     "metadata": {
      "needs_background": "light"
     },
     "output_type": "display_data"
    },
    {
     "name": "stdout",
     "output_type": "stream",
     "text": [
      "\n",
      "\n",
      "\u001b[1m--HOST_TOTAL_LISTINGS_COUNT---\u001b[0m\n",
      "count   245099.000\n",
      "mean        34.103\n",
      "std        409.566\n",
      "min          0.000\n",
      "5%           1.000\n",
      "10%          1.000\n",
      "20%          1.000\n",
      "30%          1.000\n",
      "40%          2.000\n",
      "50%          2.000\n",
      "60%          3.000\n",
      "70%          5.000\n",
      "80%         11.000\n",
      "90%         39.000\n",
      "95%        109.000\n",
      "99%        446.000\n",
      "max      20000.000\n",
      "Name: host_total_listings_count, dtype: float64\n",
      "\n",
      "\n"
     ]
    },
    {
     "data": {
      "image/png": "[encoded data removed]",
      "text/plain": [
       "<Figure size 432x288 with 1 Axes>"
      ]
     },
     "metadata": {
      "needs_background": "light"
     },
     "output_type": "display_data"
    },
    {
     "name": "stdout",
     "output_type": "stream",
     "text": [
      "\n",
      "\n",
      "\u001b[1m-----------LATITUDE-----------\u001b[0m\n",
      "count   245139.000\n",
      "mean        47.050\n",
      "std          5.289\n",
      "min         37.302\n",
      "5%          40.410\n",
      "10%         40.445\n",
      "20%         41.394\n",
      "30%         41.905\n",
      "40%         45.764\n",
      "50%         48.232\n",
      "60%         48.858\n",
      "70%         48.882\n",
      "80%         50.846\n",
      "90%         52.552\n",
      "95%         55.698\n",
      "99%         59.924\n",
      "max         60.039\n",
      "Name: latitude, dtype: float64\n",
      "\n",
      "\n"
     ]
    },
    {
     "data": {
      "image/png": "[encoded data removed]",
      "text/plain": [
       "<Figure size 432x288 with 1 Axes>"
      ]
     },
     "metadata": {
      "needs_background": "light"
     },
     "output_type": "display_data"
    },
    {
     "name": "stdout",
     "output_type": "stream",
     "text": [
      "\n",
      "\n",
      "\u001b[1m----------LONGITUDE-----------\u001b[0m\n",
      "count   245139.000\n",
      "mean         5.856\n",
      "std          7.019\n",
      "min         -8.783\n",
      "5%          -6.005\n",
      "10%         -3.706\n",
      "20%          2.172\n",
      "30%          2.325\n",
      "40%          2.363\n",
      "50%          4.394\n",
      "60%         10.772\n",
      "70%         12.457\n",
      "80%         12.551\n",
      "90%         13.477\n",
      "95%         16.344\n",
      "99%         18.029\n",
      "max         18.211\n",
      "Name: longitude, dtype: float64\n",
      "\n",
      "\n"
     ]
    },
    {
     "data": {
      "image/png": "[encoded data removed]",
      "text/plain": [
       "<Figure size 432x288 with 1 Axes>"
      ]
     },
     "metadata": {
      "needs_background": "light"
     },
     "output_type": "display_data"
    },
    {
     "name": "stdout",
     "output_type": "stream",
     "text": [
      "\n",
      "\n",
      "\u001b[1m---------ACCOMMODATES---------\u001b[0m\n",
      "count   245139.000\n",
      "mean         3.290\n",
      "std          1.908\n",
      "min          0.000\n",
      "5%           1.000\n",
      "10%          2.000\n",
      "20%          2.000\n",
      "30%          2.000\n",
      "40%          2.000\n",
      "50%          3.000\n",
      "60%          4.000\n",
      "70%          4.000\n",
      "80%          4.000\n",
      "90%          6.000\n",
      "95%          6.000\n",
      "99%         10.000\n",
      "max         16.000\n",
      "Name: accommodates, dtype: float64\n",
      "\n",
      "\n"
     ]
    },
    {
     "data": {
      "image/png": "[encoded data removed]",
      "text/plain": [
       "<Figure size 432x288 with 1 Axes>"
      ]
     },
     "metadata": {
      "needs_background": "light"
     },
     "output_type": "display_data"
    },
    {
     "name": "stdout",
     "output_type": "stream",
     "text": [
      "\n",
      "\n",
      "\u001b[1m-----------BEDROOMS-----------\u001b[0m\n",
      "count   223308.000\n",
      "mean         1.478\n",
      "std          0.954\n",
      "min          1.000\n",
      "5%           1.000\n",
      "10%          1.000\n",
      "20%          1.000\n",
      "30%          1.000\n",
      "40%          1.000\n",
      "50%          1.000\n",
      "60%          1.000\n",
      "70%          2.000\n",
      "80%          2.000\n",
      "90%          3.000\n",
      "95%          3.000\n",
      "99%          4.000\n",
      "max        101.000\n",
      "Name: bedrooms, dtype: float64\n",
      "\n",
      "\n"
     ]
    },
    {
     "data": {
      "image/png": "[encoded data removed]",
      "text/plain": [
       "<Figure size 432x288 with 1 Axes>"
      ]
     },
     "metadata": {
      "needs_background": "light"
     },
     "output_type": "display_data"
    },
    {
     "name": "stdout",
     "output_type": "stream",
     "text": [
      "\n",
      "\n",
      "\u001b[1m-------------BEDS-------------\u001b[0m\n",
      "count   241458.000\n",
      "mean         1.997\n",
      "std          1.533\n",
      "min          1.000\n",
      "5%           1.000\n",
      "10%          1.000\n",
      "20%          1.000\n",
      "30%          1.000\n",
      "40%          1.000\n",
      "50%          2.000\n",
      "60%          2.000\n",
      "70%          2.000\n",
      "80%          3.000\n",
      "90%          4.000\n",
      "95%          5.000\n",
      "99%          7.000\n",
      "max         90.000\n",
      "Name: beds, dtype: float64\n",
      "\n",
      "\n"
     ]
    },
    {
     "data": {
      "image/png": "[encoded data removed]",
      "text/plain": [
       "<Figure size 432x288 with 1 Axes>"
      ]
     },
     "metadata": {
      "needs_background": "light"
     },
     "output_type": "display_data"
    },
    {
     "name": "stdout",
     "output_type": "stream",
     "text": [
      "\n",
      "\n",
      "\u001b[1m------------PRICE-------------\u001b[0m\n",
      "count   245139.000\n",
      "mean       150.078\n",
      "std        495.391\n",
      "min          0.000\n",
      "5%          30.000\n",
      "10%         40.000\n",
      "20%         55.000\n",
      "30%         69.000\n",
      "40%         80.809\n",
      "50%         97.000\n",
      "60%        116.000\n",
      "70%        141.000\n",
      "80%        181.000\n",
      "90%        266.922\n",
      "95%        376.481\n",
      "99%        881.000\n",
      "max      91000.000\n",
      "Name: price, dtype: float64\n",
      "\n",
      "\n"
     ]
    },
    {
     "data": {
      "image/png": "[encoded data removed]",
      "text/plain": [
       "<Figure size 432x288 with 1 Axes>"
      ]
     },
     "metadata": {
      "needs_background": "light"
     },
     "output_type": "display_data"
    },
    {
     "name": "stdout",
     "output_type": "stream",
     "text": [
      "\n",
      "\n",
      "\u001b[1m--------MINIMUM_NIGHTS--------\u001b[0m\n",
      "count   245139.000\n",
      "mean        29.014\n",
      "std         92.657\n",
      "min          1.000\n",
      "5%           1.000\n",
      "10%          1.000\n",
      "20%          1.000\n",
      "30%          2.000\n",
      "40%          2.000\n",
      "50%          2.000\n",
      "60%          3.000\n",
      "70%          4.000\n",
      "80%          6.000\n",
      "90%         31.000\n",
      "95%        365.000\n",
      "99%        365.000\n",
      "max       9999.000\n",
      "Name: minimum_nights, dtype: float64\n",
      "\n",
      "\n"
     ]
    },
    {
     "data": {
      "image/png": "[encoded data removed]",
      "text/plain": [
       "<Figure size 432x288 with 1 Axes>"
      ]
     },
     "metadata": {
      "needs_background": "light"
     },
     "output_type": "display_data"
    },
    {
     "name": "stdout",
     "output_type": "stream",
     "text": [
      "\n",
      "\n",
      "\u001b[1m--------MAXIMUM_NIGHTS--------\u001b[0m\n",
      "count     245139.000\n",
      "mean         655.622\n",
      "std        20275.948\n",
      "min            1.000\n",
      "5%             8.000\n",
      "10%           15.000\n",
      "20%           30.000\n",
      "30%           90.000\n",
      "40%          365.000\n",
      "50%          365.000\n",
      "60%         1125.000\n",
      "70%         1125.000\n",
      "80%         1125.000\n",
      "90%         1125.000\n",
      "95%         1125.000\n",
      "99%         1125.000\n",
      "max     10000000.000\n",
      "Name: maximum_nights, dtype: float64\n",
      "\n",
      "\n"
     ]
    },
    {
     "data": {
      "image/png": "[encoded data removed]",
      "text/plain": [
       "<Figure size 432x288 with 1 Axes>"
      ]
     },
     "metadata": {
      "needs_background": "light"
     },
     "output_type": "display_data"
    },
    {
     "name": "stdout",
     "output_type": "stream",
     "text": [
      "\n",
      "\n",
      "\u001b[1m----MINIMUM_MINIMUM_NIGHTS----\u001b[0m\n",
      "count   245114.000\n",
      "mean        28.646\n",
      "std         92.315\n",
      "min          1.000\n",
      "5%           1.000\n",
      "10%          1.000\n",
      "20%          1.000\n",
      "30%          1.000\n",
      "40%          2.000\n",
      "50%          2.000\n",
      "60%          3.000\n",
      "70%          3.000\n",
      "80%          5.000\n",
      "90%         30.000\n",
      "95%        365.000\n",
      "99%        365.000\n",
      "max       9999.000\n",
      "Name: minimum_minimum_nights, dtype: float64\n",
      "\n",
      "\n"
     ]
    },
    {
     "data": {
      "image/png": "[encoded data removed]",
      "text/plain": [
       "<Figure size 432x288 with 1 Axes>"
      ]
     },
     "metadata": {
      "needs_background": "light"
     },
     "output_type": "display_data"
    },
    {
     "name": "stdout",
     "output_type": "stream",
     "text": [
      "\n",
      "\n",
      "\u001b[1m----MAXIMUM_MINIMUM_NIGHTS----\u001b[0m\n",
      "count   245114.000\n",
      "mean        32.009\n",
      "std        100.306\n",
      "min          1.000\n",
      "5%           1.000\n",
      "10%          1.000\n",
      "20%          2.000\n",
      "30%          2.000\n",
      "40%          2.000\n",
      "50%          3.000\n",
      "60%          3.000\n",
      "70%          4.000\n",
      "80%          7.000\n",
      "90%         31.000\n",
      "95%        365.000\n",
      "99%        365.000\n",
      "max       9999.000\n",
      "Name: maximum_minimum_nights, dtype: float64\n",
      "\n",
      "\n"
     ]
    },
    {
     "data": {
      "image/png": "[encoded data removed]",
      "text/plain": [
       "<Figure size 432x288 with 1 Axes>"
      ]
     },
     "metadata": {
      "needs_background": "light"
     },
     "output_type": "display_data"
    },
    {
     "name": "stdout",
     "output_type": "stream",
     "text": [
      "\n",
      "\n",
      "\u001b[1m----MINIMUM_MAXIMUM_NIGHTS----\u001b[0m\n",
      "count       245114.000\n",
      "mean        237296.395\n",
      "std       22537444.961\n",
      "min              1.000\n",
      "5%               6.000\n",
      "10%             14.000\n",
      "20%             30.000\n",
      "30%            300.000\n",
      "40%            365.000\n",
      "50%           1125.000\n",
      "60%           1125.000\n",
      "70%           1125.000\n",
      "80%           1125.000\n",
      "90%           1125.000\n",
      "95%           1125.000\n",
      "99%           1125.000\n",
      "max     2147483647.000\n",
      "Name: minimum_maximum_nights, dtype: float64\n",
      "\n",
      "\n"
     ]
    },
    {
     "data": {
      "image/png": "[encoded data removed]",
      "text/plain": [
       "<Figure size 432x288 with 1 Axes>"
      ]
     },
     "metadata": {
      "needs_background": "light"
     },
     "output_type": "display_data"
    },
    {
     "name": "stdout",
     "output_type": "stream",
     "text": [
      "\n",
      "\n",
      "\u001b[1m----MAXIMUM_MAXIMUM_NIGHTS----\u001b[0m\n",
      "count       245114.000\n",
      "mean        473896.073\n",
      "std       31870997.479\n",
      "min              1.000\n",
      "5%              10.000\n",
      "10%             20.000\n",
      "20%             60.000\n",
      "30%            365.000\n",
      "40%            999.000\n",
      "50%           1125.000\n",
      "60%           1125.000\n",
      "70%           1125.000\n",
      "80%           1125.000\n",
      "90%           1125.000\n",
      "95%           1125.000\n",
      "99%           1125.000\n",
      "max     2147483647.000\n",
      "Name: maximum_maximum_nights, dtype: float64\n",
      "\n",
      "\n"
     ]
    },
    {
     "data": {
      "image/png": "[encoded data removed]",
      "text/plain": [
       "<Figure size 432x288 with 1 Axes>"
      ]
     },
     "metadata": {
      "needs_background": "light"
     },
     "output_type": "display_data"
    },
    {
     "name": "stdout",
     "output_type": "stream",
     "text": [
      "\n",
      "\n",
      "\u001b[1m----MINIMUM_NIGHTS_AVG_NTM----\u001b[0m\n",
      "count   245114.000\n",
      "mean        31.137\n",
      "std         99.027\n",
      "min          1.000\n",
      "5%           1.000\n",
      "10%          1.000\n",
      "20%          1.100\n",
      "30%          2.000\n",
      "40%          2.000\n",
      "50%          2.400\n",
      "60%          3.000\n",
      "70%          4.000\n",
      "80%          6.000\n",
      "90%         31.000\n",
      "95%        365.000\n",
      "99%        365.000\n",
      "max       9999.000\n",
      "Name: minimum_nights_avg_ntm, dtype: float64\n",
      "\n",
      "\n"
     ]
    },
    {
     "data": {
      "image/png": "[encoded data removed]",
      "text/plain": [
       "<Figure size 432x288 with 1 Axes>"
      ]
     },
     "metadata": {
      "needs_background": "light"
     },
     "output_type": "display_data"
    },
    {
     "name": "stdout",
     "output_type": "stream",
     "text": [
      "\n",
      "\n",
      "\u001b[1m----MAXIMUM_NIGHTS_AVG_NTM----\u001b[0m\n",
      "count       245114.000\n",
      "mean        376823.890\n",
      "std       27789639.011\n",
      "min              1.000\n",
      "5%              10.000\n",
      "10%             20.000\n",
      "20%             60.000\n",
      "30%            365.000\n",
      "40%            365.000\n",
      "50%           1125.000\n",
      "60%           1125.000\n",
      "70%           1125.000\n",
      "80%           1125.000\n",
      "90%           1125.000\n",
      "95%           1125.000\n",
      "99%           1125.000\n",
      "max     2147483647.000\n",
      "Name: maximum_nights_avg_ntm, dtype: float64\n",
      "\n",
      "\n"
     ]
    },
    {
     "data": {
      "image/png": "[encoded data removed]",
      "text/plain": [
       "<Figure size 432x288 with 1 Axes>"
      ]
     },
     "metadata": {
      "needs_background": "light"
     },
     "output_type": "display_data"
    },
    {
     "name": "stdout",
     "output_type": "stream",
     "text": [
      "\n",
      "\n",
      "\u001b[1m-------AVAILABILITY_30--------\u001b[0m\n",
      "count   245139.000\n",
      "mean         5.711\n",
      "std          8.461\n",
      "min          0.000\n",
      "5%           0.000\n",
      "10%          0.000\n",
      "20%          0.000\n",
      "30%          0.000\n",
      "40%          0.000\n",
      "50%          1.000\n",
      "60%          3.000\n",
      "70%          6.000\n",
      "80%         11.000\n",
      "90%         20.000\n",
      "95%         27.000\n",
      "99%         30.000\n",
      "max         30.000\n",
      "Name: availability_30, dtype: float64\n",
      "\n",
      "\n"
     ]
    },
    {
     "data": {
      "image/png": "[encoded data removed]",
      "text/plain": [
       "<Figure size 432x288 with 1 Axes>"
      ]
     },
     "metadata": {
      "needs_background": "light"
     },
     "output_type": "display_data"
    },
    {
     "name": "stdout",
     "output_type": "stream",
     "text": [
      "\n",
      "\n",
      "\u001b[1m-------AVAILABILITY_60--------\u001b[0m\n",
      "count   245139.000\n",
      "mean        15.753\n",
      "std         19.060\n",
      "min          0.000\n",
      "5%           0.000\n",
      "10%          0.000\n",
      "20%          0.000\n",
      "30%          0.000\n",
      "40%          1.000\n",
      "50%          7.000\n",
      "60%         14.000\n",
      "70%         23.000\n",
      "80%         35.000\n",
      "90%         48.000\n",
      "95%         56.000\n",
      "99%         60.000\n",
      "max         60.000\n",
      "Name: availability_60, dtype: float64\n",
      "\n",
      "\n"
     ]
    },
    {
     "data": {
      "image/png": "[encoded data removed]",
      "text/plain": [
       "<Figure size 432x288 with 1 Axes>"
      ]
     },
     "metadata": {
      "needs_background": "light"
     },
     "output_type": "display_data"
    },
    {
     "name": "stdout",
     "output_type": "stream",
     "text": [
      "\n",
      "\n",
      "\u001b[1m-------AVAILABILITY_90--------\u001b[0m\n",
      "count   245139.000\n",
      "mean        28.761\n",
      "std         30.931\n",
      "min          0.000\n",
      "5%           0.000\n",
      "10%          0.000\n",
      "20%          0.000\n",
      "30%          0.000\n",
      "40%          2.000\n",
      "50%         16.000\n",
      "60%         36.000\n",
      "70%         49.000\n",
      "80%         62.000\n",
      "90%         77.000\n",
      "95%         86.000\n",
      "99%         90.000\n",
      "max         90.000\n",
      "Name: availability_90, dtype: float64\n",
      "\n",
      "\n"
     ]
    },
    {
     "data": {
      "image/png": "[encoded data removed]",
      "text/plain": [
       "<Figure size 432x288 with 1 Axes>"
      ]
     },
     "metadata": {
      "needs_background": "light"
     },
     "output_type": "display_data"
    },
    {
     "name": "stdout",
     "output_type": "stream",
     "text": [
      "\n",
      "\n",
      "\u001b[1m-------AVAILABILITY_365-------\u001b[0m\n",
      "count   245139.000\n",
      "mean       139.008\n",
      "std        135.997\n",
      "min          0.000\n",
      "5%           0.000\n",
      "10%          0.000\n",
      "20%          0.000\n",
      "30%          3.000\n",
      "40%         44.000\n",
      "50%         90.000\n",
      "60%        167.000\n",
      "70%        253.000\n",
      "80%        308.000\n",
      "90%        339.000\n",
      "95%        355.000\n",
      "99%        365.000\n",
      "max        365.000\n",
      "Name: availability_365, dtype: float64\n",
      "\n",
      "\n"
     ]
    },
    {
     "data": {
      "image/png": "[encoded data removed]",
      "text/plain": [
       "<Figure size 432x288 with 1 Axes>"
      ]
     },
     "metadata": {
      "needs_background": "light"
     },
     "output_type": "display_data"
    },
    {
     "name": "stdout",
     "output_type": "stream",
     "text": [
      "\n",
      "\n",
      "\u001b[1m------NUMBER_OF_REVIEWS-------\u001b[0m\n",
      "count   245139.000\n",
      "mean        35.403\n",
      "std         69.800\n",
      "min          0.000\n",
      "5%           0.000\n",
      "10%          0.000\n",
      "20%          1.000\n",
      "30%          2.000\n",
      "40%          5.000\n",
      "50%          9.000\n",
      "60%         15.000\n",
      "70%         26.000\n",
      "80%         48.000\n",
      "90%        102.000\n",
      "95%        170.000\n",
      "99%        343.620\n",
      "max       2391.000\n",
      "Name: number_of_reviews, dtype: float64\n",
      "\n",
      "\n"
     ]
    },
    {
     "data": {
      "image/png": "[encoded data removed]",
      "text/plain": [
       "<Figure size 432x288 with 1 Axes>"
      ]
     },
     "metadata": {
      "needs_background": "light"
     },
     "output_type": "display_data"
    },
    {
     "name": "stdout",
     "output_type": "stream",
     "text": [
      "\n",
      "\n",
      "\u001b[1m----NUMBER_OF_REVIEWS_LTM-----\u001b[0m\n",
      "count   245139.000\n",
      "mean         9.749\n",
      "std         19.159\n",
      "min          0.000\n",
      "5%           0.000\n",
      "10%          0.000\n",
      "20%          0.000\n",
      "30%          0.000\n",
      "40%          1.000\n",
      "50%          2.000\n",
      "60%          4.000\n",
      "70%          8.000\n",
      "80%         16.000\n",
      "90%         31.000\n",
      "95%         45.000\n",
      "99%         76.000\n",
      "max       1356.000\n",
      "Name: number_of_reviews_ltm, dtype: float64\n",
      "\n",
      "\n"
     ]
    },
    {
     "data": {
      "image/png": "[encoded data removed]",
      "text/plain": [
       "<Figure size 432x288 with 1 Axes>"
      ]
     },
     "metadata": {
      "needs_background": "light"
     },
     "output_type": "display_data"
    },
    {
     "name": "stdout",
     "output_type": "stream",
     "text": [
      "\n",
      "\n",
      "\u001b[1m----NUMBER_OF_REVIEWS_L30D----\u001b[0m\n",
      "count   245139.000\n",
      "mean         0.936\n",
      "std          1.893\n",
      "min          0.000\n",
      "5%           0.000\n",
      "10%          0.000\n",
      "20%          0.000\n",
      "30%          0.000\n",
      "40%          0.000\n",
      "50%          0.000\n",
      "60%          0.000\n",
      "70%          1.000\n",
      "80%          2.000\n",
      "90%          3.000\n",
      "95%          5.000\n",
      "99%          8.000\n",
      "max        126.000\n",
      "Name: number_of_reviews_l30d, dtype: float64\n",
      "\n",
      "\n"
     ]
    },
    {
     "data": {
      "image/png": "[encoded data removed]",
      "text/plain": [
       "<Figure size 432x288 with 1 Axes>"
      ]
     },
     "metadata": {
      "needs_background": "light"
     },
     "output_type": "display_data"
    },
    {
     "name": "stdout",
     "output_type": "stream",
     "text": [
      "\n",
      "\n",
      "\u001b[1m-----REVIEW_SCORES_RATING-----\u001b[0m\n",
      "count   203315.000\n",
      "mean         4.656\n",
      "std          0.590\n",
      "min          0.000\n",
      "5%           4.000\n",
      "10%          4.250\n",
      "20%          4.500\n",
      "30%          4.640\n",
      "40%          4.730\n",
      "50%          4.800\n",
      "60%          4.870\n",
      "70%          4.930\n",
      "80%          5.000\n",
      "90%          5.000\n",
      "95%          5.000\n",
      "99%          5.000\n",
      "max          5.000\n",
      "Name: review_scores_rating, dtype: float64\n",
      "\n",
      "\n"
     ]
    },
    {
     "data": {
      "image/png": "[encoded data removed]",
      "text/plain": [
       "<Figure size 432x288 with 1 Axes>"
      ]
     },
     "metadata": {
      "needs_background": "light"
     },
     "output_type": "display_data"
    },
    {
     "name": "stdout",
     "output_type": "stream",
     "text": [
      "\n",
      "\n",
      "\u001b[1m----REVIEW_SCORES_ACCURACY----\u001b[0m\n",
      "count   201629.000\n",
      "mean         4.764\n",
      "std          0.395\n",
      "min          0.000\n",
      "5%           4.070\n",
      "10%          4.440\n",
      "20%          4.650\n",
      "30%          4.750\n",
      "40%          4.820\n",
      "50%          4.880\n",
      "60%          4.920\n",
      "70%          4.980\n",
      "80%          5.000\n",
      "90%          5.000\n",
      "95%          5.000\n",
      "99%          5.000\n",
      "max          5.000\n",
      "Name: review_scores_accuracy, dtype: float64\n",
      "\n",
      "\n"
     ]
    },
    {
     "data": {
      "image/png": "[encoded data removed]",
      "text/plain": [
       "<Figure size 432x288 with 1 Axes>"
      ]
     },
     "metadata": {
      "needs_background": "light"
     },
     "output_type": "display_data"
    },
    {
     "name": "stdout",
     "output_type": "stream",
     "text": [
      "\n",
      "\n",
      "\u001b[1m--REVIEW_SCORES_CLEANLINESS---\u001b[0m\n",
      "count   201644.000\n",
      "mean         4.665\n",
      "std          0.464\n",
      "min          0.000\n",
      "5%           3.960\n",
      "10%          4.150\n",
      "20%          4.480\n",
      "30%          4.620\n",
      "40%          4.720\n",
      "50%          4.800\n",
      "60%          4.880\n",
      "70%          4.940\n",
      "80%          5.000\n",
      "90%          5.000\n",
      "95%          5.000\n",
      "99%          5.000\n",
      "max          5.000\n",
      "Name: review_scores_cleanliness, dtype: float64\n",
      "\n",
      "\n"
     ]
    },
    {
     "data": {
      "image/png": "[encoded data removed]",
      "text/plain": [
       "<Figure size 432x288 with 1 Axes>"
      ]
     },
     "metadata": {
      "needs_background": "light"
     },
     "output_type": "display_data"
    },
    {
     "name": "stdout",
     "output_type": "stream",
     "text": [
      "\n",
      "\n",
      "\u001b[1m----REVIEW_SCORES_CHECKIN-----\u001b[0m\n",
      "count   201601.000\n",
      "mean         4.809\n",
      "std          0.369\n",
      "min          0.000\n",
      "5%           4.250\n",
      "10%          4.500\n",
      "20%          4.720\n",
      "30%          4.810\n",
      "40%          4.880\n",
      "50%          4.920\n",
      "60%          4.960\n",
      "70%          5.000\n",
      "80%          5.000\n",
      "90%          5.000\n",
      "95%          5.000\n",
      "99%          5.000\n",
      "max          5.000\n",
      "Name: review_scores_checkin, dtype: float64\n",
      "\n",
      "\n"
     ]
    },
    {
     "data": {
      "image/png": "[encoded data removed]",
      "text/plain": [
       "<Figure size 432x288 with 1 Axes>"
      ]
     },
     "metadata": {
      "needs_background": "light"
     },
     "output_type": "display_data"
    },
    {
     "name": "stdout",
     "output_type": "stream",
     "text": [
      "\n",
      "\n",
      "\u001b[1m-REVIEW_SCORES_COMMUNICATION--\u001b[0m\n",
      "count   201636.000\n",
      "mean         4.811\n",
      "std          0.380\n",
      "min          0.000\n",
      "5%           4.230\n",
      "10%          4.500\n",
      "20%          4.720\n",
      "30%          4.820\n",
      "40%          4.890\n",
      "50%          4.930\n",
      "60%          4.980\n",
      "70%          5.000\n",
      "80%          5.000\n",
      "90%          5.000\n",
      "95%          5.000\n",
      "99%          5.000\n",
      "max          5.000\n",
      "Name: review_scores_communication, dtype: float64\n",
      "\n",
      "\n"
     ]
    },
    {
     "data": {
      "image/png": "[encoded data removed]",
      "text/plain": [
       "<Figure size 432x288 with 1 Axes>"
      ]
     },
     "metadata": {
      "needs_background": "light"
     },
     "output_type": "display_data"
    },
    {
     "name": "stdout",
     "output_type": "stream",
     "text": [
      "\n",
      "\n",
      "\u001b[1m----REVIEW_SCORES_LOCATION----\u001b[0m\n",
      "count   201593.000\n",
      "mean         4.770\n",
      "std          0.347\n",
      "min          0.000\n",
      "5%           4.170\n",
      "10%          4.440\n",
      "20%          4.630\n",
      "30%          4.740\n",
      "40%          4.810\n",
      "50%          4.880\n",
      "60%          4.930\n",
      "70%          4.990\n",
      "80%          5.000\n",
      "90%          5.000\n",
      "95%          5.000\n",
      "99%          5.000\n",
      "max          5.000\n",
      "Name: review_scores_location, dtype: float64\n",
      "\n",
      "\n"
     ]
    },
    {
     "data": {
      "image/png": "[encoded data removed]",
      "text/plain": [
       "<Figure size 432x288 with 1 Axes>"
      ]
     },
     "metadata": {
      "needs_background": "light"
     },
     "output_type": "display_data"
    },
    {
     "name": "stdout",
     "output_type": "stream",
     "text": [
      "\n",
      "\n",
      "\u001b[1m-----REVIEW_SCORES_VALUE------\u001b[0m\n",
      "count   201585.000\n",
      "mean         4.635\n",
      "std          0.431\n",
      "min          0.000\n",
      "5%           4.000\n",
      "10%          4.200\n",
      "20%          4.470\n",
      "30%          4.570\n",
      "40%          4.670\n",
      "50%          4.730\n",
      "60%          4.800\n",
      "70%          4.860\n",
      "80%          4.940\n",
      "90%          5.000\n",
      "95%          5.000\n",
      "99%          5.000\n",
      "max          5.000\n",
      "Name: review_scores_value, dtype: float64\n",
      "\n",
      "\n"
     ]
    },
    {
     "data": {
      "image/png": "[encoded data removed]",
      "text/plain": [
       "<Figure size 432x288 with 1 Axes>"
      ]
     },
     "metadata": {
      "needs_background": "light"
     },
     "output_type": "display_data"
    },
    {
     "name": "stdout",
     "output_type": "stream",
     "text": [
      "\n",
      "\n",
      "\u001b[1mCALCULATED_HOST_LISTINGS_COUNT\u001b[0m\n",
      "count   245139.000\n",
      "mean        10.423\n",
      "std         29.193\n",
      "min          1.000\n",
      "5%           1.000\n",
      "10%          1.000\n",
      "20%          1.000\n",
      "30%          1.000\n",
      "40%          1.000\n",
      "50%          1.000\n",
      "60%          2.000\n",
      "70%          3.000\n",
      "80%          7.000\n",
      "90%         23.000\n",
      "95%         53.000\n",
      "99%        179.000\n",
      "max        269.000\n",
      "Name: calculated_host_listings_count, dtype: float64\n",
      "\n",
      "\n"
     ]
    },
    {
     "data": {
      "image/png": "[encoded data removed]",
      "text/plain": [
       "<Figure size 432x288 with 1 Axes>"
      ]
     },
     "metadata": {
      "needs_background": "light"
     },
     "output_type": "display_data"
    },
    {
     "name": "stdout",
     "output_type": "stream",
     "text": [
      "\n",
      "\n",
      "\u001b[1mCALCULATED_HOST_LISTINGS_COUNT_ENTIRE_HOMES\u001b[0m\n",
      "count   245139.000\n",
      "mean         9.099\n",
      "std         28.622\n",
      "min          0.000\n",
      "5%           0.000\n",
      "10%          0.000\n",
      "20%          0.000\n",
      "30%          1.000\n",
      "40%          1.000\n",
      "50%          1.000\n",
      "60%          1.000\n",
      "70%          2.000\n",
      "80%          4.000\n",
      "90%         19.000\n",
      "95%         48.000\n",
      "99%        179.000\n",
      "max        269.000\n",
      "Name: calculated_host_listings_count_entire_homes, dtype: float64\n",
      "\n",
      "\n"
     ]
    },
    {
     "data": {
      "image/png": "[encoded data removed]",
      "text/plain": [
       "<Figure size 432x288 with 1 Axes>"
      ]
     },
     "metadata": {
      "needs_background": "light"
     },
     "output_type": "display_data"
    },
    {
     "name": "stdout",
     "output_type": "stream",
     "text": [
      "\n",
      "\n",
      "\u001b[1mCALCULATED_HOST_LISTINGS_COUNT_PRIVATE_ROOMS\u001b[0m\n",
      "count   245139.000\n",
      "mean         1.155\n",
      "std          5.513\n",
      "min          0.000\n",
      "5%           0.000\n",
      "10%          0.000\n",
      "20%          0.000\n",
      "30%          0.000\n",
      "40%          0.000\n",
      "50%          0.000\n",
      "60%          0.000\n",
      "70%          0.000\n",
      "80%          1.000\n",
      "90%          2.000\n",
      "95%          5.000\n",
      "99%         19.000\n",
      "max        132.000\n",
      "Name: calculated_host_listings_count_private_rooms, dtype: float64\n",
      "\n",
      "\n"
     ]
    },
    {
     "data": {
      "image/png": "[encoded data removed]",
      "text/plain": [
       "<Figure size 432x288 with 1 Axes>"
      ]
     },
     "metadata": {
      "needs_background": "light"
     },
     "output_type": "display_data"
    },
    {
     "name": "stdout",
     "output_type": "stream",
     "text": [
      "\n",
      "\n",
      "\u001b[1mCALCULATED_HOST_LISTINGS_COUNT_SHARED_ROOMS\u001b[0m\n",
      "count   245139.000\n",
      "mean         0.067\n",
      "std          1.161\n",
      "min          0.000\n",
      "5%           0.000\n",
      "10%          0.000\n",
      "20%          0.000\n",
      "30%          0.000\n",
      "40%          0.000\n",
      "50%          0.000\n",
      "60%          0.000\n",
      "70%          0.000\n",
      "80%          0.000\n",
      "90%          0.000\n",
      "95%          0.000\n",
      "99%          1.000\n",
      "max         41.000\n",
      "Name: calculated_host_listings_count_shared_rooms, dtype: float64\n",
      "\n",
      "\n"
     ]
    },
    {
     "data": {
      "image/png": "[encoded data removed]",
      "text/plain": [
       "<Figure size 432x288 with 1 Axes>"
      ]
     },
     "metadata": {
      "needs_background": "light"
     },
     "output_type": "display_data"
    },
    {
     "name": "stdout",
     "output_type": "stream",
     "text": [
      "\n",
      "\n",
      "\u001b[1m------REVIEWS_PER_MONTH-------\u001b[0m\n",
      "count   203314.000\n",
      "mean         1.314\n",
      "std          1.685\n",
      "min          0.010\n",
      "5%           0.030\n",
      "10%          0.070\n",
      "20%          0.160\n",
      "30%          0.290\n",
      "40%          0.480\n",
      "50%          0.730\n",
      "60%          1.030\n",
      "70%          1.530\n",
      "80%          2.200\n",
      "90%          3.350\n",
      "95%          4.470\n",
      "99%          7.000\n",
      "max        104.110\n",
      "Name: reviews_per_month, dtype: float64\n",
      "\n",
      "\n"
     ]
    },
    {
     "data": {
      "image/png": "[encoded data removed]",
      "text/plain": [
       "<Figure size 432x288 with 1 Axes>"
      ]
     },
     "metadata": {
      "needs_background": "light"
     },
     "output_type": "display_data"
    },
    {
     "name": "stdout",
     "output_type": "stream",
     "text": [
      "\n",
      "\n"
     ]
    }
   ],
   "source": [
    "for col in num_cols:\n",
    "    num_summary(df, col,plot=True)"
   ]
  },
  {
   "cell_type": "code",
   "execution_count": 24,
   "metadata": {
    "id": "G_J-XxQrtWOP"
   },
   "outputs": [],
   "source": [
    "def target_summary_with_cat(dataframe, target, categorical_col):\n",
    "        print(pd.DataFrame({\"TARGET_MEAN\": dataframe.groupby(categorical_col)[target].mean()}), end=\"\\n\\n\\n\")"
   ]
  },
  {
   "cell_type": "code",
   "execution_count": 25,
   "metadata": {
    "colab": {
     "base_uri": "https://localhost:8080/"
    },
    "id": "9zSS9riBtWOP",
    "outputId": "7c91de35-c3f5-4383-af45-4723c1b6c12a"
   },
   "outputs": [
    {
     "name": "stdout",
     "output_type": "stream",
     "text": [
      "              TARGET_MEAN\n",
      "last_scraped             \n",
      "2022-09-07        218.492\n",
      "2022-09-09        152.827\n",
      "2022-09-10        164.222\n",
      "2022-09-11        172.269\n",
      "2022-09-12        142.556\n",
      "2022-09-13        102.436\n",
      "2022-09-14        134.280\n",
      "2022-09-15        166.379\n",
      "2022-09-16        100.277\n",
      "2022-09-17         89.764\n",
      "2022-09-18        106.956\n",
      "2022-09-19        117.714\n",
      "2022-09-21        213.844\n",
      "2022-09-22        172.207\n",
      "2022-09-23        189.260\n",
      "2022-09-24        151.214\n",
      "2022-09-25        179.530\n",
      "2022-09-26        147.431\n",
      "2022-10-03         97.941\n",
      "\n",
      "\n",
      "                 TARGET_MEAN\n",
      "source                      \n",
      "city scrape          165.448\n",
      "previous scrape      114.155\n",
      "\n",
      "\n",
      "                    TARGET_MEAN\n",
      "host_response_time             \n",
      "a few days or more      215.833\n",
      "within a day            158.287\n",
      "within a few hours      142.356\n",
      "within an hour          159.833\n",
      "\n",
      "\n",
      "                   TARGET_MEAN\n",
      "host_is_superhost             \n",
      "f                      149.839\n",
      "t                      149.748\n",
      "\n",
      "\n",
      "                                                  TARGET_MEAN\n",
      "host_verifications                                           \n",
      "None                                                   90.837\n",
      "['email', 'phone', 'photographer', 'work_email']       54.000\n",
      "['email', 'phone', 'photographer']                    153.381\n",
      "['email', 'phone', 'work_email']                      188.001\n",
      "['email', 'phone']                                    144.499\n",
      "['email', 'work_email']                               645.963\n",
      "['email']                                             169.355\n",
      "['phone', 'work_email']                               208.284\n",
      "['phone']                                             144.173\n",
      "['work_email']                                         68.000\n",
      "[]                                                    247.595\n",
      "\n",
      "\n",
      "                      TARGET_MEAN\n",
      "host_has_profile_pic             \n",
      "f                         157.825\n",
      "t                         149.993\n",
      "\n",
      "\n",
      "                        TARGET_MEAN\n",
      "host_identity_verified             \n",
      "f                           141.416\n",
      "t                           151.751\n",
      "\n",
      "\n",
      "                 TARGET_MEAN\n",
      "room_type                   \n",
      "Entire home/apt      160.513\n",
      "Hotel room           299.900\n",
      "Private room         110.883\n",
      "Shared room           74.443\n",
      "\n",
      "\n",
      "                  TARGET_MEAN\n",
      "has_availability             \n",
      "f                     137.501\n",
      "t                     150.103\n",
      "\n",
      "\n",
      "                       TARGET_MEAN\n",
      "calendar_last_scraped             \n",
      "2022-09-07                 218.492\n",
      "2022-09-09                 152.819\n",
      "2022-09-10                 164.218\n",
      "2022-09-11                 172.296\n",
      "2022-09-12                 142.556\n",
      "2022-09-13                 102.436\n",
      "2022-09-14                 134.280\n",
      "2022-09-15                 166.379\n",
      "2022-09-16                 100.277\n",
      "2022-09-17                  89.764\n",
      "2022-09-18                 106.956\n",
      "2022-09-19                 117.714\n",
      "2022-09-21                 213.844\n",
      "2022-09-22                 172.207\n",
      "2022-09-23                 189.260\n",
      "2022-09-24                 151.210\n",
      "2022-09-25                 179.561\n",
      "2022-09-26                 147.431\n",
      "2022-10-03                  97.941\n",
      "\n",
      "\n",
      "                  TARGET_MEAN\n",
      "instant_bookable             \n",
      "f                     133.217\n",
      "t                     170.631\n",
      "\n",
      "\n",
      "            TARGET_MEAN\n",
      "city                   \n",
      "Amsterdam       218.487\n",
      "Barcelona       172.915\n",
      "Berlin           96.308\n",
      "Brussels        106.956\n",
      "Copenhagen      162.139\n",
      "Florence        189.534\n",
      "Lyon            100.306\n",
      "Madrid          137.549\n",
      "Munich          206.022\n",
      "Oslo            163.239\n",
      "Paris           161.811\n",
      "Porto           112.510\n",
      "Prague          135.571\n",
      "Rome            172.563\n",
      "Sevilla         147.431\n",
      "Stockholm       127.465\n",
      "Vienna           95.079\n",
      "Zurich          189.260\n",
      "\n",
      "\n",
      "Empty DataFrame\n",
      "Columns: [TARGET_MEAN]\n",
      "Index: []\n",
      "\n",
      "\n",
      "Empty DataFrame\n",
      "Columns: [TARGET_MEAN]\n",
      "Index: []\n",
      "\n",
      "\n"
     ]
    }
   ],
   "source": [
    "for col in cat_cols:\n",
    "    target_summary_with_cat(df, \"price\", col)"
   ]
  },
  {
   "cell_type": "markdown",
   "metadata": {
    "id": "KfqFjH6SNrQr"
   },
   "source": [
    "# Base Model"
   ]
  },
  {
   "cell_type": "code",
   "execution_count": 26,
   "metadata": {
    "id": "LUWSBe2rOO20"
   },
   "outputs": [],
   "source": [
    "df_base = df.copy()"
   ]
  },
  {
   "cell_type": "code",
   "execution_count": 27,
   "metadata": {
    "colab": {
     "base_uri": "https://localhost:8080/"
    },
    "id": "hFRv6kXc11In",
    "outputId": "7dcc7eca-2c7c-474f-d211-57f5aec324a4"
   },
   "outputs": [
    {
     "data": {
      "text/plain": [
       "Index(['Unnamed: 0', 'id', 'listing_url', 'scrape_id', 'last_scraped', 'source', 'name', 'description', 'neighborhood_overview', 'picture_url', 'host_id', 'host_url', 'host_name', 'host_since', 'host_location', 'host_about', 'host_response_time', 'host_response_rate', 'host_acceptance_rate', 'host_is_superhost', 'host_thumbnail_url', 'host_picture_url', 'host_neighbourhood', 'host_listings_count', 'host_total_listings_count', 'host_verifications', 'host_has_profile_pic',\n",
       "       'host_identity_verified', 'neighbourhood', 'neighbourhood_cleansed', 'neighbourhood_group_cleansed', 'latitude', 'longitude', 'property_type', 'room_type', 'accommodates', 'bathrooms', 'bathrooms_text', 'bedrooms', 'beds', 'amenities', 'price', 'minimum_nights', 'maximum_nights', 'minimum_minimum_nights', 'maximum_minimum_nights', 'minimum_maximum_nights', 'maximum_maximum_nights', 'minimum_nights_avg_ntm', 'maximum_nights_avg_ntm', 'calendar_updated', 'has_availability',\n",
       "       'availability_30', 'availability_60', 'availability_90', 'availability_365', 'calendar_last_scraped', 'number_of_reviews', 'number_of_reviews_ltm', 'number_of_reviews_l30d', 'first_review', 'last_review', 'review_scores_rating', 'review_scores_accuracy', 'review_scores_cleanliness', 'review_scores_checkin', 'review_scores_communication', 'review_scores_location', 'review_scores_value', 'license', 'instant_bookable', 'calculated_host_listings_count',\n",
       "       'calculated_host_listings_count_entire_homes', 'calculated_host_listings_count_private_rooms', 'calculated_host_listings_count_shared_rooms', 'reviews_per_month', 'city'],\n",
       "      dtype='object')"
      ]
     },
     "execution_count": 27,
     "metadata": {},
     "output_type": "execute_result"
    }
   ],
   "source": [
    "df.columns"
   ]
  },
  {
   "cell_type": "code",
   "execution_count": 28,
   "metadata": {
    "colab": {
     "base_uri": "https://localhost:8080/",
     "height": 284
    },
    "id": "4syIV84814Th",
    "outputId": "d8b3f2af-c09f-4552-c4a1-71db6847c72f"
   },
   "outputs": [
    {
     "data": {
      "text/html": [
       "\n",
       "  <div id=\"df-5c9c2614-0128-44f4-a313-f4bbb7a1860b\">\n",
       "    <div class=\"colab-df-container\">\n",
       "      <div>\n",
       "<style scoped>\n",
       "    .dataframe tbody tr th:only-of-type {\n",
       "        vertical-align: middle;\n",
       "    }\n",
       "\n",
       "    .dataframe tbody tr th {\n",
       "        vertical-align: top;\n",
       "    }\n",
       "\n",
       "    .dataframe thead th {\n",
       "        text-align: right;\n",
       "    }\n",
       "</style>\n",
       "<table border=\"1\" class=\"dataframe\">\n",
       "  <thead>\n",
       "    <tr style=\"text-align: right;\">\n",
       "      <th></th>\n",
       "      <th>Unnamed: 0</th>\n",
       "      <th>id</th>\n",
       "      <th>listing_url</th>\n",
       "      <th>scrape_id</th>\n",
       "      <th>last_scraped</th>\n",
       "      <th>source</th>\n",
       "      <th>name</th>\n",
       "      <th>description</th>\n",
       "      <th>neighborhood_overview</th>\n",
       "      <th>picture_url</th>\n",
       "      <th>host_id</th>\n",
       "      <th>host_url</th>\n",
       "      <th>host_name</th>\n",
       "      <th>host_since</th>\n",
       "      <th>host_location</th>\n",
       "      <th>host_about</th>\n",
       "      <th>host_response_time</th>\n",
       "      <th>host_response_rate</th>\n",
       "      <th>host_acceptance_rate</th>\n",
       "      <th>host_is_superhost</th>\n",
       "      <th>host_thumbnail_url</th>\n",
       "      <th>host_picture_url</th>\n",
       "      <th>host_neighbourhood</th>\n",
       "      <th>host_listings_count</th>\n",
       "      <th>host_total_listings_count</th>\n",
       "      <th>host_verifications</th>\n",
       "      <th>host_has_profile_pic</th>\n",
       "      <th>host_identity_verified</th>\n",
       "      <th>neighbourhood</th>\n",
       "      <th>neighbourhood_cleansed</th>\n",
       "      <th>neighbourhood_group_cleansed</th>\n",
       "      <th>latitude</th>\n",
       "      <th>longitude</th>\n",
       "      <th>property_type</th>\n",
       "      <th>room_type</th>\n",
       "      <th>accommodates</th>\n",
       "      <th>bathrooms</th>\n",
       "      <th>bathrooms_text</th>\n",
       "      <th>bedrooms</th>\n",
       "      <th>beds</th>\n",
       "      <th>amenities</th>\n",
       "      <th>price</th>\n",
       "      <th>minimum_nights</th>\n",
       "      <th>maximum_nights</th>\n",
       "      <th>minimum_minimum_nights</th>\n",
       "      <th>maximum_minimum_nights</th>\n",
       "      <th>minimum_maximum_nights</th>\n",
       "      <th>maximum_maximum_nights</th>\n",
       "      <th>minimum_nights_avg_ntm</th>\n",
       "      <th>maximum_nights_avg_ntm</th>\n",
       "      <th>calendar_updated</th>\n",
       "      <th>has_availability</th>\n",
       "      <th>availability_30</th>\n",
       "      <th>availability_60</th>\n",
       "      <th>availability_90</th>\n",
       "      <th>availability_365</th>\n",
       "      <th>calendar_last_scraped</th>\n",
       "      <th>number_of_reviews</th>\n",
       "      <th>number_of_reviews_ltm</th>\n",
       "      <th>number_of_reviews_l30d</th>\n",
       "      <th>first_review</th>\n",
       "      <th>last_review</th>\n",
       "      <th>review_scores_rating</th>\n",
       "      <th>review_scores_accuracy</th>\n",
       "      <th>review_scores_cleanliness</th>\n",
       "      <th>review_scores_checkin</th>\n",
       "      <th>review_scores_communication</th>\n",
       "      <th>review_scores_location</th>\n",
       "      <th>review_scores_value</th>\n",
       "      <th>license</th>\n",
       "      <th>instant_bookable</th>\n",
       "      <th>calculated_host_listings_count</th>\n",
       "      <th>calculated_host_listings_count_entire_homes</th>\n",
       "      <th>calculated_host_listings_count_private_rooms</th>\n",
       "      <th>calculated_host_listings_count_shared_rooms</th>\n",
       "      <th>reviews_per_month</th>\n",
       "      <th>city</th>\n",
       "    </tr>\n",
       "  </thead>\n",
       "  <tbody>\n",
       "    <tr>\n",
       "      <th>0</th>\n",
       "      <td>0</td>\n",
       "      <td>2818</td>\n",
       "      <td>https://www.airbnb.com/rooms/2818</td>\n",
       "      <td>20220907151523</td>\n",
       "      <td>2022-09-07</td>\n",
       "      <td>city scrape</td>\n",
       "      <td>Quiet Garden View Room &amp; Super Fast WiFi</td>\n",
       "      <td>Quiet Garden View Room &amp; Super Fast WiFi&lt;br /&gt;...</td>\n",
       "      <td>Indische Buurt (\"Indies Neighborhood\") is a ne...</td>\n",
       "      <td>https://a0.muscache.com/pictures/10272854/8dcc...</td>\n",
       "      <td>3159</td>\n",
       "      <td>https://www.airbnb.com/users/show/3159</td>\n",
       "      <td>Daniel</td>\n",
       "      <td>2008-09-24</td>\n",
       "      <td>Amsterdam, Netherlands</td>\n",
       "      <td>Upon arriving in Amsterdam, one can imagine as...</td>\n",
       "      <td>within an hour</td>\n",
       "      <td>100%</td>\n",
       "      <td>100%</td>\n",
       "      <td>t</td>\n",
       "      <td>https://a0.muscache.com/im/users/3159/profile_...</td>\n",
       "      <td>https://a0.muscache.com/im/users/3159/profile_...</td>\n",
       "      <td>Indische Buurt</td>\n",
       "      <td>1.000</td>\n",
       "      <td>1.000</td>\n",
       "      <td>['email', 'phone']</td>\n",
       "      <td>t</td>\n",
       "      <td>t</td>\n",
       "      <td>Amsterdam, North Holland, Netherlands</td>\n",
       "      <td>Oostelijk Havengebied - Indische Buurt</td>\n",
       "      <td>NaN</td>\n",
       "      <td>52.364</td>\n",
       "      <td>4.944</td>\n",
       "      <td>Private room in rental unit</td>\n",
       "      <td>Private room</td>\n",
       "      <td>2</td>\n",
       "      <td>NaN</td>\n",
       "      <td>1.5 shared baths</td>\n",
       "      <td>1.000</td>\n",
       "      <td>2.000</td>\n",
       "      <td>[\"Fire extinguisher\", \"Private entrance\", \"Lau...</td>\n",
       "      <td>49.000</td>\n",
       "      <td>3</td>\n",
       "      <td>28</td>\n",
       "      <td>3.000</td>\n",
       "      <td>3.000</td>\n",
       "      <td>1125.000</td>\n",
       "      <td>1125.000</td>\n",
       "      <td>3.000</td>\n",
       "      <td>1125.000</td>\n",
       "      <td>NaN</td>\n",
       "      <td>t</td>\n",
       "      <td>1</td>\n",
       "      <td>9</td>\n",
       "      <td>14</td>\n",
       "      <td>14</td>\n",
       "      <td>2022-09-07</td>\n",
       "      <td>305</td>\n",
       "      <td>25</td>\n",
       "      <td>1</td>\n",
       "      <td>2009-03-30</td>\n",
       "      <td>2022-08-30</td>\n",
       "      <td>4.890</td>\n",
       "      <td>4.940</td>\n",
       "      <td>5.000</td>\n",
       "      <td>4.970</td>\n",
       "      <td>4.980</td>\n",
       "      <td>4.690</td>\n",
       "      <td>4.820</td>\n",
       "      <td>0363 5F3A 5684 6750 D14D</td>\n",
       "      <td>t</td>\n",
       "      <td>1</td>\n",
       "      <td>0</td>\n",
       "      <td>1</td>\n",
       "      <td>0</td>\n",
       "      <td>1.860</td>\n",
       "      <td>Amsterdam</td>\n",
       "    </tr>\n",
       "  </tbody>\n",
       "</table>\n",
       "</div>\n",
       "      <button class=\"colab-df-convert\" onclick=\"convertToInteractive('df-5c9c2614-0128-44f4-a313-f4bbb7a1860b')\"\n",
       "              title=\"Convert this dataframe to an interactive table.\"\n",
       "              style=\"display:none;\">\n",
       "        \n",
       "  <svg xmlns=\"http://www.w3.org/2000/svg\" height=\"24px\"viewBox=\"0 0 24 24\"\n",
       "       width=\"24px\">\n",
       "    <path d=\"M0 0h24v24H0V0z\" fill=\"none\"/>\n",
       "    <path d=\"M18.56 5.44l.94 2.06.94-2.06 2.06-.94-2.06-.94-.94-2.06-.94 2.06-2.06.94zm-11 1L8.5 8.5l.94-2.06 2.06-.94-2.06-.94L8.5 2.5l-.94 2.06-2.06.94zm10 10l.94 2.06.94-2.06 2.06-.94-2.06-.94-.94-2.06-.94 2.06-2.06.94z\"/><path d=\"M17.41 7.96l-1.37-1.37c-.4-.4-.92-.59-1.43-.59-.52 0-1.04.2-1.43.59L10.3 9.45l-7.72 7.72c-.78.78-.78 2.05 0 2.83L4 21.41c.39.39.9.59 1.41.59.51 0 1.02-.2 1.41-.59l7.78-7.78 2.81-2.81c.8-.78.8-2.07 0-2.86zM5.41 20L4 18.59l7.72-7.72 1.47 1.35L5.41 20z\"/>\n",
       "  </svg>\n",
       "      </button>\n",
       "      \n",
       "  <style>\n",
       "    .colab-df-container {\n",
       "      display:flex;\n",
       "      flex-wrap:wrap;\n",
       "      gap: 12px;\n",
       "    }\n",
       "\n",
       "    .colab-df-convert {\n",
       "      background-color: #E8F0FE;\n",
       "      border: none;\n",
       "      border-radius: 50%;\n",
       "      cursor: pointer;\n",
       "      display: none;\n",
       "      fill: #1967D2;\n",
       "      height: 32px;\n",
       "      padding: 0 0 0 0;\n",
       "      width: 32px;\n",
       "    }\n",
       "\n",
       "    .colab-df-convert:hover {\n",
       "      background-color: #E2EBFA;\n",
       "      box-shadow: 0px 1px 2px rgba(60, 64, 67, 0.3), 0px 1px 3px 1px rgba(60, 64, 67, 0.15);\n",
       "      fill: #174EA6;\n",
       "    }\n",
       "\n",
       "    [theme=dark] .colab-df-convert {\n",
       "      background-color: #3B4455;\n",
       "      fill: #D2E3FC;\n",
       "    }\n",
       "\n",
       "    [theme=dark] .colab-df-convert:hover {\n",
       "      background-color: #434B5C;\n",
       "      box-shadow: 0px 1px 3px 1px rgba(0, 0, 0, 0.15);\n",
       "      filter: drop-shadow(0px 1px 2px rgba(0, 0, 0, 0.3));\n",
       "      fill: #FFFFFF;\n",
       "    }\n",
       "  </style>\n",
       "\n",
       "      <script>\n",
       "        const buttonEl =\n",
       "          document.querySelector('#df-5c9c2614-0128-44f4-a313-f4bbb7a1860b button.colab-df-convert');\n",
       "        buttonEl.style.display =\n",
       "          google.colab.kernel.accessAllowed ? 'block' : 'none';\n",
       "\n",
       "        async function convertToInteractive(key) {\n",
       "          const element = document.querySelector('#df-5c9c2614-0128-44f4-a313-f4bbb7a1860b');\n",
       "          const dataTable =\n",
       "            await google.colab.kernel.invokeFunction('convertToInteractive',\n",
       "                                                     [key], {});\n",
       "          if (!dataTable) return;\n",
       "\n",
       "          const docLinkHtml = 'Like what you see? Visit the ' +\n",
       "            '<a target=\"_blank\" href=https://colab.research.google.com/notebooks/data_table.ipynb>data table notebook</a>'\n",
       "            + ' to learn more about interactive tables.';\n",
       "          element.innerHTML = '';\n",
       "          dataTable['output_type'] = 'display_data';\n",
       "          await google.colab.output.renderOutput(dataTable, element);\n",
       "          const docLink = document.createElement('div');\n",
       "          docLink.innerHTML = docLinkHtml;\n",
       "          element.appendChild(docLink);\n",
       "        }\n",
       "      </script>\n",
       "    </div>\n",
       "  </div>\n",
       "  "
      ],
      "text/plain": [
       "   Unnamed: 0    id                        listing_url       scrape_id last_scraped       source                                      name                                        description                              neighborhood_overview                                        picture_url  host_id                                host_url host_name  host_since           host_location                                         host_about host_response_time host_response_rate host_acceptance_rate  \\\n",
       "0           0  2818  https://www.airbnb.com/rooms/2818  20220907151523   2022-09-07  city scrape  Quiet Garden View Room & Super Fast WiFi  Quiet Garden View Room & Super Fast WiFi<br />...  Indische Buurt (\"Indies Neighborhood\") is a ne...  https://a0.muscache.com/pictures/10272854/8dcc...     3159  https://www.airbnb.com/users/show/3159    Daniel  2008-09-24  Amsterdam, Netherlands  Upon arriving in Amsterdam, one can imagine as...     within an hour               100%                 100%   \n",
       "\n",
       "  host_is_superhost                                 host_thumbnail_url                                   host_picture_url host_neighbourhood  host_listings_count  host_total_listings_count  host_verifications host_has_profile_pic host_identity_verified                          neighbourhood                  neighbourhood_cleansed neighbourhood_group_cleansed  latitude  longitude                property_type     room_type  accommodates  bathrooms    bathrooms_text  bedrooms  beds  \\\n",
       "0                 t  https://a0.muscache.com/im/users/3159/profile_...  https://a0.muscache.com/im/users/3159/profile_...     Indische Buurt                1.000                      1.000  ['email', 'phone']                    t                      t  Amsterdam, North Holland, Netherlands  Oostelijk Havengebied - Indische Buurt                          NaN    52.364      4.944  Private room in rental unit  Private room             2        NaN  1.5 shared baths     1.000 2.000   \n",
       "\n",
       "                                           amenities  price  minimum_nights  maximum_nights  minimum_minimum_nights  maximum_minimum_nights  minimum_maximum_nights  maximum_maximum_nights  minimum_nights_avg_ntm  maximum_nights_avg_ntm  calendar_updated has_availability  availability_30  availability_60  availability_90  availability_365 calendar_last_scraped  number_of_reviews  number_of_reviews_ltm  number_of_reviews_l30d first_review last_review  review_scores_rating  \\\n",
       "0  [\"Fire extinguisher\", \"Private entrance\", \"Lau... 49.000               3              28                   3.000                   3.000                1125.000                1125.000                   3.000                1125.000               NaN                t                1                9               14                14            2022-09-07                305                     25                       1   2009-03-30  2022-08-30                 4.890   \n",
       "\n",
       "   review_scores_accuracy  review_scores_cleanliness  review_scores_checkin  review_scores_communication  review_scores_location  review_scores_value                   license instant_bookable  calculated_host_listings_count  calculated_host_listings_count_entire_homes  calculated_host_listings_count_private_rooms  calculated_host_listings_count_shared_rooms  reviews_per_month       city  \n",
       "0                   4.940                      5.000                  4.970                        4.980                   4.690                4.820  0363 5F3A 5684 6750 D14D                t                               1                                            0                                             1                                            0              1.860  Amsterdam  "
      ]
     },
     "execution_count": 28,
     "metadata": {},
     "output_type": "execute_result"
    }
   ],
   "source": [
    "df_base.head(1)"
   ]
  },
  {
   "cell_type": "code",
   "execution_count": 29,
   "metadata": {
    "colab": {
     "base_uri": "https://localhost:8080/"
    },
    "id": "dV2HCjM738ei",
    "outputId": "50cf01db-3706-48ef-bcd6-9c16c7239004"
   },
   "outputs": [
    {
     "data": {
      "text/plain": [
       "(245139, 77)"
      ]
     },
     "execution_count": 29,
     "metadata": {},
     "output_type": "execute_result"
    }
   ],
   "source": [
    "df_base.shape"
   ]
  },
  {
   "cell_type": "code",
   "execution_count": 30,
   "metadata": {
    "id": "9qwPNJ24OpPr"
   },
   "outputs": [],
   "source": [
    "drop_list = ['Unnamed: 0', 'id', 'listing_url', 'scrape_id', 'last_scraped', 'source', 'name', 'description', 'neighborhood_overview',\n",
    "             'picture_url', 'host_id', 'host_url', 'host_name', 'host_since', 'host_location', 'host_about', 'host_thumbnail_url',\n",
    "             'host_picture_url', 'host_neighbourhood', 'neighbourhood', 'neighbourhood_group_cleansed', 'calendar_updated',\n",
    "             'calendar_last_scraped', 'first_review', 'last_review', 'license', 'bathrooms', 'amenities']\n",
    "df_base.drop(drop_list,axis=1,inplace=True)"
   ]
  },
  {
   "cell_type": "code",
   "execution_count": 31,
   "metadata": {
    "colab": {
     "base_uri": "https://localhost:8080/"
    },
    "id": "pCg5S7ch3-y3",
    "outputId": "f757ad2b-ad9e-4332-edfd-f7664d6e61e5"
   },
   "outputs": [
    {
     "data": {
      "text/plain": [
       "(245139, 49)"
      ]
     },
     "execution_count": 31,
     "metadata": {},
     "output_type": "execute_result"
    }
   ],
   "source": [
    "df_base.shape"
   ]
  },
  {
   "cell_type": "code",
   "execution_count": 32,
   "metadata": {
    "id": "SSOsbafcN-Er"
   },
   "outputs": [],
   "source": [
    "df_base.dropna(inplace=True)"
   ]
  },
  {
   "cell_type": "code",
   "execution_count": 33,
   "metadata": {
    "colab": {
     "base_uri": "https://localhost:8080/"
    },
    "id": "pdHxib9sO176",
    "outputId": "b5411515-c812-49e6-cc34-b6365a1e7053"
   },
   "outputs": [
    {
     "data": {
      "text/plain": [
       "(138465, 49)"
      ]
     },
     "execution_count": 33,
     "metadata": {},
     "output_type": "execute_result"
    }
   ],
   "source": [
    "df_base.shape"
   ]
  },
  {
   "cell_type": "code",
   "execution_count": 35,
   "metadata": {
    "colab": {
     "base_uri": "https://localhost:8080/"
    },
    "id": "0j6SUg2pPOAL",
    "outputId": "bcf670ce-2d22-4d51-9fa2-b2272fd5d921"
   },
   "outputs": [
    {
     "name": "stdout",
     "output_type": "stream",
     "text": [
      "\u001b[1mDF_BASE \u001b[0m\n",
      "\n",
      "Observations: 138465\n",
      "Variables: 49\n",
      "cat_cols: 14\n",
      "num_cols: 35\n",
      "cat_but_car: 0\n",
      "num_but_cat: 0\n",
      "\n",
      "Numerical Columns:['host_listings_count', 'host_total_listings_count', 'latitude', 'longitude', 'accommodates', 'bedrooms', 'beds', 'price', 'minimum_nights', 'maximum_nights', 'minimum_minimum_nights', 'maximum_minimum_nights', 'minimum_maximum_nights', 'maximum_maximum_nights', 'minimum_nights_avg_ntm', 'maximum_nights_avg_ntm', 'availability_30', 'availability_60', 'availability_90', 'availability_365', 'number_of_reviews', 'number_of_reviews_ltm', 'number_of_reviews_l30d', 'review_scores_rating', 'review_scores_accuracy', 'review_scores_cleanliness', 'review_scores_checkin', 'review_scores_communication', 'review_scores_location', 'review_scores_value', 'calculated_host_listings_count', 'calculated_host_listings_count_entire_homes', 'calculated_host_listings_count_private_rooms', 'calculated_host_listings_count_shared_rooms', 'reviews_per_month']\n",
      "Categorical Columns:['host_response_time', 'host_response_rate', 'host_acceptance_rate', 'host_is_superhost', 'host_verifications', 'host_has_profile_pic', 'host_identity_verified', 'neighbourhood_cleansed', 'property_type', 'room_type', 'bathrooms_text', 'has_availability', 'instant_bookable', 'city']\n",
      "Cardinal Columns:[]\n"
     ]
    }
   ],
   "source": [
    "cat_cols, num_cols, cat_but_car = grab_col_names(df_base,car_th=1000)\n",
    "print(f\"\\nNumerical Columns:{num_cols}\\nCategorical Columns:{cat_cols}\\nCardinal Columns:{cat_but_car}\")"
   ]
  },
  {
   "cell_type": "code",
   "execution_count": 36,
   "metadata": {
    "id": "5J4qI0RHPZ-u"
   },
   "outputs": [],
   "source": [
    "binary_cols = [col for col in df_base.columns if df_base[col].dtypes == \"O\" and len(df_base[col].unique()) == 2]"
   ]
  },
  {
   "cell_type": "code",
   "execution_count": 37,
   "metadata": {
    "colab": {
     "base_uri": "https://localhost:8080/"
    },
    "id": "eUbAKrAaPZ-u",
    "outputId": "41cb0925-64e6-4dbe-c1ea-de2bd311bdda"
   },
   "outputs": [
    {
     "data": {
      "text/plain": [
       "['host_is_superhost',\n",
       " 'host_has_profile_pic',\n",
       " 'host_identity_verified',\n",
       " 'has_availability',\n",
       " 'instant_bookable']"
      ]
     },
     "execution_count": 37,
     "metadata": {},
     "output_type": "execute_result"
    }
   ],
   "source": [
    "binary_cols"
   ]
  },
  {
   "cell_type": "code",
   "execution_count": 38,
   "metadata": {
    "id": "5gLB79EBPZ-v"
   },
   "outputs": [],
   "source": [
    "def label_encoder(dataframe, binary_col):\n",
    "    labelencoder = LabelEncoder()\n",
    "    dataframe[binary_col] = labelencoder.fit_transform(dataframe[binary_col])\n",
    "    return dataframe\n",
    "    \n",
    "for col in binary_cols:\n",
    "    label_encoder(df_base, col)"
   ]
  },
  {
   "cell_type": "code",
   "execution_count": 39,
   "metadata": {
    "id": "QA39vVTIPZ-v"
   },
   "outputs": [],
   "source": [
    "def one_hot_encoder(dataframe, categorical_cols, drop_first=False):\n",
    "    dataframe = pd.get_dummies(dataframe, columns=categorical_cols, drop_first=drop_first)\n",
    "    return dataframe\n",
    "\n",
    "df_base = one_hot_encoder(df_base, cat_cols, drop_first=True)"
   ]
  },
  {
   "cell_type": "code",
   "execution_count": 40,
   "metadata": {
    "id": "rU6YbUcuPwWj"
   },
   "outputs": [],
   "source": [
    "y = df_base[\"price\"]\n",
    "X = df_base.drop([\"price\"], axis=1) "
   ]
  },
  {
   "cell_type": "code",
   "execution_count": 41,
   "metadata": {
    "id": "tRKBucgKVlei"
   },
   "outputs": [],
   "source": [
    "lgbm = LGBMRegressor(random_state=42) "
   ]
  },
  {
   "cell_type": "code",
   "execution_count": 42,
   "metadata": {
    "colab": {
     "base_uri": "https://localhost:8080/",
     "height": 217
    },
    "id": "U3dOtXqBVnbw",
    "outputId": "e6f4fb5a-a96f-479f-a114-2858229053fe"
   },
   "outputs": [
    {
     "ename": "NameError",
     "evalue": "ignored",
     "output_type": "error",
     "traceback": [
      "\u001b[0;31m---------------------------------------------------------------------------\u001b[0m",
      "\u001b[0;31mNameError\u001b[0m                                 Traceback (most recent call last)",
      "\u001b[0;32m<ipython-input-42-642bcc470ef2>\u001b[0m in \u001b[0;36m<module>\u001b[0;34m\u001b[0m\n\u001b[0;32m----> 1\u001b[0;31m scores = cross_validate(lgbm, X, y, cv=5,\n\u001b[0m\u001b[1;32m      2\u001b[0m                         \u001b[0mscoring\u001b[0m\u001b[0;34m=\u001b[0m\u001b[0;34m(\u001b[0m\u001b[0;34m'r2'\u001b[0m\u001b[0;34m,\u001b[0m \u001b[0;34m'neg_root_mean_squared_error'\u001b[0m\u001b[0;34m)\u001b[0m\u001b[0;34m,\u001b[0m\u001b[0;34m\u001b[0m\u001b[0;34m\u001b[0m\u001b[0m\n\u001b[1;32m      3\u001b[0m                         \u001b[0mreturn_train_score\u001b[0m\u001b[0;34m=\u001b[0m\u001b[0;32mTrue\u001b[0m\u001b[0;34m,\u001b[0m\u001b[0;34m\u001b[0m\u001b[0;34m\u001b[0m\u001b[0m\n\u001b[1;32m      4\u001b[0m                         n_jobs=-1,verbose=1)\n",
      "\u001b[0;31mNameError\u001b[0m: name 'cross_validate' is not defined"
     ]
    }
   ],
   "source": [
    "scores = cross_validate(lgbm, X, y, cv=5,\n",
    "                        scoring=('r2', 'neg_root_mean_squared_error'),\n",
    "                        return_train_score=True,\n",
    "                        n_jobs=-1,verbose=1)"
   ]
  },
  {
   "cell_type": "code",
   "execution_count": null,
   "metadata": {
    "colab": {
     "base_uri": "https://localhost:8080/"
    },
    "id": "7P8D1cCZVv3N",
    "outputId": "e5cf36f0-fdaa-4559-ec8c-301ac5884424"
   },
   "outputs": [
    {
     "name": "stdout",
     "output_type": "stream",
     "text": [
      "Train RMSE: -362.6451590800392\n",
      "Train R2: 0.30086937180055545\n",
      "Test RMSE: -413.71830673433186\n",
      "Test R2: 0.022751019288465568\n"
     ]
    }
   ],
   "source": [
    "print(\"Train RMSE:\", scores['train_neg_root_mean_squared_error'].mean())\n",
    "print(\"Train R2:\", scores['train_r2'].mean())\n",
    "print(\"Test RMSE:\", scores['test_neg_root_mean_squared_error'].mean())\n",
    "print(\"Test R2:\", scores['test_r2'].mean())"
   ]
  },
  {
   "cell_type": "code",
   "execution_count": 43,
   "metadata": {
    "id": "ZhdJn0QNWN3s"
   },
   "outputs": [],
   "source": [
    "X_train, X_test, y_train, y_test = train_test_split(X, y, test_size=0.20,random_state=42)"
   ]
  },
  {
   "cell_type": "code",
   "execution_count": 44,
   "metadata": {
    "id": "-l9dQ-FfWN3s"
   },
   "outputs": [],
   "source": [
    "lgbm = LGBMRegressor(random_state=42).fit(X_train, y_train)"
   ]
  },
  {
   "cell_type": "code",
   "execution_count": 45,
   "metadata": {
    "id": "T7OaKgngWN3s"
   },
   "outputs": [],
   "source": [
    "y_pred = lgbm.predict(X_test)"
   ]
  },
  {
   "cell_type": "code",
   "execution_count": 46,
   "metadata": {
    "colab": {
     "base_uri": "https://localhost:8080/"
    },
    "id": "42fE-X6-WN3s",
    "outputId": "4e821330-50eb-47dc-a972-2a64ea2786cf"
   },
   "outputs": [
    {
     "name": "stdout",
     "output_type": "stream",
     "text": [
      "R2: 0.38112057695803236\n",
      "RMSE: 164.8493581949071\n"
     ]
    }
   ],
   "source": [
    "print(\"R2:\",r2_score(y_test, y_pred))\n",
    "print(\"RMSE:\",np.sqrt(mean_squared_error(y_test,y_pred)))"
   ]
  },
  {
   "cell_type": "code",
   "execution_count": 47,
   "metadata": {
    "colab": {
     "base_uri": "https://localhost:8080/",
     "height": 725
    },
    "id": "yTZ0J5vwN7HX",
    "outputId": "48444556-925c-4215-f6d7-9388c5bdfd54"
   },
   "outputs": [
    {
     "data": {
      "image/png": "[encoded data removed]",
      "text/plain": [
       "<Figure size 720x720 with 1 Axes>"
      ]
     },
     "metadata": {
      "needs_background": "light"
     },
     "output_type": "display_data"
    }
   ],
   "source": [
    "def plot_importance(model, features, num=30, save=False):\n",
    "    feature_imp = pd.DataFrame({'Value': model.feature_importances_, 'Feature': features.columns})\n",
    "    plt.figure(figsize=(10, 10))\n",
    "    sns.set(font_scale=1)\n",
    "    sns.barplot(x=\"Value\", y=\"Feature\", data=feature_imp.sort_values(by=\"Value\",\n",
    "                                                                      ascending=False)[0:num])\n",
    "    plt.title('Features')\n",
    "    plt.tight_layout()\n",
    "    plt.show()\n",
    "    if save:\n",
    "        plt.savefig('importances.png')\n",
    "\n",
    "\n",
    "plot_importance(lgbm, X)"
   ]
  },
  {
   "cell_type": "markdown",
   "metadata": {
    "id": "bOW-U4RU9Gk0"
   },
   "source": [
    "# Exporting CSV with necessary columns\n"
   ]
  },
  {
   "cell_type": "code",
   "execution_count": null,
   "metadata": {
    "colab": {
     "base_uri": "https://localhost:8080/"
    },
    "id": "nu5w6jNH8N1k",
    "outputId": "e0051189-e1f3-4c9d-db4a-13a6d0042f80"
   },
   "outputs": [
    {
     "data": {
      "text/plain": [
       "Index(['Unnamed: 0', 'id', 'listing_url', 'scrape_id', 'last_scraped', 'source', 'name', 'description', 'neighborhood_overview', 'picture_url', 'host_id', 'host_url', 'host_name', 'host_since', 'host_location', 'host_about', 'host_response_time', 'host_response_rate', 'host_acceptance_rate', 'host_is_superhost', 'host_thumbnail_url', 'host_picture_url', 'host_neighbourhood', 'host_listings_count', 'host_total_listings_count', 'host_verifications', 'host_has_profile_pic',\n",
       "       'host_identity_verified', 'neighbourhood', 'neighbourhood_cleansed', 'neighbourhood_group_cleansed', 'latitude', 'longitude', 'property_type', 'room_type', 'accommodates', 'bathrooms', 'bathrooms_text', 'bedrooms', 'beds', 'amenities', 'price', 'minimum_nights', 'maximum_nights', 'minimum_minimum_nights', 'maximum_minimum_nights', 'minimum_maximum_nights', 'maximum_maximum_nights', 'minimum_nights_avg_ntm', 'maximum_nights_avg_ntm', 'calendar_updated', 'has_availability',\n",
       "       'availability_30', 'availability_60', 'availability_90', 'availability_365', 'calendar_last_scraped', 'number_of_reviews', 'number_of_reviews_ltm', 'number_of_reviews_l30d', 'first_review', 'last_review', 'review_scores_rating', 'review_scores_accuracy', 'review_scores_cleanliness', 'review_scores_checkin', 'review_scores_communication', 'review_scores_location', 'review_scores_value', 'license', 'instant_bookable', 'calculated_host_listings_count',\n",
       "       'calculated_host_listings_count_entire_homes', 'calculated_host_listings_count_private_rooms', 'calculated_host_listings_count_shared_rooms', 'reviews_per_month', 'city'],\n",
       "      dtype='object')"
      ]
     },
     "execution_count": 25,
     "metadata": {},
     "output_type": "execute_result"
    }
   ],
   "source": [
    "df.columns"
   ]
  },
  {
   "cell_type": "code",
   "execution_count": null,
   "metadata": {
    "colab": {
     "base_uri": "https://localhost:8080/",
     "height": 284
    },
    "id": "_gK1PBal8etd",
    "outputId": "3bd79260-e2a4-4326-8443-d79b5d70bc39"
   },
   "outputs": [
    {
     "data": {
      "text/html": [
       "\n",
       "  <div id=\"df-72893659-430e-4f9d-8148-a98558d34d76\">\n",
       "    <div class=\"colab-df-container\">\n",
       "      <div>\n",
       "<style scoped>\n",
       "    .dataframe tbody tr th:only-of-type {\n",
       "        vertical-align: middle;\n",
       "    }\n",
       "\n",
       "    .dataframe tbody tr th {\n",
       "        vertical-align: top;\n",
       "    }\n",
       "\n",
       "    .dataframe thead th {\n",
       "        text-align: right;\n",
       "    }\n",
       "</style>\n",
       "<table border=\"1\" class=\"dataframe\">\n",
       "  <thead>\n",
       "    <tr style=\"text-align: right;\">\n",
       "      <th></th>\n",
       "      <th>Unnamed: 0</th>\n",
       "      <th>id</th>\n",
       "      <th>listing_url</th>\n",
       "      <th>scrape_id</th>\n",
       "      <th>last_scraped</th>\n",
       "      <th>source</th>\n",
       "      <th>name</th>\n",
       "      <th>description</th>\n",
       "      <th>neighborhood_overview</th>\n",
       "      <th>picture_url</th>\n",
       "      <th>host_id</th>\n",
       "      <th>host_url</th>\n",
       "      <th>host_name</th>\n",
       "      <th>host_since</th>\n",
       "      <th>host_location</th>\n",
       "      <th>host_about</th>\n",
       "      <th>host_response_time</th>\n",
       "      <th>host_response_rate</th>\n",
       "      <th>host_acceptance_rate</th>\n",
       "      <th>host_is_superhost</th>\n",
       "      <th>host_thumbnail_url</th>\n",
       "      <th>host_picture_url</th>\n",
       "      <th>host_neighbourhood</th>\n",
       "      <th>host_listings_count</th>\n",
       "      <th>host_total_listings_count</th>\n",
       "      <th>host_verifications</th>\n",
       "      <th>host_has_profile_pic</th>\n",
       "      <th>host_identity_verified</th>\n",
       "      <th>neighbourhood</th>\n",
       "      <th>neighbourhood_cleansed</th>\n",
       "      <th>neighbourhood_group_cleansed</th>\n",
       "      <th>latitude</th>\n",
       "      <th>longitude</th>\n",
       "      <th>property_type</th>\n",
       "      <th>room_type</th>\n",
       "      <th>accommodates</th>\n",
       "      <th>bathrooms</th>\n",
       "      <th>bathrooms_text</th>\n",
       "      <th>bedrooms</th>\n",
       "      <th>beds</th>\n",
       "      <th>amenities</th>\n",
       "      <th>price</th>\n",
       "      <th>minimum_nights</th>\n",
       "      <th>maximum_nights</th>\n",
       "      <th>minimum_minimum_nights</th>\n",
       "      <th>maximum_minimum_nights</th>\n",
       "      <th>minimum_maximum_nights</th>\n",
       "      <th>maximum_maximum_nights</th>\n",
       "      <th>minimum_nights_avg_ntm</th>\n",
       "      <th>maximum_nights_avg_ntm</th>\n",
       "      <th>calendar_updated</th>\n",
       "      <th>has_availability</th>\n",
       "      <th>availability_30</th>\n",
       "      <th>availability_60</th>\n",
       "      <th>availability_90</th>\n",
       "      <th>availability_365</th>\n",
       "      <th>calendar_last_scraped</th>\n",
       "      <th>number_of_reviews</th>\n",
       "      <th>number_of_reviews_ltm</th>\n",
       "      <th>number_of_reviews_l30d</th>\n",
       "      <th>first_review</th>\n",
       "      <th>last_review</th>\n",
       "      <th>review_scores_rating</th>\n",
       "      <th>review_scores_accuracy</th>\n",
       "      <th>review_scores_cleanliness</th>\n",
       "      <th>review_scores_checkin</th>\n",
       "      <th>review_scores_communication</th>\n",
       "      <th>review_scores_location</th>\n",
       "      <th>review_scores_value</th>\n",
       "      <th>license</th>\n",
       "      <th>instant_bookable</th>\n",
       "      <th>calculated_host_listings_count</th>\n",
       "      <th>calculated_host_listings_count_entire_homes</th>\n",
       "      <th>calculated_host_listings_count_private_rooms</th>\n",
       "      <th>calculated_host_listings_count_shared_rooms</th>\n",
       "      <th>reviews_per_month</th>\n",
       "      <th>city</th>\n",
       "    </tr>\n",
       "  </thead>\n",
       "  <tbody>\n",
       "    <tr>\n",
       "      <th>0</th>\n",
       "      <td>0</td>\n",
       "      <td>2818</td>\n",
       "      <td>https://www.airbnb.com/rooms/2818</td>\n",
       "      <td>20220907151523</td>\n",
       "      <td>2022-09-07</td>\n",
       "      <td>city scrape</td>\n",
       "      <td>Quiet Garden View Room &amp; Super Fast WiFi</td>\n",
       "      <td>Quiet Garden View Room &amp; Super Fast WiFi&lt;br /&gt;...</td>\n",
       "      <td>Indische Buurt (\"Indies Neighborhood\") is a ne...</td>\n",
       "      <td>https://a0.muscache.com/pictures/10272854/8dcc...</td>\n",
       "      <td>3159</td>\n",
       "      <td>https://www.airbnb.com/users/show/3159</td>\n",
       "      <td>Daniel</td>\n",
       "      <td>2008-09-24</td>\n",
       "      <td>Amsterdam, Netherlands</td>\n",
       "      <td>Upon arriving in Amsterdam, one can imagine as...</td>\n",
       "      <td>within an hour</td>\n",
       "      <td>100%</td>\n",
       "      <td>100%</td>\n",
       "      <td>t</td>\n",
       "      <td>https://a0.muscache.com/im/users/3159/profile_...</td>\n",
       "      <td>https://a0.muscache.com/im/users/3159/profile_...</td>\n",
       "      <td>Indische Buurt</td>\n",
       "      <td>1.000</td>\n",
       "      <td>1.000</td>\n",
       "      <td>['email', 'phone']</td>\n",
       "      <td>t</td>\n",
       "      <td>t</td>\n",
       "      <td>Amsterdam, North Holland, Netherlands</td>\n",
       "      <td>Oostelijk Havengebied - Indische Buurt</td>\n",
       "      <td>NaN</td>\n",
       "      <td>52.364</td>\n",
       "      <td>4.944</td>\n",
       "      <td>Private room in rental unit</td>\n",
       "      <td>Private room</td>\n",
       "      <td>2</td>\n",
       "      <td>NaN</td>\n",
       "      <td>1.5 shared baths</td>\n",
       "      <td>1.000</td>\n",
       "      <td>2.000</td>\n",
       "      <td>[\"Fire extinguisher\", \"Private entrance\", \"Lau...</td>\n",
       "      <td>49.000</td>\n",
       "      <td>3</td>\n",
       "      <td>28</td>\n",
       "      <td>3.000</td>\n",
       "      <td>3.000</td>\n",
       "      <td>1125.000</td>\n",
       "      <td>1125.000</td>\n",
       "      <td>3.000</td>\n",
       "      <td>1125.000</td>\n",
       "      <td>NaN</td>\n",
       "      <td>t</td>\n",
       "      <td>1</td>\n",
       "      <td>9</td>\n",
       "      <td>14</td>\n",
       "      <td>14</td>\n",
       "      <td>2022-09-07</td>\n",
       "      <td>305</td>\n",
       "      <td>25</td>\n",
       "      <td>1</td>\n",
       "      <td>2009-03-30</td>\n",
       "      <td>2022-08-30</td>\n",
       "      <td>4.890</td>\n",
       "      <td>4.940</td>\n",
       "      <td>5.000</td>\n",
       "      <td>4.970</td>\n",
       "      <td>4.980</td>\n",
       "      <td>4.690</td>\n",
       "      <td>4.820</td>\n",
       "      <td>0363 5F3A 5684 6750 D14D</td>\n",
       "      <td>t</td>\n",
       "      <td>1</td>\n",
       "      <td>0</td>\n",
       "      <td>1</td>\n",
       "      <td>0</td>\n",
       "      <td>1.860</td>\n",
       "      <td>Amsterdam</td>\n",
       "    </tr>\n",
       "  </tbody>\n",
       "</table>\n",
       "</div>\n",
       "      <button class=\"colab-df-convert\" onclick=\"convertToInteractive('df-72893659-430e-4f9d-8148-a98558d34d76')\"\n",
       "              title=\"Convert this dataframe to an interactive table.\"\n",
       "              style=\"display:none;\">\n",
       "        \n",
       "  <svg xmlns=\"http://www.w3.org/2000/svg\" height=\"24px\"viewBox=\"0 0 24 24\"\n",
       "       width=\"24px\">\n",
       "    <path d=\"M0 0h24v24H0V0z\" fill=\"none\"/>\n",
       "    <path d=\"M18.56 5.44l.94 2.06.94-2.06 2.06-.94-2.06-.94-.94-2.06-.94 2.06-2.06.94zm-11 1L8.5 8.5l.94-2.06 2.06-.94-2.06-.94L8.5 2.5l-.94 2.06-2.06.94zm10 10l.94 2.06.94-2.06 2.06-.94-2.06-.94-.94-2.06-.94 2.06-2.06.94z\"/><path d=\"M17.41 7.96l-1.37-1.37c-.4-.4-.92-.59-1.43-.59-.52 0-1.04.2-1.43.59L10.3 9.45l-7.72 7.72c-.78.78-.78 2.05 0 2.83L4 21.41c.39.39.9.59 1.41.59.51 0 1.02-.2 1.41-.59l7.78-7.78 2.81-2.81c.8-.78.8-2.07 0-2.86zM5.41 20L4 18.59l7.72-7.72 1.47 1.35L5.41 20z\"/>\n",
       "  </svg>\n",
       "      </button>\n",
       "      \n",
       "  <style>\n",
       "    .colab-df-container {\n",
       "      display:flex;\n",
       "      flex-wrap:wrap;\n",
       "      gap: 12px;\n",
       "    }\n",
       "\n",
       "    .colab-df-convert {\n",
       "      background-color: #E8F0FE;\n",
       "      border: none;\n",
       "      border-radius: 50%;\n",
       "      cursor: pointer;\n",
       "      display: none;\n",
       "      fill: #1967D2;\n",
       "      height: 32px;\n",
       "      padding: 0 0 0 0;\n",
       "      width: 32px;\n",
       "    }\n",
       "\n",
       "    .colab-df-convert:hover {\n",
       "      background-color: #E2EBFA;\n",
       "      box-shadow: 0px 1px 2px rgba(60, 64, 67, 0.3), 0px 1px 3px 1px rgba(60, 64, 67, 0.15);\n",
       "      fill: #174EA6;\n",
       "    }\n",
       "\n",
       "    [theme=dark] .colab-df-convert {\n",
       "      background-color: #3B4455;\n",
       "      fill: #D2E3FC;\n",
       "    }\n",
       "\n",
       "    [theme=dark] .colab-df-convert:hover {\n",
       "      background-color: #434B5C;\n",
       "      box-shadow: 0px 1px 3px 1px rgba(0, 0, 0, 0.15);\n",
       "      filter: drop-shadow(0px 1px 2px rgba(0, 0, 0, 0.3));\n",
       "      fill: #FFFFFF;\n",
       "    }\n",
       "  </style>\n",
       "\n",
       "      <script>\n",
       "        const buttonEl =\n",
       "          document.querySelector('#df-72893659-430e-4f9d-8148-a98558d34d76 button.colab-df-convert');\n",
       "        buttonEl.style.display =\n",
       "          google.colab.kernel.accessAllowed ? 'block' : 'none';\n",
       "\n",
       "        async function convertToInteractive(key) {\n",
       "          const element = document.querySelector('#df-72893659-430e-4f9d-8148-a98558d34d76');\n",
       "          const dataTable =\n",
       "            await google.colab.kernel.invokeFunction('convertToInteractive',\n",
       "                                                     [key], {});\n",
       "          if (!dataTable) return;\n",
       "\n",
       "          const docLinkHtml = 'Like what you see? Visit the ' +\n",
       "            '<a target=\"_blank\" href=https://colab.research.google.com/notebooks/data_table.ipynb>data table notebook</a>'\n",
       "            + ' to learn more about interactive tables.';\n",
       "          element.innerHTML = '';\n",
       "          dataTable['output_type'] = 'display_data';\n",
       "          await google.colab.output.renderOutput(dataTable, element);\n",
       "          const docLink = document.createElement('div');\n",
       "          docLink.innerHTML = docLinkHtml;\n",
       "          element.appendChild(docLink);\n",
       "        }\n",
       "      </script>\n",
       "    </div>\n",
       "  </div>\n",
       "  "
      ],
      "text/plain": [
       "   Unnamed: 0    id                        listing_url       scrape_id last_scraped       source                                      name                                        description                              neighborhood_overview                                        picture_url  host_id                                host_url host_name  host_since           host_location                                         host_about host_response_time host_response_rate host_acceptance_rate  \\\n",
       "0           0  2818  https://www.airbnb.com/rooms/2818  20220907151523   2022-09-07  city scrape  Quiet Garden View Room & Super Fast WiFi  Quiet Garden View Room & Super Fast WiFi<br />...  Indische Buurt (\"Indies Neighborhood\") is a ne...  https://a0.muscache.com/pictures/10272854/8dcc...     3159  https://www.airbnb.com/users/show/3159    Daniel  2008-09-24  Amsterdam, Netherlands  Upon arriving in Amsterdam, one can imagine as...     within an hour               100%                 100%   \n",
       "\n",
       "  host_is_superhost                                 host_thumbnail_url                                   host_picture_url host_neighbourhood  host_listings_count  host_total_listings_count  host_verifications host_has_profile_pic host_identity_verified                          neighbourhood                  neighbourhood_cleansed neighbourhood_group_cleansed  latitude  longitude                property_type     room_type  accommodates  bathrooms    bathrooms_text  bedrooms  beds  \\\n",
       "0                 t  https://a0.muscache.com/im/users/3159/profile_...  https://a0.muscache.com/im/users/3159/profile_...     Indische Buurt                1.000                      1.000  ['email', 'phone']                    t                      t  Amsterdam, North Holland, Netherlands  Oostelijk Havengebied - Indische Buurt                          NaN    52.364      4.944  Private room in rental unit  Private room             2        NaN  1.5 shared baths     1.000 2.000   \n",
       "\n",
       "                                           amenities  price  minimum_nights  maximum_nights  minimum_minimum_nights  maximum_minimum_nights  minimum_maximum_nights  maximum_maximum_nights  minimum_nights_avg_ntm  maximum_nights_avg_ntm  calendar_updated has_availability  availability_30  availability_60  availability_90  availability_365 calendar_last_scraped  number_of_reviews  number_of_reviews_ltm  number_of_reviews_l30d first_review last_review  review_scores_rating  \\\n",
       "0  [\"Fire extinguisher\", \"Private entrance\", \"Lau... 49.000               3              28                   3.000                   3.000                1125.000                1125.000                   3.000                1125.000               NaN                t                1                9               14                14            2022-09-07                305                     25                       1   2009-03-30  2022-08-30                 4.890   \n",
       "\n",
       "   review_scores_accuracy  review_scores_cleanliness  review_scores_checkin  review_scores_communication  review_scores_location  review_scores_value                   license instant_bookable  calculated_host_listings_count  calculated_host_listings_count_entire_homes  calculated_host_listings_count_private_rooms  calculated_host_listings_count_shared_rooms  reviews_per_month       city  \n",
       "0                   4.940                      5.000                  4.970                        4.980                   4.690                4.820  0363 5F3A 5684 6750 D14D                t                               1                                            0                                             1                                            0              1.860  Amsterdam  "
      ]
     },
     "execution_count": 26,
     "metadata": {},
     "output_type": "execute_result"
    }
   ],
   "source": [
    "df.head(1)"
   ]
  },
  {
   "cell_type": "code",
   "execution_count": null,
   "metadata": {
    "id": "hu-GL1A99FYY"
   },
   "outputs": [],
   "source": [
    "df_listings_stripped = df.copy()"
   ]
  },
  {
   "cell_type": "code",
   "execution_count": null,
   "metadata": {
    "id": "21Me4FHt9RfZ"
   },
   "outputs": [],
   "source": [
    "drop_list = ['Unnamed: 0', 'id', 'listing_url', 'scrape_id', 'last_scraped', 'source', 'name', 'description', 'neighborhood_overview', 'picture_url', 'host_id', 'host_url',\n",
    " 'host_name', 'host_since', 'host_location', 'host_about', 'host_thumbnail_url', 'host_picture_url', 'host_neighbourhood','neighbourhood', 'neighbourhood_group_cleansed',\n",
    " 'calendar_updated', 'calendar_last_scraped', 'first_review', 'last_review', 'license']\n",
    " \n",
    "df_listings_stripped.drop(drop_list,axis=1,inplace=True)"
   ]
  },
  {
   "cell_type": "code",
   "execution_count": null,
   "metadata": {
    "colab": {
     "base_uri": "https://localhost:8080/"
    },
    "id": "2P9q0-f7-7UT",
    "outputId": "94d64d40-85ac-4aa9-8a28-95298a0546a1"
   },
   "outputs": [
    {
     "name": "stdout",
     "output_type": "stream",
     "text": [
      "<class 'pandas.core.frame.DataFrame'>\n",
      "RangeIndex: 245139 entries, 0 to 245138\n",
      "Data columns (total 51 columns):\n",
      " #   Column                                        Non-Null Count   Dtype  \n",
      "---  ------                                        --------------   -----  \n",
      " 0   host_response_time                            177111 non-null  object \n",
      " 1   host_response_rate                            177111 non-null  object \n",
      " 2   host_acceptance_rate                          189118 non-null  object \n",
      " 3   host_is_superhost                             245035 non-null  object \n",
      " 4   host_listings_count                           245099 non-null  float64\n",
      " 5   host_total_listings_count                     245099 non-null  float64\n",
      " 6   host_verifications                            245139 non-null  object \n",
      " 7   host_has_profile_pic                          245099 non-null  object \n",
      " 8   host_identity_verified                        245099 non-null  object \n",
      " 9   neighbourhood_cleansed                        245139 non-null  object \n",
      " 10  latitude                                      245139 non-null  float64\n",
      " 11  longitude                                     245139 non-null  float64\n",
      " 12  property_type                                 245139 non-null  object \n",
      " 13  room_type                                     245139 non-null  object \n",
      " 14  accommodates                                  245139 non-null  int64  \n",
      " 15  bathrooms                                     0 non-null       float64\n",
      " 16  bathrooms_text                                244763 non-null  object \n",
      " 17  bedrooms                                      223308 non-null  float64\n",
      " 18  beds                                          241458 non-null  float64\n",
      " 19  amenities                                     245139 non-null  object \n",
      " 20  price                                         245139 non-null  float64\n",
      " 21  minimum_nights                                245139 non-null  int64  \n",
      " 22  maximum_nights                                245139 non-null  int64  \n",
      " 23  minimum_minimum_nights                        245114 non-null  float64\n",
      " 24  maximum_minimum_nights                        245114 non-null  float64\n",
      " 25  minimum_maximum_nights                        245114 non-null  float64\n",
      " 26  maximum_maximum_nights                        245114 non-null  float64\n",
      " 27  minimum_nights_avg_ntm                        245114 non-null  float64\n",
      " 28  maximum_nights_avg_ntm                        245114 non-null  float64\n",
      " 29  has_availability                              245139 non-null  object \n",
      " 30  availability_30                               245139 non-null  int64  \n",
      " 31  availability_60                               245139 non-null  int64  \n",
      " 32  availability_90                               245139 non-null  int64  \n",
      " 33  availability_365                              245139 non-null  int64  \n",
      " 34  number_of_reviews                             245139 non-null  int64  \n",
      " 35  number_of_reviews_ltm                         245139 non-null  int64  \n",
      " 36  number_of_reviews_l30d                        245139 non-null  int64  \n",
      " 37  review_scores_rating                          203315 non-null  float64\n",
      " 38  review_scores_accuracy                        201629 non-null  float64\n",
      " 39  review_scores_cleanliness                     201644 non-null  float64\n",
      " 40  review_scores_checkin                         201601 non-null  float64\n",
      " 41  review_scores_communication                   201636 non-null  float64\n",
      " 42  review_scores_location                        201593 non-null  float64\n",
      " 43  review_scores_value                           201585 non-null  float64\n",
      " 44  instant_bookable                              245139 non-null  object \n",
      " 45  calculated_host_listings_count                245139 non-null  int64  \n",
      " 46  calculated_host_listings_count_entire_homes   245139 non-null  int64  \n",
      " 47  calculated_host_listings_count_private_rooms  245139 non-null  int64  \n",
      " 48  calculated_host_listings_count_shared_rooms   245139 non-null  int64  \n",
      " 49  reviews_per_month                             203314 non-null  float64\n",
      " 50  city                                          245139 non-null  object \n",
      "dtypes: float64(22), int64(14), object(15)\n",
      "memory usage: 95.4+ MB\n"
     ]
    }
   ],
   "source": [
    "df_listings_stripped.info()"
   ]
  },
  {
   "cell_type": "code",
   "execution_count": null,
   "metadata": {
    "id": "_kYsZJXY9taZ"
   },
   "outputs": [],
   "source": [
    "df_listings_stripped.to_csv('df_listings_stripped.csv', index=False)"
   ]
  }
 ],
 "metadata": {
  "colab": {
   "collapsed_sections": [
    "3XCRIq_IaZ8U",
    "zYnCTWyW8Ltk",
    "a4BZuqrlzaiN",
    "5MYaEfQ3m81y"
   ],
   "provenance": []
  },
  "kernelspec": {
   "display_name": "Python 3 (ipykernel)",
   "language": "python",
   "name": "python3"
  },
  "language_info": {
   "codemirror_mode": {
    "name": "ipython",
    "version": 3
   },
   "file_extension": ".py",
   "mimetype": "text/x-python",
   "name": "python",
   "nbconvert_exporter": "python",
   "pygments_lexer": "ipython3",
   "version": "3.11.7"
  },
  "vscode": {
   "interpreter": {
    "hash": "7ccd70e4b320ddd7179f52acf0d4489da73a6753dc3cd636ed547bf071eaf5f1"
   }
  }
 },
 "nbformat": 4,
 "nbformat_minor": 4
}
